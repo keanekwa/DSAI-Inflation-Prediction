{
 "cells": [
  {
   "cell_type": "markdown",
   "source": "## 6. Long Short Term Memory (LSTM) Neural Network",
   "metadata": {
    "cell_id": "e5b3e9d1e68d4549a4d76f4222f9f1e3",
    "tags": [],
    "deepnote_cell_type": "markdown",
    "deepnote_cell_height": 70
   }
  },
  {
   "cell_type": "markdown",
   "source": "Long Short-Term Memory (LSTM) networks are a type of recurrent neural network capable of learning order dependence in sequence prediction problems. LSTM networks are composed of nodes or LSTM units. A common LSTM unit is composed of a cell, an input gate, an output gate and a forget gate. The cell remembers values over arbitrary time intervals and the three gates regulate the flow of information into and out of the cell.\n\nLSTMs were developed to deal with the vanishing gradient problem that can be encountered when training traditional RNNs. Relative insensitivity to gap length is an advantage of LSTM over RNNs, hidden Markov models and other sequence learning methods in numerous applications. As such, LSTM networks are well-suited to classifying, processing and making predictions based on time series data, since there can be lags of unknown duration between important events in a time series.\n",
   "metadata": {
    "cell_id": "0d6f5d4bdb7e4a99a68589d57e0cebce",
    "tags": [],
    "deepnote_cell_type": "markdown",
    "deepnote_cell_height": 245.53125
   }
  },
  {
   "cell_type": "code",
   "metadata": {
    "tags": [],
    "cell_id": "80c5fb88-2c65-4fb4-b5ad-a6d7e1379d49",
    "deepnote_to_be_reexecuted": false,
    "source_hash": "e827d8b8",
    "execution_start": 1650806871426,
    "execution_millis": 7005,
    "owner_user_id": "62d920bd-8e66-4b5e-9422-43d711ef71cb",
    "deepnote_cell_type": "code",
    "deepnote_cell_height": 387
   },
   "source": "# Import essential libraries\nimport pandas as pd\nimport numpy as np\nimport matplotlib.pyplot as plt\nfrom math import sqrt\nfrom functools import reduce\nfrom pandas import read_csv\nfrom matplotlib import pyplot\n\n# Import LSTM libraries\nfrom sklearn.preprocessing import MinMaxScaler\nfrom sklearn.model_selection import train_test_split\nfrom keras.preprocessing.sequence import TimeseriesGenerator\nfrom keras.models import Sequential\nfrom keras.layers import Dense\nfrom keras.layers import LSTM\nfrom sklearn.metrics import mean_squared_error\nimport tensorflow as tf ",
   "execution_count": 1,
   "outputs": []
  },
  {
   "cell_type": "markdown",
   "source": "### Predicting CPI using lagged CPI data",
   "metadata": {
    "cell_id": "2e9b772e8066444c9eb60f75489a5a5f",
    "tags": [],
    "deepnote_cell_type": "markdown",
    "deepnote_cell_height": 62
   }
  },
  {
   "cell_type": "markdown",
   "source": "We will aim to use the LSTM model to predict monthly CPI change",
   "metadata": {
    "cell_id": "51cebd36e0fc45fabad54d1271293a89",
    "tags": [],
    "deepnote_cell_type": "markdown",
    "deepnote_cell_height": 52.390625
   }
  },
  {
   "cell_type": "code",
   "metadata": {
    "cell_id": "771d6748424641389b5ef0de950a48c9",
    "tags": [],
    "deepnote_to_be_reexecuted": false,
    "source_hash": "29c4f7e4",
    "execution_start": 1650807385086,
    "execution_millis": 20,
    "deepnote_cell_type": "code",
    "deepnote_cell_height": 262.1875,
    "deepnote_output_heights": [
     21.1875
    ]
   },
   "source": "cpi_df = pd.read_csv('cleaned_cpi.csv')\n\n# Set date column as index\n#cpi_df.set_index('Date', inplace = True)\n\n# Remove change columns as we will be using the absolute index value for this\ncpi_df.drop(columns = ['Value', 'ChangePercentYear'], axis = 1, inplace = True)\ncpi_df.dropna(inplace = True)\nlen(cpi_df)",
   "execution_count": 27,
   "outputs": [
    {
     "output_type": "execute_result",
     "execution_count": 27,
     "data": {
      "text/plain": "1310"
     },
     "metadata": {}
    }
   ]
  },
  {
   "cell_type": "markdown",
   "source": "1310 Total Rows. Split to allow last 10 years for testing\n\nTrain set = first 1190 rows\n\nTest set = last 120 rows",
   "metadata": {
    "cell_id": "18993006a1e04ca8aee7750e6714c1d4",
    "tags": [],
    "deepnote_cell_type": "markdown",
    "deepnote_cell_height": 125.171875
   }
  },
  {
   "cell_type": "code",
   "source": "cpi_train = cpi_df.iloc[:1190]\ncpi_test = cpi_df.iloc[1190:]\n\n# Pre-process data using a minmaxscaler to convert all data attributes to a range of 0-1\n# Instantiate scaler object\nscaler = MinMaxScaler(feature_range=(-1, 1))\nscaler.fit(cpi_train.set_index('Date'))\nscaled_cpi_train = scaler.transform(cpi_train.set_index('Date'))\nscaled_cpi_test = scaler.transform(cpi_test.set_index('Date'))",
   "metadata": {
    "cell_id": "6ccbb5b2e52a43f9aa37d9d5175ddcd5",
    "tags": [],
    "deepnote_to_be_reexecuted": false,
    "source_hash": "81dfa450",
    "execution_start": 1650807411730,
    "execution_millis": 1,
    "deepnote_table_state": {
     "pageSize": 10,
     "pageIndex": 128,
     "filters": [],
     "sortBy": []
    },
    "deepnote_table_loading": false,
    "deepnote_cell_type": "code",
    "deepnote_cell_height": 225
   },
   "outputs": [],
   "execution_count": 29
  },
  {
   "cell_type": "code",
   "source": "# define generator\nn_input = 12  # We will use the last 12 months of CPI data to predict the next month\nn_features = 1\ngenerator = TimeseriesGenerator(scaled_cpi_train, scaled_cpi_train, length=n_input, batch_size=1)",
   "metadata": {
    "cell_id": "d05256683fd741a786018231a0a2ca05",
    "tags": [],
    "deepnote_to_be_reexecuted": false,
    "source_hash": "99b1f106",
    "execution_start": 1650807411731,
    "execution_millis": 0,
    "deepnote_cell_type": "code",
    "deepnote_cell_height": 135
   },
   "outputs": [],
   "execution_count": 30
  },
  {
   "cell_type": "code",
   "metadata": {
    "cell_id": "bf35259582724d798b332d4036e024f5",
    "tags": [],
    "deepnote_to_be_reexecuted": false,
    "source_hash": "b1bbb826",
    "execution_start": 1650807411731,
    "execution_millis": 46648,
    "deepnote_cell_type": "code",
    "deepnote_cell_height": 760.84375,
    "deepnote_output_heights": [
     null,
     21.1875
    ]
   },
   "source": "# define our LSTM model\nmodel = Sequential()\n# LSTM with 100 nodes\nmodel.add(LSTM(100, activation='relu', input_shape=(n_input, n_features)))\nmodel.add(Dense(1))\nmodel.compile(optimizer='adam', loss='mse')   # loss function assigned to mean square error\nmodel.summary()\n\n# fit the model\nmodel.fit(generator, epochs = 5)",
   "execution_count": 31,
   "outputs": [
    {
     "name": "stdout",
     "text": "Model: \"sequential_2\"\n_________________________________________________________________\n Layer (type)                Output Shape              Param #   \n=================================================================\n lstm_2 (LSTM)               (None, 100)               40800     \n                                                                 \n dense_2 (Dense)             (None, 1)                 101       \n                                                                 \n=================================================================\nTotal params: 40,901\nTrainable params: 40,901\nNon-trainable params: 0\n_________________________________________________________________\nEpoch 1/5\n1178/1178 [==============================] - 15s 11ms/step - loss: 0.0182\nEpoch 2/5\n1178/1178 [==============================] - 8s 6ms/step - loss: 0.0166\nEpoch 3/5\n1178/1178 [==============================] - 7s 6ms/step - loss: 0.0162\nEpoch 4/5\n1178/1178 [==============================] - 7s 6ms/step - loss: 0.0164\nEpoch 5/5\n1178/1178 [==============================] - 7s 6ms/step - loss: 0.0161\n",
     "output_type": "stream"
    },
    {
     "output_type": "execute_result",
     "execution_count": 31,
     "data": {
      "text/plain": "<keras.callbacks.History at 0x7f57bcb01090>"
     },
     "metadata": {}
    }
   ]
  },
  {
   "cell_type": "code",
   "metadata": {
    "cell_id": "8ee8cad2ce364e7b9db3ecd790dd716c",
    "tags": [],
    "deepnote_to_be_reexecuted": false,
    "source_hash": "11a6599",
    "execution_start": 1650807458371,
    "execution_millis": 156,
    "deepnote_cell_type": "code",
    "deepnote_cell_height": 435.1875,
    "deepnote_output_heights": [
     21.1875,
     250
    ]
   },
   "source": "# plot the loss per epoch\nloss_per_epoch = model.history.history['loss']\nplt.plot(range(len(loss_per_epoch)),loss_per_epoch)",
   "execution_count": 32,
   "outputs": [
    {
     "output_type": "execute_result",
     "execution_count": 32,
     "data": {
      "text/plain": "[<matplotlib.lines.Line2D at 0x7f57bccacd10>]"
     },
     "metadata": {}
    },
    {
     "data": {
      "text/plain": "<Figure size 432x288 with 1 Axes>",
      "image/png": "[encoded data removed]"
     },
     "metadata": {
      "needs_background": "light",
      "image/png": {
       "width": 391,
       "height": 248
      }
     },
     "output_type": "display_data"
    }
   ]
  },
  {
   "cell_type": "code",
   "metadata": {
    "cell_id": "76f51aeecb53439d99786aa7358b36bc",
    "tags": [],
    "deepnote_to_be_reexecuted": false,
    "source_hash": "914387c9",
    "execution_start": 1650807492561,
    "execution_millis": 9420,
    "deepnote_cell_type": "code",
    "deepnote_cell_height": 423
   },
   "source": "# Use the trained model to generate and store our test predictions\ntest_predictions = []\n\nfirst_eval_batch = scaled_cpi_train[-n_input:]\ncurrent_batch = first_eval_batch.reshape((1, n_input, n_features))\nn=0\n\nfor i in range(len(scaled_cpi_test)):\n    \n    # get the prediction value for the first batch\n    current_pred = model.predict(current_batch)[0]\n    \n    # append the prediction into the array\n    test_predictions.append(current_pred) \n    \n    # remove the first value and update the batch with the next value from the test set\n    current_batch = np.append(current_batch[:,1:,:],scaled_cpi_test[n:n+1].reshape((1, 1, n_features)),axis=1)\n    n += 1\n\n",
   "execution_count": 34,
   "outputs": []
  },
  {
   "cell_type": "code",
   "source": "# Convert our predictions back to their pre scaled forms\ntrue_predictions = scaler.inverse_transform(test_predictions)\n\n# Apend the predictions back to the test data set\ncpi_test['Predictions'] = true_predictions",
   "metadata": {
    "cell_id": "baf9b64c2e234ae58a447a74a6341b29",
    "tags": [],
    "deepnote_to_be_reexecuted": false,
    "source_hash": "5a48c3e5",
    "execution_start": 1650807525740,
    "execution_millis": 5,
    "deepnote_table_state": {
     "pageSize": 10,
     "pageIndex": 11,
     "filters": [],
     "sortBy": []
    },
    "deepnote_table_loading": false,
    "deepnote_cell_type": "code",
    "deepnote_cell_height": 287.171875
   },
   "outputs": [
    {
     "name": "stderr",
     "text": "/shared-libs/python3.7/py-core/lib/python3.7/site-packages/ipykernel_launcher.py:6: SettingWithCopyWarning: \nA value is trying to be set on a copy of a slice from a DataFrame.\nTry using .loc[row_indexer,col_indexer] = value instead\n\nSee the caveats in the documentation: https://pandas.pydata.org/pandas-docs/stable/user_guide/indexing.html#returning-a-view-versus-a-copy\n  \n",
     "output_type": "stream"
    }
   ],
   "execution_count": 36
  },
  {
   "cell_type": "code",
   "source": "cpi_test.set_index('Date', inplace = True)\ncpi_test.plot(figsize=(14,5))\nuni_rmse=sqrt(mean_squared_error(cpi_test['ChangePercentMonth'],cpi_test['Predictions']))\nprint('Test RMSE:' , uni_rmse)",
   "metadata": {
    "cell_id": "cc59e8ec5534474cae878cb53c582923",
    "tags": [],
    "deepnote_to_be_reexecuted": false,
    "source_hash": "4de51c03",
    "execution_start": 1650807531785,
    "execution_millis": 407,
    "deepnote_cell_type": "code",
    "deepnote_cell_height": 505.71875,
    "deepnote_output_heights": [
     null,
     308.96875
    ]
   },
   "outputs": [
    {
     "name": "stdout",
     "text": "Test RMSE: 0.0030784026279769673\n",
     "output_type": "stream"
    },
    {
     "data": {
      "text/plain": "<Figure size 1008x360 with 1 Axes>",
      "image/png": "[encoded data removed]"
     },
     "metadata": {
      "needs_background": "light",
      "image/png": {
       "width": 845,
       "height": 317
      }
     },
     "output_type": "display_data"
    }
   ],
   "execution_count": 37
  },
  {
   "cell_type": "markdown",
   "source": "### Multivariate Forecasting of CPI with LTSMD",
   "metadata": {
    "cell_id": "927906eae5604e9da668df3c9462aec5",
    "tags": [],
    "deepnote_cell_type": "markdown",
    "deepnote_cell_height": 62
   }
  },
  {
   "cell_type": "markdown",
   "source": "#### Data Preparation\nFor this section, we will aim to create a Long Short Term Memory model which accepts inputs from a variety of predictors to forecast CPI.\n\nWe will use the 4 highest correlated variables based on monthly percentage change that we found in the Data Visualisation part of this project: LaggedCPI, PPI, unemployment rates, and oil prices.\n",
   "metadata": {
    "cell_id": "8c77fab9c1334c5f9919d5eca59aa233",
    "tags": [],
    "deepnote_cell_type": "markdown",
    "deepnote_cell_height": 169.5625
   }
  },
  {
   "cell_type": "code",
   "source": "# Import all datasets\noil_data_clean = pd.read_csv('cleaned_oil.csv')\nppi_data_clean = pd.read_csv('cleaned_ppi.csv')\nunemp_data_clean = pd.read_csv('cleaned_unemp.csv')\nlcpi_data_clean = pd.read_csv('cleaned_lagged_cpi.csv')\ncpi_data_clean = pd.read_csv('cleaned_cpi.csv')",
   "metadata": {
    "cell_id": "2ab3a65df4754884ac6d0820df445b39",
    "tags": [],
    "deepnote_to_be_reexecuted": false,
    "source_hash": "ee22cb57",
    "execution_start": 1650808228982,
    "execution_millis": 75,
    "deepnote_cell_type": "code",
    "deepnote_cell_height": 171
   },
   "outputs": [],
   "execution_count": 57
  },
  {
   "cell_type": "markdown",
   "source": "For this model, we will be using the monthly change data as inputs. We will thus clean and compile the datasets as such.",
   "metadata": {
    "cell_id": "1678ffeabd274117aab1262ddd6882f7",
    "tags": [],
    "deepnote_cell_type": "markdown",
    "deepnote_cell_height": 52.390625
   }
  },
  {
   "cell_type": "code",
   "source": "oil_data_clean.drop(columns = ['ChangePercentYear', 'Value'], axis = 1, inplace = True)\nppi_data_clean.drop(columns = ['ChangePercentYear', 'Value'], axis = 1, inplace = True)\nunemp_data_clean.drop(columns = ['ChangePercentYear', 'Value'], axis = 1, inplace = True)\nlcpi_data_clean.drop(columns = ['ChangePercentYear', 'Value'], axis = 1, inplace = True)\ncpi_data_clean.drop(columns = ['ChangePercentYear', 'Value'], axis = 1, inplace = True)",
   "metadata": {
    "cell_id": "41283bbd38204fde935448a0c1b86ead",
    "tags": [],
    "deepnote_to_be_reexecuted": false,
    "source_hash": "222ef75a",
    "execution_start": 1650808229057,
    "execution_millis": 1,
    "deepnote_cell_type": "code",
    "deepnote_cell_height": 153
   },
   "outputs": [],
   "execution_count": 58
  },
  {
   "cell_type": "code",
   "source": "oil_data_clean.columns = ['Date','Oil']\noil_data_clean.dropna(inplace = True)\nppi_data_clean.columns = ['Date','PPI']\nppi_data_clean.dropna(inplace = True)\nunemp_data_clean.columns = ['Date','Unemployment']\nunemp_data_clean.dropna(inplace = True)\nlcpi_data_clean.columns = ['Date','LaggedCPI']\nlcpi_data_clean.dropna(inplace = True)\ncpi_data_clean.columns = ['Date','CPI']\ncpi_data_clean.dropna(inplace = True)\n\ndataframe_list = [cpi_data_clean, oil_data_clean, ppi_data_clean, unemp_data_clean, lcpi_data_clean]\n# Join all datasets together\ndf_merged = reduce(lambda  left,right: pd.merge(left,right,on=['Date'], how='inner'), dataframe_list)\ndf_merged.set_index('Date', inplace = True)",
   "metadata": {
    "cell_id": "c86889602b9546dea94a00c98e6b11f4",
    "tags": [],
    "deepnote_to_be_reexecuted": false,
    "source_hash": "77a32ada",
    "execution_start": 1650808229058,
    "execution_millis": 5,
    "deepnote_table_state": {
     "pageSize": 10,
     "pageIndex": 17,
     "filters": [],
     "sortBy": []
    },
    "deepnote_table_loading": false,
    "deepnote_cell_type": "code",
    "deepnote_cell_height": 333
   },
   "outputs": [],
   "execution_count": 59
  },
  {
   "cell_type": "markdown",
   "source": "With our data prepared and time period selected, lets do a quick plot of our datasets",
   "metadata": {
    "cell_id": "e21324256ef44e5a86a0f916d4741b08",
    "tags": [],
    "deepnote_cell_type": "markdown",
    "deepnote_cell_height": 52.390625
   }
  },
  {
   "cell_type": "code",
   "source": "values = df_merged.values\n# specify columns to plot\ngroups = [0, 1, 2, 3, 4]\ni = 1\n# plot each column\npyplot.figure()\nfor group in groups:\n\tpyplot.subplot(len(groups), 1, i)\n\tpyplot.plot(values[:, group])\n\tpyplot.title(df_merged.columns[group], y=0.5, loc='right')\n\ti += 1\npyplot.show()",
   "metadata": {
    "cell_id": "8ae31ccd743e4c0195e12018a2840a8c",
    "tags": [],
    "deepnote_to_be_reexecuted": false,
    "source_hash": "da02bfa9",
    "execution_start": 1650808229077,
    "execution_millis": 605,
    "deepnote_cell_type": "code",
    "deepnote_cell_height": 545,
    "deepnote_output_heights": [
     250
    ]
   },
   "outputs": [
    {
     "data": {
      "text/plain": "<Figure size 432x288 with 5 Axes>",
      "image/png": "[encoded data removed]"
     },
     "metadata": {
      "needs_background": "light",
      "image/png": {
       "width": 386,
       "height": 248
      }
     },
     "output_type": "display_data"
    }
   ],
   "execution_count": 60
  },
  {
   "cell_type": "markdown",
   "source": "#### Data Preparation for LSTM Model\n\nWe will be using the last month of data to predict CPI",
   "metadata": {
    "cell_id": "47db8dcc5788402ba5ca78817a2e0099",
    "tags": [],
    "deepnote_cell_type": "markdown",
    "deepnote_cell_height": 88.390625
   }
  },
  {
   "cell_type": "code",
   "source": "df_merged",
   "metadata": {
    "cell_id": "f612a0d3f9824f35a4c02d46e1c0e209",
    "tags": [],
    "deepnote_to_be_reexecuted": false,
    "source_hash": "d251a671",
    "execution_start": 1650808229692,
    "execution_millis": 20,
    "deepnote_table_state": {
     "pageSize": 10,
     "pageIndex": 45,
     "filters": [],
     "sortBy": []
    },
    "deepnote_table_loading": false,
    "deepnote_table_invalid": false,
    "deepnote_cell_type": "code",
    "deepnote_cell_height": 600
   },
   "outputs": [
    {
     "output_type": "execute_result",
     "execution_count": 61,
     "data": {
      "application/vnd.deepnote.dataframe.v3+json": {
       "column_count": 5,
       "row_count": 464,
       "columns": [
        {
         "name": "CPI",
         "dtype": "float64",
         "stats": {
          "unique_count": 437,
          "nan_count": 0,
          "min": "-0.019153",
          "max": "0.01222",
          "histogram": [
           {
            "bin_start": -0.019153,
            "bin_end": -0.0160157,
            "count": 1
           },
           {
            "bin_start": -0.0160157,
            "bin_end": -0.0128784,
            "count": 0
           },
           {
            "bin_start": -0.0128784,
            "bin_end": -0.009741099999999999,
            "count": 2
           },
           {
            "bin_start": -0.009741099999999999,
            "bin_end": -0.0066038,
            "count": 2
           },
           {
            "bin_start": -0.0066038,
            "bin_end": -0.003466500000000001,
            "count": 11
           },
           {
            "bin_start": -0.003466500000000001,
            "bin_end": -0.00032919999999999824,
            "count": 59
           },
           {
            "bin_start": -0.00032919999999999824,
            "bin_end": 0.002808100000000001,
            "count": 191
           },
           {
            "bin_start": 0.002808100000000001,
            "bin_end": 0.0059454,
            "count": 158
           },
           {
            "bin_start": 0.0059454,
            "bin_end": 0.009082699999999999,
            "count": 33
           },
           {
            "bin_start": 0.009082699999999999,
            "bin_end": 0.01222,
            "count": 7
           }
          ]
         }
        },
        {
         "name": "Oil",
         "dtype": "float64",
         "stats": {
          "unique_count": 464,
          "nan_count": 0,
          "min": "-0.542449",
          "max": "0.883758",
          "histogram": [
           {
            "bin_start": -0.542449,
            "bin_end": -0.39982829999999997,
            "count": 1
           },
           {
            "bin_start": -0.39982829999999997,
            "bin_end": -0.2572076,
            "count": 3
           },
           {
            "bin_start": -0.2572076,
            "bin_end": -0.11458689999999999,
            "count": 32
           },
           {
            "bin_start": -0.11458689999999999,
            "bin_end": 0.028033799999999998,
            "count": 239
           },
           {
            "bin_start": 0.028033799999999998,
            "bin_end": 0.17065449999999993,
            "count": 169
           },
           {
            "bin_start": 0.17065449999999993,
            "bin_end": 0.3132752,
            "count": 15
           },
           {
            "bin_start": 0.3132752,
            "bin_end": 0.4558959,
            "count": 4
           },
           {
            "bin_start": 0.4558959,
            "bin_end": 0.5985166,
            "count": 0
           },
           {
            "bin_start": 0.5985166,
            "bin_end": 0.7411372999999999,
            "count": 0
           },
           {
            "bin_start": 0.7411372999999999,
            "bin_end": 0.883758,
            "count": 1
           }
          ]
         }
        },
        {
         "name": "PPI",
         "dtype": "float64",
         "stats": {
          "unique_count": 441,
          "nan_count": 0,
          "min": "-0.053327",
          "max": "0.032125",
          "histogram": [
           {
            "bin_start": -0.053327,
            "bin_end": -0.0447818,
            "count": 2
           },
           {
            "bin_start": -0.0447818,
            "bin_end": -0.0362366,
            "count": 1
           },
           {
            "bin_start": -0.0362366,
            "bin_end": -0.0276914,
            "count": 3
           },
           {
            "bin_start": -0.0276914,
            "bin_end": -0.019146200000000002,
            "count": 4
           },
           {
            "bin_start": -0.019146200000000002,
            "bin_end": -0.010601,
            "count": 22
           },
           {
            "bin_start": -0.010601,
            "bin_end": -0.0020558000000000035,
            "count": 80
           },
           {
            "bin_start": -0.0020558000000000035,
            "bin_end": 0.006489399999999992,
            "count": 236
           },
           {
            "bin_start": 0.006489399999999992,
            "bin_end": 0.015034599999999995,
            "count": 84
           },
           {
            "bin_start": 0.015034599999999995,
            "bin_end": 0.023579799999999998,
            "count": 22
           },
           {
            "bin_start": 0.023579799999999998,
            "bin_end": 0.032125,
            "count": 10
           }
          ]
         }
        },
        {
         "name": "Unemployment",
         "dtype": "float64",
         "stats": {
          "unique_count": 265,
          "nan_count": 0,
          "min": "-0.190476",
          "max": "2.2",
          "histogram": [
           {
            "bin_start": -0.190476,
            "bin_end": 0.04857159999999999,
            "count": 384
           },
           {
            "bin_start": 0.04857159999999999,
            "bin_end": 0.28761919999999996,
            "count": 79
           },
           {
            "bin_start": 0.28761919999999996,
            "bin_end": 0.5266668,
            "count": 0
           },
           {
            "bin_start": 0.5266668,
            "bin_end": 0.7657144,
            "count": 0
           },
           {
            "bin_start": 0.7657144,
            "bin_end": 1.004762,
            "count": 0
           },
           {
            "bin_start": 1.004762,
            "bin_end": 1.2438095999999998,
            "count": 0
           },
           {
            "bin_start": 1.2438095999999998,
            "bin_end": 1.4828572,
            "count": 0
           },
           {
            "bin_start": 1.4828572,
            "bin_end": 1.7219048,
            "count": 0
           },
           {
            "bin_start": 1.7219048,
            "bin_end": 1.9609523999999998,
            "count": 0
           },
           {
            "bin_start": 1.9609523999999998,
            "bin_end": 2.2,
            "count": 1
           }
          ]
         }
        },
        {
         "name": "LaggedCPI",
         "dtype": "float64",
         "stats": {
          "unique_count": 436,
          "nan_count": 0,
          "min": "-0.019153",
          "max": "0.01222",
          "histogram": [
           {
            "bin_start": -0.019153,
            "bin_end": -0.0160157,
            "count": 1
           },
           {
            "bin_start": -0.0160157,
            "bin_end": -0.0128784,
            "count": 0
           },
           {
            "bin_start": -0.0128784,
            "bin_end": -0.009741099999999999,
            "count": 2
           },
           {
            "bin_start": -0.009741099999999999,
            "bin_end": -0.0066038,
            "count": 2
           },
           {
            "bin_start": -0.0066038,
            "bin_end": -0.003466500000000001,
            "count": 11
           },
           {
            "bin_start": -0.003466500000000001,
            "bin_end": -0.00032919999999999824,
            "count": 59
           },
           {
            "bin_start": -0.00032919999999999824,
            "bin_end": 0.002808100000000001,
            "count": 192
           },
           {
            "bin_start": 0.002808100000000001,
            "bin_end": 0.0059454,
            "count": 157
           },
           {
            "bin_start": 0.0059454,
            "bin_end": 0.009082699999999999,
            "count": 33
           },
           {
            "bin_start": 0.009082699999999999,
            "bin_end": 0.01222,
            "count": 7
           }
          ]
         }
        },
        {
         "name": "_deepnote_index_column",
         "dtype": "object"
        }
       ],
       "rows": [
        {
         "CPI": 0.000415,
         "Oil": -0.110144,
         "PPI": 0.005115,
         "Unemployment": -0.142857,
         "LaggedCPI": 0.001393,
         "_deepnote_index_column": "2020-10"
        },
        {
         "CPI": -0.000611,
         "Oil": 0.266834,
         "PPI": 0.00916,
         "Unemployment": -0.030303,
         "LaggedCPI": 0.000415,
         "_deepnote_index_column": "2020-11"
        },
        {
         "CPI": 0.000941,
         "Oil": 0.070137,
         "PPI": 0.011094,
         "Unemployment": 0.015625,
         "LaggedCPI": -0.000611,
         "_deepnote_index_column": "2020-12"
        },
        {
         "CPI": 0.004254,
         "Oil": 0.075845,
         "PPI": 0.021446,
         "Unemployment": 0.046154,
         "LaggedCPI": 0.000941,
         "_deepnote_index_column": "2021-01"
        },
        {
         "CPI": 0.005474,
         "Oil": 0.178161,
         "PPI": 0.02832,
         "Unemployment": -0.029412,
         "LaggedCPI": 0.004254,
         "_deepnote_index_column": "2021-02"
        },
        {
         "CPI": 0.007083,
         "Oil": -0.038049,
         "PPI": 0.020893,
         "Unemployment": -0.060606,
         "LaggedCPI": 0.005474,
         "_deepnote_index_column": "2021-03"
        },
        {
         "CPI": 0.008219,
         "Oil": 0.074713,
         "PPI": 0.013488,
         "Unemployment": -0.080645,
         "LaggedCPI": 0.007083,
         "_deepnote_index_column": "2021-04"
        },
        {
         "CPI": 0.008017,
         "Oil": 0.05269,
         "PPI": 0.032125,
         "Unemployment": -0.035088,
         "LaggedCPI": 0.008219,
         "_deepnote_index_column": "2021-05"
        },
        {
         "CPI": 0.009291,
         "Oil": 0.097714,
         "PPI": 0.017786,
         "Unemployment": 0.109091,
         "LaggedCPI": 0.008017,
         "_deepnote_index_column": "2021-06"
        },
        {
         "CPI": 0.004811,
         "Oil": 0.006533,
         "PPI": 0.012888,
         "Unemployment": -0.065574,
         "LaggedCPI": 0.009291,
         "_deepnote_index_column": "2021-07"
        }
       ]
      },
      "text/plain": "              CPI       Oil       PPI  Unemployment  LaggedCPI\nDate                                                          \n1983-04  0.007150  0.046464  0.000000     -0.074074   0.000000\n1983-05  0.006085 -0.012406  0.003984     -0.020000   0.007150\n1983-06  0.003024  0.037355  0.001984      0.040816   0.006085\n1983-07  0.004020  0.019758  0.002970     -0.078431   0.003024\n1983-08  0.003003 -0.012813  0.004936     -0.021277   0.004020\n...           ...       ...       ...           ...        ...\n2021-07  0.004811  0.006533  0.012888     -0.065574   0.009291\n2021-08  0.002066 -0.073698  0.006750     -0.070175   0.004811\n2021-09  0.002716  0.095328  0.009695     -0.132075   0.002066\n2021-10  0.008308  0.089964  0.020312     -0.065217   0.002716\n2021-11  0.004913 -0.194791  0.011736     -0.093023   0.008308\n\n[464 rows x 5 columns]",
      "text/html": "<div>\n<style scoped>\n    .dataframe tbody tr th:only-of-type {\n        vertical-align: middle;\n    }\n\n    .dataframe tbody tr th {\n        vertical-align: top;\n    }\n\n    .dataframe thead th {\n        text-align: right;\n    }\n</style>\n<table border=\"1\" class=\"dataframe\">\n  <thead>\n    <tr style=\"text-align: right;\">\n      <th></th>\n      <th>CPI</th>\n      <th>Oil</th>\n      <th>PPI</th>\n      <th>Unemployment</th>\n      <th>LaggedCPI</th>\n    </tr>\n    <tr>\n      <th>Date</th>\n      <th></th>\n      <th></th>\n      <th></th>\n      <th></th>\n      <th></th>\n    </tr>\n  </thead>\n  <tbody>\n    <tr>\n      <th>1983-04</th>\n      <td>0.007150</td>\n      <td>0.046464</td>\n      <td>0.000000</td>\n      <td>-0.074074</td>\n      <td>0.000000</td>\n    </tr>\n    <tr>\n      <th>1983-05</th>\n      <td>0.006085</td>\n      <td>-0.012406</td>\n      <td>0.003984</td>\n      <td>-0.020000</td>\n      <td>0.007150</td>\n    </tr>\n    <tr>\n      <th>1983-06</th>\n      <td>0.003024</td>\n      <td>0.037355</td>\n      <td>0.001984</td>\n      <td>0.040816</td>\n      <td>0.006085</td>\n    </tr>\n    <tr>\n      <th>1983-07</th>\n      <td>0.004020</td>\n      <td>0.019758</td>\n      <td>0.002970</td>\n      <td>-0.078431</td>\n      <td>0.003024</td>\n    </tr>\n    <tr>\n      <th>1983-08</th>\n      <td>0.003003</td>\n      <td>-0.012813</td>\n      <td>0.004936</td>\n      <td>-0.021277</td>\n      <td>0.004020</td>\n    </tr>\n    <tr>\n      <th>...</th>\n      <td>...</td>\n      <td>...</td>\n      <td>...</td>\n      <td>...</td>\n      <td>...</td>\n    </tr>\n    <tr>\n      <th>2021-07</th>\n      <td>0.004811</td>\n      <td>0.006533</td>\n      <td>0.012888</td>\n      <td>-0.065574</td>\n      <td>0.009291</td>\n    </tr>\n    <tr>\n      <th>2021-08</th>\n      <td>0.002066</td>\n      <td>-0.073698</td>\n      <td>0.006750</td>\n      <td>-0.070175</td>\n      <td>0.004811</td>\n    </tr>\n    <tr>\n      <th>2021-09</th>\n      <td>0.002716</td>\n      <td>0.095328</td>\n      <td>0.009695</td>\n      <td>-0.132075</td>\n      <td>0.002066</td>\n    </tr>\n    <tr>\n      <th>2021-10</th>\n      <td>0.008308</td>\n      <td>0.089964</td>\n      <td>0.020312</td>\n      <td>-0.065217</td>\n      <td>0.002716</td>\n    </tr>\n    <tr>\n      <th>2021-11</th>\n      <td>0.004913</td>\n      <td>-0.194791</td>\n      <td>0.011736</td>\n      <td>-0.093023</td>\n      <td>0.008308</td>\n    </tr>\n  </tbody>\n</table>\n<p>464 rows × 5 columns</p>\n</div>"
     },
     "metadata": {}
    }
   ],
   "execution_count": 61
  },
  {
   "cell_type": "markdown",
   "source": "453 Total Rows. Split to allow last 8 years for testing\n\nTrain set = first 357 rows\n\nTest set = last 96 rows",
   "metadata": {
    "cell_id": "b7a99f80720943898ab92fa34af4005d",
    "tags": [],
    "deepnote_cell_type": "markdown",
    "deepnote_cell_height": 125.171875
   }
  },
  {
   "cell_type": "code",
   "source": "# Splitting the dataset into train and test sets\ndf_train = df_merged.iloc[:357]\ndf_test = df_merged.iloc[357:]",
   "metadata": {
    "cell_id": "a8a07603ebdd4fefa7aa5985813ed1a2",
    "tags": [],
    "deepnote_to_be_reexecuted": false,
    "source_hash": "167158cd",
    "execution_start": 1650808906915,
    "execution_millis": 0,
    "deepnote_cell_type": "code",
    "deepnote_cell_height": 117
   },
   "outputs": [],
   "execution_count": 75
  },
  {
   "cell_type": "code",
   "source": "# Use MinMaxScaler to normalise are values by scaling down values between a range of -1 to 1\n# Instantiate scaler objects\nx_scaler = MinMaxScaler(feature_range=(-1, 1))\ny_scaler = MinMaxScaler(feature_range=(-1, 1))\n\nx_train = x_scaler.fit_transform(df_train[['Oil','PPI','Unemployment','LaggedCPI']])\ny_train = y_scaler.fit_transform(df_train[['CPI']])\n\nx_test = x_scaler.transform(df_test[['Oil','PPI','Unemployment','LaggedCPI']])\ny_test = y_scaler.transform(df_test[['CPI']])",
   "metadata": {
    "cell_id": "8d2fa3f1e3084bf2811940a723173820",
    "tags": [],
    "deepnote_to_be_reexecuted": false,
    "source_hash": "f1eed2f5",
    "execution_start": 1650808906923,
    "execution_millis": 18,
    "deepnote_cell_type": "code",
    "deepnote_cell_height": 243
   },
   "outputs": [],
   "execution_count": 76
  },
  {
   "cell_type": "code",
   "source": "# reshape input to be 3D [samples, timesteps, features]\nx_train = x_train.reshape((x_train.shape[0], 1, x_train.shape[1]))\nx_test = x_test.reshape((x_test.shape[0], 1, x_test.shape[1]))\nprint(x_train.shape, y_train.shape, x_test.shape, y_test.shape)",
   "metadata": {
    "cell_id": "33b1e5730cc94d0889f1ed229622ca79",
    "tags": [],
    "deepnote_to_be_reexecuted": false,
    "source_hash": "3661a388",
    "execution_start": 1650808906982,
    "execution_millis": 677285,
    "deepnote_cell_type": "code",
    "deepnote_cell_height": 165.765625
   },
   "outputs": [
    {
     "name": "stdout",
     "text": "(357, 1, 4) (357, 1) (107, 1, 4) (107, 1)\n",
     "output_type": "stream"
    }
   ],
   "execution_count": 77
  },
  {
   "cell_type": "markdown",
   "source": "We will define the LSTM with 100 neurons in the first hidden layer and 1 neuron in the output layer for predicting pollution. The input shape will be 1 time step with 4 features.\n\nWe will use the Mean Squared Error (MSE) loss function and the efficient Adam version of stochastic gradient descent.\n\nThe model will be fit for 30 training epochs.",
   "metadata": {
    "cell_id": "39688227c1d54e509ed250719f8562fd",
    "tags": [],
    "deepnote_cell_type": "markdown",
    "deepnote_cell_height": 147.5625
   }
  },
  {
   "cell_type": "code",
   "source": "# design network with 100 neurons\nmodel = Sequential()\nmodel.add(LSTM(100, input_shape=(x_train.shape[1], x_train.shape[2])))\nmodel.add(Dense(1))\nmodel.compile(loss='mse', optimizer='adam')\n# fit network\nhistory = model.fit(x_train, y_train, epochs=30, batch_size=1, validation_data=(x_test, y_test), verbose=2, shuffle=False)\n# plot history\npyplot.plot(history.history['loss'], label='train')\npyplot.plot(history.history['val_loss'], label='test')\npyplot.legend()\npyplot.show()",
   "metadata": {
    "cell_id": "37da3915781b40ed9bfe37a93c2eff04",
    "tags": [],
    "deepnote_to_be_reexecuted": false,
    "source_hash": "bf56ff81",
    "execution_start": 1650808906983,
    "execution_millis": 25418,
    "deepnote_cell_type": "code",
    "deepnote_cell_height": 1180,
    "deepnote_output_heights": [
     null,
     250
    ]
   },
   "outputs": [
    {
     "name": "stdout",
     "text": "Epoch 1/30\n357/357 - 3s - loss: 0.0302 - val_loss: 0.0218 - 3s/epoch - 7ms/step\nEpoch 2/30\n357/357 - 1s - loss: 0.0168 - val_loss: 0.0272 - 755ms/epoch - 2ms/step\nEpoch 3/30\n357/357 - 1s - loss: 0.0165 - val_loss: 0.0324 - 745ms/epoch - 2ms/step\nEpoch 4/30\n357/357 - 1s - loss: 0.0163 - val_loss: 0.0391 - 751ms/epoch - 2ms/step\nEpoch 5/30\n357/357 - 1s - loss: 0.0162 - val_loss: 0.0466 - 782ms/epoch - 2ms/step\nEpoch 6/30\n357/357 - 1s - loss: 0.0161 - val_loss: 0.0548 - 770ms/epoch - 2ms/step\nEpoch 7/30\n357/357 - 1s - loss: 0.0160 - val_loss: 0.0634 - 746ms/epoch - 2ms/step\nEpoch 8/30\n357/357 - 1s - loss: 0.0159 - val_loss: 0.0723 - 775ms/epoch - 2ms/step\nEpoch 9/30\n357/357 - 1s - loss: 0.0159 - val_loss: 0.0814 - 755ms/epoch - 2ms/step\nEpoch 10/30\n357/357 - 1s - loss: 0.0158 - val_loss: 0.0907 - 712ms/epoch - 2ms/step\nEpoch 11/30\n357/357 - 1s - loss: 0.0157 - val_loss: 0.1000 - 782ms/epoch - 2ms/step\nEpoch 12/30\n357/357 - 1s - loss: 0.0156 - val_loss: 0.1093 - 868ms/epoch - 2ms/step\nEpoch 13/30\n357/357 - 1s - loss: 0.0155 - val_loss: 0.1184 - 707ms/epoch - 2ms/step\nEpoch 14/30\n357/357 - 1s - loss: 0.0154 - val_loss: 0.1272 - 682ms/epoch - 2ms/step\nEpoch 15/30\n357/357 - 1s - loss: 0.0154 - val_loss: 0.1355 - 790ms/epoch - 2ms/step\nEpoch 16/30\n357/357 - 1s - loss: 0.0153 - val_loss: 0.1433 - 811ms/epoch - 2ms/step\nEpoch 17/30\n357/357 - 1s - loss: 0.0152 - val_loss: 0.1504 - 727ms/epoch - 2ms/step\nEpoch 18/30\n357/357 - 1s - loss: 0.0152 - val_loss: 0.1568 - 725ms/epoch - 2ms/step\nEpoch 19/30\n357/357 - 1s - loss: 0.0151 - val_loss: 0.1624 - 812ms/epoch - 2ms/step\nEpoch 20/30\n357/357 - 1s - loss: 0.0150 - val_loss: 0.1672 - 712ms/epoch - 2ms/step\nEpoch 21/30\n357/357 - 1s - loss: 0.0150 - val_loss: 0.1714 - 693ms/epoch - 2ms/step\nEpoch 22/30\n357/357 - 1s - loss: 0.0150 - val_loss: 0.1749 - 748ms/epoch - 2ms/step\nEpoch 23/30\n357/357 - 1s - loss: 0.0149 - val_loss: 0.1778 - 735ms/epoch - 2ms/step\nEpoch 24/30\n357/357 - 1s - loss: 0.0149 - val_loss: 0.1802 - 787ms/epoch - 2ms/step\nEpoch 25/30\n357/357 - 1s - loss: 0.0149 - val_loss: 0.1821 - 747ms/epoch - 2ms/step\nEpoch 26/30\n357/357 - 1s - loss: 0.0148 - val_loss: 0.1836 - 712ms/epoch - 2ms/step\nEpoch 27/30\n357/357 - 1s - loss: 0.0148 - val_loss: 0.1848 - 741ms/epoch - 2ms/step\nEpoch 28/30\n357/357 - 1s - loss: 0.0148 - val_loss: 0.1857 - 745ms/epoch - 2ms/step\nEpoch 29/30\n357/357 - 1s - loss: 0.0148 - val_loss: 0.1864 - 733ms/epoch - 2ms/step\nEpoch 30/30\n357/357 - 1s - loss: 0.0147 - val_loss: 0.1868 - 813ms/epoch - 2ms/step\n",
     "output_type": "stream"
    },
    {
     "data": {
      "text/plain": "<Figure size 432x288 with 1 Axes>",
      "image/png": "[encoded data removed]"
     },
     "metadata": {
      "needs_background": "light",
      "image/png": {
       "width": 386,
       "height": 248
      }
     },
     "output_type": "display_data"
    }
   ],
   "execution_count": 78
  },
  {
   "cell_type": "markdown",
   "source": "Now that our model is trained, lets test it on our test set and evaluate the model",
   "metadata": {
    "cell_id": "1e1353f7c747456090f617c7265d84d4",
    "tags": [],
    "deepnote_cell_type": "markdown",
    "deepnote_cell_height": 52.390625
   }
  },
  {
   "cell_type": "code",
   "source": "# make a prediction\nyhat = model.predict(x_test)\n# invert scaling for our forcast\ninv_yhat = y_scaler.inverse_transform(yhat)\n# Add our forecast to the test dataframe and plot the results\ndf_test['Predicted CPI'] = inv_yhat\ndf_test[['CPI','Predicted CPI']].plot(figsize=(14,5))\n# Calculate RMSE\nmulti_rmse=sqrt(mean_squared_error(df_test['CPI'],df_test['Predicted CPI']))\nprint('Test RMSE:' , multi_rmse)",
   "metadata": {
    "cell_id": "22beb583ad3f4333ad1acfe0b755204a",
    "tags": [],
    "deepnote_to_be_reexecuted": false,
    "source_hash": "1da3f1e0",
    "execution_start": 1650808931863,
    "execution_millis": 628,
    "deepnote_cell_type": "code",
    "deepnote_cell_height": 741.328125,
    "deepnote_output_heights": [
     null,
     313.390625
    ]
   },
   "outputs": [
    {
     "name": "stderr",
     "text": "/shared-libs/python3.7/py-core/lib/python3.7/site-packages/ipykernel_launcher.py:6: SettingWithCopyWarning: \nA value is trying to be set on a copy of a slice from a DataFrame.\nTry using .loc[row_indexer,col_indexer] = value instead\n\nSee the caveats in the documentation: https://pandas.pydata.org/pandas-docs/stable/user_guide/indexing.html#returning-a-view-versus-a-copy\n  \nTest RMSE: 0.006780220473818365\n",
     "output_type": "stream"
    },
    {
     "data": {
      "text/plain": "<Figure size 1008x360 with 1 Axes>",
      "image/png": "[encoded data removed]"
     },
     "metadata": {
      "needs_background": "light",
      "image/png": {
       "width": 833,
       "height": 317
      }
     },
     "output_type": "display_data"
    }
   ],
   "execution_count": 79
  },
  {
   "cell_type": "code",
   "source": "df_test",
   "metadata": {
    "cell_id": "2576da4b061547988d0eead86a611e42",
    "tags": [],
    "deepnote_to_be_reexecuted": false,
    "source_hash": "e9dc025f",
    "execution_start": 1650808932490,
    "execution_millis": 38,
    "deepnote_table_state": {
     "pageSize": 10,
     "pageIndex": 10,
     "filters": [],
     "sortBy": []
    },
    "deepnote_table_loading": false,
    "deepnote_cell_type": "code",
    "deepnote_cell_height": 494,
    "deepnote_output_heights": [
     611
    ]
   },
   "outputs": [
    {
     "output_type": "execute_result",
     "execution_count": 80,
     "data": {
      "application/vnd.deepnote.dataframe.v3+json": {
       "column_count": 6,
       "row_count": 107,
       "columns": [
        {
         "name": "CPI",
         "dtype": "float64",
         "stats": {
          "unique_count": 105,
          "nan_count": 0,
          "min": "-0.006687",
          "max": "0.009291",
          "histogram": [
           {
            "bin_start": -0.006687,
            "bin_end": -0.0050892,
            "count": 3
           },
           {
            "bin_start": -0.0050892,
            "bin_end": -0.0034914000000000004,
            "count": 1
           },
           {
            "bin_start": -0.0034914000000000004,
            "bin_end": -0.0018936000000000005,
            "count": 8
           },
           {
            "bin_start": -0.0018936000000000005,
            "bin_end": -0.0002958000000000006,
            "count": 14
           },
           {
            "bin_start": -0.0002958000000000006,
            "bin_end": 0.0013019999999999993,
            "count": 23
           },
           {
            "bin_start": 0.0013019999999999993,
            "bin_end": 0.0028997999999999993,
            "count": 18
           },
           {
            "bin_start": 0.0028997999999999993,
            "bin_end": 0.004497599999999999,
            "count": 19
           },
           {
            "bin_start": 0.004497599999999999,
            "bin_end": 0.006095399999999999,
            "count": 14
           },
           {
            "bin_start": 0.006095399999999999,
            "bin_end": 0.007693199999999999,
            "count": 2
           },
           {
            "bin_start": 0.007693199999999999,
            "bin_end": 0.009291,
            "count": 5
           }
          ]
         }
        },
        {
         "name": "Oil",
         "dtype": "float64",
         "stats": {
          "unique_count": 107,
          "nan_count": 0,
          "min": "-0.542449",
          "max": "0.883758",
          "histogram": [
           {
            "bin_start": -0.542449,
            "bin_end": -0.39982829999999997,
            "count": 1
           },
           {
            "bin_start": -0.39982829999999997,
            "bin_end": -0.2572076,
            "count": 0
           },
           {
            "bin_start": -0.2572076,
            "bin_end": -0.11458689999999999,
            "count": 10
           },
           {
            "bin_start": -0.11458689999999999,
            "bin_end": 0.028033799999999998,
            "count": 50
           },
           {
            "bin_start": 0.028033799999999998,
            "bin_end": 0.17065449999999993,
            "count": 40
           },
           {
            "bin_start": 0.17065449999999993,
            "bin_end": 0.3132752,
            "count": 5
           },
           {
            "bin_start": 0.3132752,
            "bin_end": 0.4558959,
            "count": 0
           },
           {
            "bin_start": 0.4558959,
            "bin_end": 0.5985166,
            "count": 0
           },
           {
            "bin_start": 0.5985166,
            "bin_end": 0.7411372999999999,
            "count": 0
           },
           {
            "bin_start": 0.7411372999999999,
            "bin_end": 0.883758,
            "count": 1
           }
          ]
         }
        },
        {
         "name": "PPI",
         "dtype": "float64",
         "stats": {
          "unique_count": 105,
          "nan_count": 0,
          "min": "-0.039358",
          "max": "0.032125",
          "histogram": [
           {
            "bin_start": -0.039358,
            "bin_end": -0.0322097,
            "count": 1
           },
           {
            "bin_start": -0.0322097,
            "bin_end": -0.025061399999999998,
            "count": 1
           },
           {
            "bin_start": -0.025061399999999998,
            "bin_end": -0.0179131,
            "count": 2
           },
           {
            "bin_start": -0.0179131,
            "bin_end": -0.010764800000000001,
            "count": 6
           },
           {
            "bin_start": -0.010764800000000001,
            "bin_end": -0.0036165000000000017,
            "count": 17
           },
           {
            "bin_start": -0.0036165000000000017,
            "bin_end": 0.0035317999999999947,
            "count": 33
           },
           {
            "bin_start": 0.0035317999999999947,
            "bin_end": 0.010680099999999998,
            "count": 30
           },
           {
            "bin_start": 0.010680099999999998,
            "bin_end": 0.017828399999999994,
            "count": 12
           },
           {
            "bin_start": 0.017828399999999994,
            "bin_end": 0.024976699999999998,
            "count": 3
           },
           {
            "bin_start": 0.024976699999999998,
            "bin_end": 0.032125,
            "count": 2
           }
          ]
         }
        },
        {
         "name": "Unemployment",
         "dtype": "float64",
         "stats": {
          "unique_count": 89,
          "nan_count": 0,
          "min": "-0.190476",
          "max": "2.2",
          "histogram": [
           {
            "bin_start": -0.190476,
            "bin_end": 0.04857159999999999,
            "count": 89
           },
           {
            "bin_start": 0.04857159999999999,
            "bin_end": 0.28761919999999996,
            "count": 17
           },
           {
            "bin_start": 0.28761919999999996,
            "bin_end": 0.5266668,
            "count": 0
           },
           {
            "bin_start": 0.5266668,
            "bin_end": 0.7657144,
            "count": 0
           },
           {
            "bin_start": 0.7657144,
            "bin_end": 1.004762,
            "count": 0
           },
           {
            "bin_start": 1.004762,
            "bin_end": 1.2438095999999998,
            "count": 0
           },
           {
            "bin_start": 1.2438095999999998,
            "bin_end": 1.4828572,
            "count": 0
           },
           {
            "bin_start": 1.4828572,
            "bin_end": 1.7219048,
            "count": 0
           },
           {
            "bin_start": 1.7219048,
            "bin_end": 1.9609523999999998,
            "count": 0
           },
           {
            "bin_start": 1.9609523999999998,
            "bin_end": 2.2,
            "count": 1
           }
          ]
         }
        },
        {
         "name": "LaggedCPI",
         "dtype": "float64",
         "stats": {
          "unique_count": 105,
          "nan_count": 0,
          "min": "-0.006687",
          "max": "0.009291",
          "histogram": [
           {
            "bin_start": -0.006687,
            "bin_end": -0.0050892,
            "count": 3
           },
           {
            "bin_start": -0.0050892,
            "bin_end": -0.0034914000000000004,
            "count": 1
           },
           {
            "bin_start": -0.0034914000000000004,
            "bin_end": -0.0018936000000000005,
            "count": 9
           },
           {
            "bin_start": -0.0018936000000000005,
            "bin_end": -0.0002958000000000006,
            "count": 14
           },
           {
            "bin_start": -0.0002958000000000006,
            "bin_end": 0.0013019999999999993,
            "count": 23
           },
           {
            "bin_start": 0.0013019999999999993,
            "bin_end": 0.0028997999999999993,
            "count": 18
           },
           {
            "bin_start": 0.0028997999999999993,
            "bin_end": 0.004497599999999999,
            "count": 19
           },
           {
            "bin_start": 0.004497599999999999,
            "bin_end": 0.006095399999999999,
            "count": 13
           },
           {
            "bin_start": 0.006095399999999999,
            "bin_end": 0.007693199999999999,
            "count": 2
           },
           {
            "bin_start": 0.007693199999999999,
            "bin_end": 0.009291,
            "count": 5
           }
          ]
         }
        },
        {
         "name": "Predicted CPI",
         "dtype": "float32",
         "stats": {
          "unique_count": 107,
          "nan_count": 0,
          "min": "-0.005606192629784346",
          "max": "0.06081802025437355",
          "histogram": [
           {
            "bin_start": -0.005606192629784346,
            "bin_end": 0.0010362286120653152,
            "count": 35
           },
           {
            "bin_start": 0.0010362286120653152,
            "bin_end": 0.007678649853914976,
            "count": 69
           },
           {
            "bin_start": 0.007678649853914976,
            "bin_end": 0.014321071095764637,
            "count": 2
           },
           {
            "bin_start": 0.014321071095764637,
            "bin_end": 0.02096349187195301,
            "count": 0
           },
           {
            "bin_start": 0.02096349187195301,
            "bin_end": 0.02760591357946396,
            "count": 0
           },
           {
            "bin_start": 0.02760591357946396,
            "bin_end": 0.03424833342432976,
            "count": 0
           },
           {
            "bin_start": 0.03424833342432976,
            "bin_end": 0.040890756994485855,
            "count": 0
           },
           {
            "bin_start": 0.040890756994485855,
            "bin_end": 0.047533176839351654,
            "count": 0
           },
           {
            "bin_start": 0.047533176839351654,
            "bin_end": 0.05417560040950775,
            "count": 0
           },
           {
            "bin_start": 0.05417560040950775,
            "bin_end": 0.06081802025437355,
            "count": 1
           }
          ]
         }
        },
        {
         "name": "_deepnote_index_column",
         "dtype": "object"
        }
       ],
       "rows": [
        {
         "CPI": 0.008017,
         "Oil": 0.05269,
         "PPI": 0.032125,
         "Unemployment": -0.035088,
         "LaggedCPI": 0.008219,
         "Predicted CPI": 0.008832593448460102,
         "_deepnote_index_column": "2021-05"
        },
        {
         "CPI": 0.009291,
         "Oil": 0.097714,
         "PPI": 0.017786,
         "Unemployment": 0.109091,
         "LaggedCPI": 0.008017,
         "Predicted CPI": 0.005924546625465155,
         "_deepnote_index_column": "2021-06"
        },
        {
         "CPI": 0.004811,
         "Oil": 0.006533,
         "PPI": 0.012888,
         "Unemployment": -0.065574,
         "LaggedCPI": 0.009291,
         "Predicted CPI": 0.00614704005420208,
         "_deepnote_index_column": "2021-07"
        },
        {
         "CPI": 0.002066,
         "Oil": -0.073698,
         "PPI": 0.00675,
         "Unemployment": -0.070175,
         "LaggedCPI": 0.004811,
         "Predicted CPI": 0.003552788170054555,
         "_deepnote_index_column": "2021-08"
        },
        {
         "CPI": 0.002716,
         "Oil": 0.095328,
         "PPI": 0.009695,
         "Unemployment": -0.132075,
         "LaggedCPI": 0.002066,
         "Predicted CPI": 0.004700319841504097,
         "_deepnote_index_column": "2021-09"
        },
        {
         "CPI": 0.008308,
         "Oil": 0.089964,
         "PPI": 0.020312,
         "Unemployment": -0.065217,
         "LaggedCPI": 0.002716,
         "Predicted CPI": 0.00616179034113884,
         "_deepnote_index_column": "2021-10"
        },
        {
         "CPI": 0.004913,
         "Oil": -0.194791,
         "PPI": 0.011736,
         "Unemployment": -0.093023,
         "LaggedCPI": 0.008308,
         "Predicted CPI": 0.004882771521806717,
         "_deepnote_index_column": "2021-11"
        }
       ]
      },
      "text/plain": "              CPI       Oil       PPI  Unemployment  LaggedCPI  Predicted CPI\nDate                                                                         \n2013-01  0.002957  0.061751  0.004963      0.118421  -0.002693       0.001781\n2013-02  0.008190 -0.055801  0.008889     -0.047059   0.002957       0.003340\n2013-03  0.002615  0.056274 -0.001468     -0.061728   0.008190       0.003455\n2013-04 -0.001040 -0.038774 -0.002451     -0.065789   0.002615       0.001127\n2013-05  0.001780 -0.015943  0.002948      0.028169  -0.001040       0.001025\n...           ...       ...       ...           ...        ...            ...\n2021-07  0.004811  0.006533  0.012888     -0.065574   0.009291       0.006147\n2021-08  0.002066 -0.073698  0.006750     -0.070175   0.004811       0.003553\n2021-09  0.002716  0.095328  0.009695     -0.132075   0.002066       0.004700\n2021-10  0.008308  0.089964  0.020312     -0.065217   0.002716       0.006162\n2021-11  0.004913 -0.194791  0.011736     -0.093023   0.008308       0.004883\n\n[107 rows x 6 columns]",
      "text/html": "<div>\n<style scoped>\n    .dataframe tbody tr th:only-of-type {\n        vertical-align: middle;\n    }\n\n    .dataframe tbody tr th {\n        vertical-align: top;\n    }\n\n    .dataframe thead th {\n        text-align: right;\n    }\n</style>\n<table border=\"1\" class=\"dataframe\">\n  <thead>\n    <tr style=\"text-align: right;\">\n      <th></th>\n      <th>CPI</th>\n      <th>Oil</th>\n      <th>PPI</th>\n      <th>Unemployment</th>\n      <th>LaggedCPI</th>\n      <th>Predicted CPI</th>\n    </tr>\n    <tr>\n      <th>Date</th>\n      <th></th>\n      <th></th>\n      <th></th>\n      <th></th>\n      <th></th>\n      <th></th>\n    </tr>\n  </thead>\n  <tbody>\n    <tr>\n      <th>2013-01</th>\n      <td>0.002957</td>\n      <td>0.061751</td>\n      <td>0.004963</td>\n      <td>0.118421</td>\n      <td>-0.002693</td>\n      <td>0.001781</td>\n    </tr>\n    <tr>\n      <th>2013-02</th>\n      <td>0.008190</td>\n      <td>-0.055801</td>\n      <td>0.008889</td>\n      <td>-0.047059</td>\n      <td>0.002957</td>\n      <td>0.003340</td>\n    </tr>\n    <tr>\n      <th>2013-03</th>\n      <td>0.002615</td>\n      <td>0.056274</td>\n      <td>-0.001468</td>\n      <td>-0.061728</td>\n      <td>0.008190</td>\n      <td>0.003455</td>\n    </tr>\n    <tr>\n      <th>2013-04</th>\n      <td>-0.001040</td>\n      <td>-0.038774</td>\n      <td>-0.002451</td>\n      <td>-0.065789</td>\n      <td>0.002615</td>\n      <td>0.001127</td>\n    </tr>\n    <tr>\n      <th>2013-05</th>\n      <td>0.001780</td>\n      <td>-0.015943</td>\n      <td>0.002948</td>\n      <td>0.028169</td>\n      <td>-0.001040</td>\n      <td>0.001025</td>\n    </tr>\n    <tr>\n      <th>...</th>\n      <td>...</td>\n      <td>...</td>\n      <td>...</td>\n      <td>...</td>\n      <td>...</td>\n      <td>...</td>\n    </tr>\n    <tr>\n      <th>2021-07</th>\n      <td>0.004811</td>\n      <td>0.006533</td>\n      <td>0.012888</td>\n      <td>-0.065574</td>\n      <td>0.009291</td>\n      <td>0.006147</td>\n    </tr>\n    <tr>\n      <th>2021-08</th>\n      <td>0.002066</td>\n      <td>-0.073698</td>\n      <td>0.006750</td>\n      <td>-0.070175</td>\n      <td>0.004811</td>\n      <td>0.003553</td>\n    </tr>\n    <tr>\n      <th>2021-09</th>\n      <td>0.002716</td>\n      <td>0.095328</td>\n      <td>0.009695</td>\n      <td>-0.132075</td>\n      <td>0.002066</td>\n      <td>0.004700</td>\n    </tr>\n    <tr>\n      <th>2021-10</th>\n      <td>0.008308</td>\n      <td>0.089964</td>\n      <td>0.020312</td>\n      <td>-0.065217</td>\n      <td>0.002716</td>\n      <td>0.006162</td>\n    </tr>\n    <tr>\n      <th>2021-11</th>\n      <td>0.004913</td>\n      <td>-0.194791</td>\n      <td>0.011736</td>\n      <td>-0.093023</td>\n      <td>0.008308</td>\n      <td>0.004883</td>\n    </tr>\n  </tbody>\n</table>\n<p>107 rows × 6 columns</p>\n</div>"
     },
     "metadata": {}
    }
   ],
   "execution_count": 80
  },
  {
   "cell_type": "markdown",
   "source": "### Discussion\n\n#### Root Mean Squared Error Immediate Insights\n\nRoot Mean Square Error (RMSE) is the standard deviation of the residuals (prediction errors). Residuals are a measure of how far from the actual CPI change data the forecasted values are and RMSE is a measure of how spread out these residuals are. RMSE is an easy general metric we can use to evaluate our LSTM models on the accuracy of their predictions. \n\nThe resulting RMSEs are:",
   "metadata": {
    "cell_id": "44b3aa0fc2a94024a21f17164cc367af",
    "tags": [],
    "deepnote_cell_type": "markdown",
    "deepnote_cell_height": 239.953125
   }
  },
  {
   "cell_type": "code",
   "source": "print('Univariate Long Short Memory Network RMSE:' , uni_rmse)\nprint('Multivariate Long Short Memory Network RMSE:' , multi_rmse)",
   "metadata": {
    "cell_id": "d21e8b31fdd44264b41224ad6eae4372",
    "tags": [],
    "deepnote_to_be_reexecuted": false,
    "source_hash": "17c5dd0e",
    "execution_start": 1650809020995,
    "execution_millis": 2,
    "deepnote_cell_type": "code",
    "deepnote_cell_height": 149.53125
   },
   "outputs": [
    {
     "name": "stdout",
     "text": "Univariate Long Short Memory Network RMSE: 0.0030784026279769673\nMultivariate Long Short Memory Network RMSE: 0.006780220473818365\n",
     "output_type": "stream"
    }
   ],
   "execution_count": 82
  },
  {
   "cell_type": "markdown",
   "source": "Looking at RMSE scores, it appears that the Univariate LSTM model is more accurate than the Multivariate LSTM model at predicing monthly CPI change. \n\nHowever, taking a look at the graph for Predicted vs Actual values for the multivariate LSTM model shows a giant temporary divergence between predicted and actual values around the start of 2020. Without this anomaly, it appears that the multivariate model manages to predict CPI change pretty well and would probably have a much close RMSE score to the univariate model if we removed this anomalous period from the testing phase.\n\nThis anomaly could have been cause by the start of the Covid-19 pandemic which coincides with the time period that this anomaly happens. Since the multivariate LSTM model takes into account other independent predictors, namely oil prices, producer price index (PPI) and unemployment rates, it is possible that one or several of these variables was severely impacted by the onset of the pandemic, resulting in a corresponding huge spike in predicted CPI change by our model which did not materialise in the real world. \n\nSuch an event captured in our out of sample data is hard to model as this pandemic is extremely out of the norm and would be hard to train for. Should such similar models be used in the future for prediction of CPI, it would be advisable for the user to keep in mind their current world order and to take note of any extremities that could cause erroneously large mispredictions like the one we have witnessed here.",
   "metadata": {
    "cell_id": "a4310645e2a24c95b7c7937bdb1baecd",
    "tags": [],
    "deepnote_cell_type": "markdown",
    "deepnote_cell_height": 407.890625
   }
  },
  {
   "cell_type": "markdown",
   "source": "#### Improvements and future developments using LSTM to predict CPI\nWhile we managed to create two seemingly capable LSTM models here to predict CPI, there is still a lot that can be explored to optimise these models and create improved models. Some future developments that could be explored are:\n\n##### Trying other variables\nWe only managed to train our LSTM models using predictors such as oil price and unemployment data. It would be interesting to see how LSTM models trained with the other factors such as s&p500 and bitcoin price could perform and if they might even have an outperformance as opposed to the comparative performance we have seen in our K-Nearest Neighbours, ARIMA, and Linear Regression models.\n\n##### Training and testing on different time periods\nThe two models trained were only trained using sequentially older data and tested on the most recent years. Looking at how tumultous the past two years have been for inflation and CPI due to Covid-19, it would be beneficial to see how a model trained on the most recent years would perform. It would also be insightful to see how this subsequent model would perform on out of sample data from another period such as the 1990s.\n\n##### Hyperparamter turning\nLike any other maching learning mode, LSTMs and RNNs have a lot of hyperparameters that can be further tuned to optimise the models. Some examples of parameters that we can tune are number of epochs when traning, number of dense layers, if we want to include any additional layers, number of neurons in our model,and much more.\n\n##### Modelling with limitations in mind\nAs this is time series data, it would be insightful to explore features of our dataset such as seasonality and staionarity. For example if our data was seasonal, the LSTM model could be modeled in a way that would try to predict the cyclic nature of CPI (if it exists).",
   "metadata": {
    "cell_id": "5cb1d766f6e04f228c1fb41eb07b9ae0",
    "tags": [],
    "deepnote_cell_type": "markdown",
    "deepnote_cell_height": 642.28125
   }
  },
  {
   "cell_type": "markdown",
   "source": "",
   "metadata": {
    "cell_id": "8c89713f8f8941f8a57894253fc6024f",
    "tags": [],
    "owner_user_id": "21dce836-96dc-4cd8-81dd-08a22afd280d",
    "deepnote_cell_type": "markdown",
    "deepnote_cell_height": 46
   }
  },
  {
   "cell_type": "markdown",
   "source": "<a style='text-decoration:none;line-height:16px;display:flex;color:#5B5B62;padding:10px;justify-content:end;' href='https://deepnote.com?utm_source=created-in-deepnote-cell&projectId=253c1e0f-50f6-4ff7-bced-2dba4c93b9cc' target=\"_blank\">\n<img alt='Created in deepnote.com' style='display:inline;max-height:16px;margin:0px;margin-right:7.5px;' src='data:image/svg+xml;base64,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' > </img>\nCreated in <span style='font-weight:600;margin-left:4px;'>Deepnote</span></a>",
   "metadata": {
    "tags": [],
    "created_in_deepnote_cell": true,
    "deepnote_cell_type": "markdown"
   }
  }
 ],
 "nbformat": 4,
 "nbformat_minor": 2,
 "metadata": {
  "orig_nbformat": 2,
  "deepnote": {},
  "deepnote_notebook_id": "665f3f2f-6f08-46df-b4d4-a8d591ad3f4d",
  "deepnote_execution_queue": []
 }
}