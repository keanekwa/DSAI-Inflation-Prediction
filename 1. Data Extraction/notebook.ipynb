{
 "cells": [
  {
   "cell_type": "markdown",
   "source": "## 1. Data Extraction\n\nWe first need to extract our data from our CSV files and clean it accordingly into our dataframes. For each of our datasets, we clean the data into 4 columns:\n1. Date (in %Y-%m format)\n2. Value\n3. ChangePercentMonth (percentage change from previous month)\n4. ChangePercentYear (percentage change from 12 months ago)\n\nAdditionally, we also conduct basic visualisation of our data just to make sure we have cleaned the data correctly. By checking the shape of our data, and plotting a simple time series graph per data set, we were able to spot some issues with our raw data (e.g. S&P500 price in object format instead of float) and clean our data accordingly to make more sense for our project.",
   "metadata": {
    "cell_id": "6c5c5fda452f441f9ea8e67db05e316c",
    "tags": [],
    "deepnote_cell_type": "markdown",
    "deepnote_cell_height": 324.5
   }
  },
  {
   "cell_type": "code",
   "metadata": {
    "cell_id": "4279843227f64c3d94183e2d565402c9",
    "tags": [],
    "deepnote_to_be_reexecuted": false,
    "source_hash": "9c1227a1",
    "execution_start": 1650727132321,
    "execution_millis": 8886,
    "deepnote_cell_type": "code",
    "deepnote_cell_height": 276.984375
   },
   "source": "# Importing essential libraries\nimport numpy as np\nimport matplotlib.pyplot as plt\nimport seaborn as sb\nimport pandas as pd\nfrom datetime import datetime\n!pip install openpyxl",
   "execution_count": null,
   "outputs": [
    {
     "name": "stdout",
     "text": "Requirement already satisfied: openpyxl in /root/venv/lib/python3.7/site-packages (3.0.9)\nRequirement already satisfied: et-xmlfile in /root/venv/lib/python3.7/site-packages (from openpyxl) (1.1.0)\n\u001b[33mWARNING: You are using pip version 20.1.1; however, version 22.0.4 is available.\nYou should consider upgrading via the '/root/venv/bin/python -m pip install --upgrade pip' command.\u001b[0m\n",
     "output_type": "stream"
    }
   ]
  },
  {
   "cell_type": "markdown",
   "source": "### Useful Functions\nBefore we proceed, we have created some useful functions to help us with our data cleaning.",
   "metadata": {
    "cell_id": "a60d86d64cac453b90e350c5a71435f2",
    "tags": [],
    "deepnote_cell_type": "markdown",
    "deepnote_cell_height": 100.53125
   }
  },
  {
   "cell_type": "code",
   "metadata": {
    "cell_id": "96573df98dd44e4f9e3d43cd9958e7c1",
    "tags": [],
    "deepnote_to_be_reexecuted": false,
    "source_hash": "e6f546fb",
    "execution_start": 1650727141213,
    "execution_millis": 7,
    "deepnote_cell_type": "code",
    "deepnote_cell_height": 171.15625
   },
   "source": "# This function cleans a dataframe to change datetime to %Y-%m format\ndef df_dates_monthly(df, Date = 'Date'):\n    clean_df = df.copy()\n    clean_df[Date] = pd.to_datetime(clean_df[Date])\n    clean_df[Date] = clean_df[Date].dt.strftime('%Y-%m')\n    return clean_df",
   "execution_count": null,
   "outputs": []
  },
  {
   "cell_type": "code",
   "metadata": {
    "cell_id": "9d935bd81322449680fe9021b61bc500",
    "tags": [],
    "deepnote_to_be_reexecuted": false,
    "source_hash": "4e8c81b8",
    "execution_start": 1650727141234,
    "execution_millis": 34,
    "deepnote_cell_type": "code",
    "deepnote_cell_height": 171.15625
   },
   "source": "# This function calculates the ChangePercentMonth and ChangePercentYear\ndef df_change_percent(df, Value = 'Value'):\n    clean_df = df.copy()\n    clean_df['ChangePercentMonth'] = round(clean_df[Value].pct_change(),6)\n    clean_df['ChangePercentYear'] = round(clean_df[Value].pct_change(12),6)\n    return clean_df",
   "execution_count": null,
   "outputs": []
  },
  {
   "cell_type": "markdown",
   "source": "### Consumer Price Idex (CPI) Data\n\nFirst, we import the US CPI data, clean it, calculate the monthly change, and plot it. As mentioned in our README, CPI is the leading measurement of inflation as it calculates the cost of a fixed basket of goods to consumers. All our other data imported below will be compared against our CPI data to study the correlation between those variables vs inflation.\n\nData source: https://www.bls.gov/cpi/data.htm",
   "metadata": {
    "cell_id": "299e6c5c69084fb18f9c5aef20a07ce6",
    "tags": [],
    "deepnote_cell_type": "markdown",
    "deepnote_cell_height": 181.65625
   }
  },
  {
   "cell_type": "code",
   "metadata": {
    "cell_id": "4597f8659f7648149cffc467dc76bc20",
    "tags": [],
    "deepnote_to_be_reexecuted": false,
    "source_hash": "23cb5ae4",
    "execution_start": 1650727141268,
    "execution_millis": 40,
    "deepnote_table_state": {
     "pageSize": 10,
     "pageIndex": 131,
     "filters": [],
     "sortBy": []
    },
    "deepnote_table_loading": false,
    "deepnote_cell_type": "code",
    "deepnote_cell_height": 431.296875
   },
   "source": "# Import CPI data and see the head\ncpi_data = pd.read_csv(\"cpi_monthly_data.csv\")\ncpi_data.head()",
   "execution_count": null,
   "outputs": [
    {
     "output_type": "execute_result",
     "execution_count": 4,
     "data": {
      "application/vnd.deepnote.dataframe.v3+json": {
       "column_count": 2,
       "row_count": 5,
       "columns": [
        {
         "name": "Date",
         "dtype": "object",
         "stats": {
          "unique_count": 5,
          "nan_count": 0,
          "categories": [
           {
            "name": "1913-01-01",
            "count": 1
           },
           {
            "name": "1913-02-01",
            "count": 1
           },
           {
            "name": "3 others",
            "count": 3
           }
          ]
         }
        },
        {
         "name": "Value",
         "dtype": "float64",
         "stats": {
          "unique_count": 2,
          "nan_count": 0,
          "min": "9.7",
          "max": "9.8",
          "histogram": [
           {
            "bin_start": 9.7,
            "bin_end": 9.709999999999999,
            "count": 1
           },
           {
            "bin_start": 9.709999999999999,
            "bin_end": 9.719999999999999,
            "count": 0
           },
           {
            "bin_start": 9.719999999999999,
            "bin_end": 9.73,
            "count": 0
           },
           {
            "bin_start": 9.73,
            "bin_end": 9.74,
            "count": 0
           },
           {
            "bin_start": 9.74,
            "bin_end": 9.75,
            "count": 0
           },
           {
            "bin_start": 9.75,
            "bin_end": 9.76,
            "count": 0
           },
           {
            "bin_start": 9.76,
            "bin_end": 9.77,
            "count": 0
           },
           {
            "bin_start": 9.77,
            "bin_end": 9.780000000000001,
            "count": 0
           },
           {
            "bin_start": 9.780000000000001,
            "bin_end": 9.790000000000001,
            "count": 0
           },
           {
            "bin_start": 9.790000000000001,
            "bin_end": 9.8,
            "count": 4
           }
          ]
         }
        },
        {
         "name": "_deepnote_index_column",
         "dtype": "int64"
        }
       ],
       "rows": [
        {
         "Date": "1913-01-01",
         "Value": 9.8,
         "_deepnote_index_column": 0
        },
        {
         "Date": "1913-02-01",
         "Value": 9.8,
         "_deepnote_index_column": 1
        },
        {
         "Date": "1913-03-01",
         "Value": 9.8,
         "_deepnote_index_column": 2
        },
        {
         "Date": "1913-04-01",
         "Value": 9.8,
         "_deepnote_index_column": 3
        },
        {
         "Date": "1913-05-01",
         "Value": 9.7,
         "_deepnote_index_column": 4
        }
       ]
      },
      "text/plain": "         Date  Value\n0  1913-01-01    9.8\n1  1913-02-01    9.8\n2  1913-03-01    9.8\n3  1913-04-01    9.8\n4  1913-05-01    9.7",
      "text/html": "<div>\n<style scoped>\n    .dataframe tbody tr th:only-of-type {\n        vertical-align: middle;\n    }\n\n    .dataframe tbody tr th {\n        vertical-align: top;\n    }\n\n    .dataframe thead th {\n        text-align: right;\n    }\n</style>\n<table border=\"1\" class=\"dataframe\">\n  <thead>\n    <tr style=\"text-align: right;\">\n      <th></th>\n      <th>Date</th>\n      <th>Value</th>\n    </tr>\n  </thead>\n  <tbody>\n    <tr>\n      <th>0</th>\n      <td>1913-01-01</td>\n      <td>9.8</td>\n    </tr>\n    <tr>\n      <th>1</th>\n      <td>1913-02-01</td>\n      <td>9.8</td>\n    </tr>\n    <tr>\n      <th>2</th>\n      <td>1913-03-01</td>\n      <td>9.8</td>\n    </tr>\n    <tr>\n      <th>3</th>\n      <td>1913-04-01</td>\n      <td>9.8</td>\n    </tr>\n    <tr>\n      <th>4</th>\n      <td>1913-05-01</td>\n      <td>9.7</td>\n    </tr>\n  </tbody>\n</table>\n</div>"
     },
     "metadata": {}
    }
   ]
  },
  {
   "cell_type": "code",
   "metadata": {
    "cell_id": "da79a3bebb2f4bd7b15fcacc3875f53b",
    "tags": [],
    "deepnote_to_be_reexecuted": false,
    "source_hash": "d2a9f7c7",
    "execution_start": 1650727141307,
    "execution_millis": 0,
    "deepnote_cell_type": "code",
    "deepnote_cell_height": 136.4375,
    "deepnote_output_heights": [
     21.171875
    ]
   },
   "source": "# Look at the shape of our data\ncpi_data.shape",
   "execution_count": null,
   "outputs": [
    {
     "output_type": "execute_result",
     "execution_count": 5,
     "data": {
      "text/plain": "(1311, 2)"
     },
     "metadata": {}
    }
   ]
  },
  {
   "cell_type": "code",
   "metadata": {
    "cell_id": "848ca664196f4385b86b0c5dd7bc5243",
    "tags": [],
    "deepnote_to_be_reexecuted": false,
    "source_hash": "641b3ce6",
    "execution_start": 1650727141308,
    "execution_millis": 11,
    "deepnote_cell_type": "code",
    "deepnote_cell_height": 279.15625
   },
   "source": "# Create a copy of the dataset for our lagged CPI predictor\nlagged_cpi_data = cpi_data.copy()\n\nlagged_cpi_data['Date'] = pd.to_datetime(lagged_cpi_data['Date'], format='%Y-%m-%d')\n\n# Move all dates by 1 month ahead of time\nlagged_cpi_data['Date'] = lagged_cpi_data['Date'] + pd.DateOffset(months=1)\n# Clean data to have date in %Y-%m format\nlagged_cpi_data_clean = df_dates_monthly(lagged_cpi_data)\n# Clean data to have monthly and yearly percentage changes\nlagged_cpi_data_clean = df_change_percent(lagged_cpi_data_clean)\n",
   "execution_count": null,
   "outputs": []
  },
  {
   "cell_type": "code",
   "metadata": {
    "cell_id": "6a2c96e77480441d848ee0f2b8d79309",
    "tags": [],
    "deepnote_to_be_reexecuted": false,
    "source_hash": "ff2f7808",
    "execution_start": 1650727141368,
    "execution_millis": 429,
    "deepnote_cell_type": "code",
    "deepnote_cell_height": 690.234375
   },
   "source": "# Clean data to have date in %Y-%m format\ncpi_data_clean = df_dates_monthly(cpi_data)\n# Clean data to have monthly and yearly percentage changes\ncpi_data_clean = df_change_percent(cpi_data_clean)\n# Show cleaned data\ncpi_data_clean",
   "execution_count": null,
   "outputs": [
    {
     "output_type": "execute_result",
     "execution_count": 7,
     "data": {
      "application/vnd.deepnote.dataframe.v3+json": {
       "column_count": 4,
       "row_count": 1311,
       "columns": [
        {
         "name": "Date",
         "dtype": "object",
         "stats": {
          "unique_count": 1311,
          "nan_count": 0,
          "categories": [
           {
            "name": "1913-01",
            "count": 1
           },
           {
            "name": "1913-02",
            "count": 1
           },
           {
            "name": "1309 others",
            "count": 1309
           }
          ]
         }
        },
        {
         "name": "Value",
         "dtype": "float64",
         "stats": {
          "unique_count": 806,
          "nan_count": 0,
          "min": "9.7",
          "max": "287.504",
          "histogram": [
           {
            "bin_start": 9.7,
            "bin_end": 37.4804,
            "count": 682
           },
           {
            "bin_start": 37.4804,
            "bin_end": 65.2608,
            "count": 104
           },
           {
            "bin_start": 65.2608,
            "bin_end": 93.04120000000002,
            "count": 38
           },
           {
            "bin_start": 93.04120000000002,
            "bin_end": 120.82160000000002,
            "count": 88
           },
           {
            "bin_start": 120.82160000000002,
            "bin_end": 148.602,
            "count": 67
           },
           {
            "bin_start": 148.602,
            "bin_end": 176.38240000000002,
            "count": 80
           },
           {
            "bin_start": 176.38240000000002,
            "bin_end": 204.1628,
            "count": 71
           },
           {
            "bin_start": 204.1628,
            "bin_end": 231.94320000000002,
            "count": 71
           },
           {
            "bin_start": 231.94320000000002,
            "bin_end": 259.72360000000003,
            "count": 90
           },
           {
            "bin_start": 259.72360000000003,
            "bin_end": 287.504,
            "count": 20
           }
          ]
         }
        },
        {
         "name": "ChangePercentMonth",
         "dtype": "float64",
         "stats": {
          "unique_count": 865,
          "nan_count": 1,
          "min": "-0.031579",
          "max": "0.058824",
          "histogram": [
           {
            "bin_start": -0.031579,
            "bin_end": -0.022538700000000002,
            "count": 3
           },
           {
            "bin_start": -0.022538700000000002,
            "bin_end": -0.0134984,
            "count": 15
           },
           {
            "bin_start": -0.0134984,
            "bin_end": -0.0044580999999999996,
            "count": 109
           },
           {
            "bin_start": -0.0044580999999999996,
            "bin_end": 0.0045822000000000015,
            "count": 784
           },
           {
            "bin_start": 0.0045822000000000015,
            "bin_end": 0.013622500000000003,
            "count": 349
           },
           {
            "bin_start": 0.013622500000000003,
            "bin_end": 0.022662800000000004,
            "count": 41
           },
           {
            "bin_start": 0.022662800000000004,
            "bin_end": 0.031703100000000005,
            "count": 7
           },
           {
            "bin_start": 0.031703100000000005,
            "bin_end": 0.040743400000000006,
            "count": 0
           },
           {
            "bin_start": 0.040743400000000006,
            "bin_end": 0.04978370000000001,
            "count": 0
           },
           {
            "bin_start": 0.04978370000000001,
            "bin_end": 0.058824,
            "count": 2
           }
          ]
         }
        },
        {
         "name": "ChangePercentYear",
         "dtype": "float64",
         "stats": {
          "unique_count": 1081,
          "nan_count": 12,
          "min": "-0.157895",
          "max": "0.236686",
          "histogram": [
           {
            "bin_start": -0.157895,
            "bin_end": -0.11843690000000001,
            "count": 7
           },
           {
            "bin_start": -0.11843690000000001,
            "bin_end": -0.0789788,
            "count": 31
           },
           {
            "bin_start": -0.0789788,
            "bin_end": -0.03952069999999999,
            "count": 20
           },
           {
            "bin_start": -0.03952069999999999,
            "bin_end": -0.00006259999999999599,
            "count": 114
           },
           {
            "bin_start": -0.00006259999999999599,
            "bin_end": 0.0393955,
            "count": 739
           },
           {
            "bin_start": 0.0393955,
            "bin_end": 0.07885360000000002,
            "count": 225
           },
           {
            "bin_start": 0.07885360000000002,
            "bin_end": 0.11831170000000002,
            "count": 81
           },
           {
            "bin_start": 0.11831170000000002,
            "bin_end": 0.15776980000000002,
            "count": 45
           },
           {
            "bin_start": 0.15776980000000002,
            "bin_end": 0.1972279,
            "count": 28
           },
           {
            "bin_start": 0.1972279,
            "bin_end": 0.236686,
            "count": 9
           }
          ]
         }
        },
        {
         "name": "_deepnote_index_column",
         "dtype": "int64"
        }
       ],
       "rows": [
        {
         "Date": "1913-01",
         "Value": 9.8,
         "ChangePercentMonth": "nan",
         "ChangePercentYear": "nan",
         "_deepnote_index_column": 0
        },
        {
         "Date": "1913-02",
         "Value": 9.8,
         "ChangePercentMonth": 0,
         "ChangePercentYear": "nan",
         "_deepnote_index_column": 1
        },
        {
         "Date": "1913-03",
         "Value": 9.8,
         "ChangePercentMonth": 0,
         "ChangePercentYear": "nan",
         "_deepnote_index_column": 2
        },
        {
         "Date": "1913-04",
         "Value": 9.8,
         "ChangePercentMonth": 0,
         "ChangePercentYear": "nan",
         "_deepnote_index_column": 3
        },
        {
         "Date": "1913-05",
         "Value": 9.7,
         "ChangePercentMonth": -0.010204,
         "ChangePercentYear": "nan",
         "_deepnote_index_column": 4
        },
        {
         "Date": "1913-06",
         "Value": 9.8,
         "ChangePercentMonth": 0.010309,
         "ChangePercentYear": "nan",
         "_deepnote_index_column": 5
        },
        {
         "Date": "1913-07",
         "Value": 9.9,
         "ChangePercentMonth": 0.010204,
         "ChangePercentYear": "nan",
         "_deepnote_index_column": 6
        },
        {
         "Date": "1913-08",
         "Value": 9.9,
         "ChangePercentMonth": 0,
         "ChangePercentYear": "nan",
         "_deepnote_index_column": 7
        },
        {
         "Date": "1913-09",
         "Value": 10,
         "ChangePercentMonth": 0.010101,
         "ChangePercentYear": "nan",
         "_deepnote_index_column": 8
        },
        {
         "Date": "1913-10",
         "Value": 10,
         "ChangePercentMonth": 0,
         "ChangePercentYear": "nan",
         "_deepnote_index_column": 9
        }
       ]
      },
      "text/plain": "         Date    Value  ChangePercentMonth  ChangePercentYear\n0     1913-01    9.800                 NaN                NaN\n1     1913-02    9.800            0.000000                NaN\n2     1913-03    9.800            0.000000                NaN\n3     1913-04    9.800            0.000000                NaN\n4     1913-05    9.700           -0.010204                NaN\n...       ...      ...                 ...                ...\n1306  2021-11  277.948            0.004913           0.068090\n1307  2021-12  278.802            0.003073           0.070364\n1308  2022-01  281.148            0.008415           0.074799\n1309  2022-02  283.716            0.009134           0.078711\n1310  2022-03  287.504            0.013351           0.085425\n\n[1311 rows x 4 columns]",
      "text/html": "<div>\n<style scoped>\n    .dataframe tbody tr th:only-of-type {\n        vertical-align: middle;\n    }\n\n    .dataframe tbody tr th {\n        vertical-align: top;\n    }\n\n    .dataframe thead th {\n        text-align: right;\n    }\n</style>\n<table border=\"1\" class=\"dataframe\">\n  <thead>\n    <tr style=\"text-align: right;\">\n      <th></th>\n      <th>Date</th>\n      <th>Value</th>\n      <th>ChangePercentMonth</th>\n      <th>ChangePercentYear</th>\n    </tr>\n  </thead>\n  <tbody>\n    <tr>\n      <th>0</th>\n      <td>1913-01</td>\n      <td>9.800</td>\n      <td>NaN</td>\n      <td>NaN</td>\n    </tr>\n    <tr>\n      <th>1</th>\n      <td>1913-02</td>\n      <td>9.800</td>\n      <td>0.000000</td>\n      <td>NaN</td>\n    </tr>\n    <tr>\n      <th>2</th>\n      <td>1913-03</td>\n      <td>9.800</td>\n      <td>0.000000</td>\n      <td>NaN</td>\n    </tr>\n    <tr>\n      <th>3</th>\n      <td>1913-04</td>\n      <td>9.800</td>\n      <td>0.000000</td>\n      <td>NaN</td>\n    </tr>\n    <tr>\n      <th>4</th>\n      <td>1913-05</td>\n      <td>9.700</td>\n      <td>-0.010204</td>\n      <td>NaN</td>\n    </tr>\n    <tr>\n      <th>...</th>\n      <td>...</td>\n      <td>...</td>\n      <td>...</td>\n      <td>...</td>\n    </tr>\n    <tr>\n      <th>1306</th>\n      <td>2021-11</td>\n      <td>277.948</td>\n      <td>0.004913</td>\n      <td>0.068090</td>\n    </tr>\n    <tr>\n      <th>1307</th>\n      <td>2021-12</td>\n      <td>278.802</td>\n      <td>0.003073</td>\n      <td>0.070364</td>\n    </tr>\n    <tr>\n      <th>1308</th>\n      <td>2022-01</td>\n      <td>281.148</td>\n      <td>0.008415</td>\n      <td>0.074799</td>\n    </tr>\n    <tr>\n      <th>1309</th>\n      <td>2022-02</td>\n      <td>283.716</td>\n      <td>0.009134</td>\n      <td>0.078711</td>\n    </tr>\n    <tr>\n      <th>1310</th>\n      <td>2022-03</td>\n      <td>287.504</td>\n      <td>0.013351</td>\n      <td>0.085425</td>\n    </tr>\n  </tbody>\n</table>\n<p>1311 rows × 4 columns</p>\n</div>"
     },
     "metadata": {}
    }
   ]
  },
  {
   "cell_type": "code",
   "metadata": {
    "cell_id": "0f2319ac20374a85b3b614126aaeb57f",
    "tags": [],
    "deepnote_to_be_reexecuted": false,
    "source_hash": "4fd01372",
    "execution_start": 1650727141399,
    "execution_millis": 644,
    "deepnote_cell_type": "code",
    "deepnote_cell_height": 739.734375,
    "deepnote_output_heights": [
     570.453125
    ]
   },
   "source": "# Plot CPI time series graph\nplt.figure(figsize=(15,10))\nplt.xticks(np.arange(0, 2000, 120)) # show x-axis ticks at every 10 years\nplt.plot(cpi_data_clean['Date'], cpi_data_clean['Value'])\nplt.show()",
   "execution_count": null,
   "outputs": [
    {
     "data": {
      "text/plain": "<Figure size 1080x720 with 1 Axes>",
      "image/png": "[encoded data removed]"
     },
     "metadata": {
      "needs_background": "light",
      "image/png": {
       "width": 877,
       "height": 576
      }
     },
     "output_type": "display_data"
    }
   ]
  },
  {
   "cell_type": "markdown",
   "source": "### Business Inflation Expectation (BIE) Data\nPeople’s expectations about future inflation influence their behavior, and thus their expectations are thought to play a role in shaping inflation. As there are several measures of inflation expectations, we choose to use the Business Inflation Expectations (BIE) dataset from the Federal Reserve Bank of Atlanta based on a study conducted by the Federal Reserve Bank of Cleveland which found the survey to have one of the more accurate predictions of CPI inflation one-year out.\n\nThe BIE, as measured by the Federal Reserve Bank of Atlanta’s business inflation expectations survey, captures expected growth in the production costs of the firm over the next year.\n\nData source: https://www.atlantafed.org/research/inflationproject/bie.aspx\n\nStudy link: https://www.clevelandfed.org/newsroom-and-events/publications/economic-commentary/2021-economic-commentaries/ec-202119-whose-inflation-expectations-best-predict-inflation.aspx",
   "metadata": {
    "cell_id": "9ca7ceec0bd2410abf5c2531f00dc426",
    "tags": [],
    "deepnote_cell_type": "markdown",
    "deepnote_cell_height": 321.53125
   }
  },
  {
   "cell_type": "code",
   "metadata": {
    "cell_id": "b5b035f878104e3a99473fa697bcab3c",
    "tags": [],
    "deepnote_to_be_reexecuted": false,
    "source_hash": "4cfb3312",
    "execution_start": 1650727141999,
    "execution_millis": 399,
    "deepnote_cell_type": "code",
    "deepnote_cell_height": 449.296875
   },
   "source": "# Import BIE data and see the head\nbie_data = pd.read_excel(\"FedBankOfAtlantaBIE.xlsx\")\nbie_data.columns = ['Date', 'Value']\nbie_data.head()",
   "execution_count": null,
   "outputs": [
    {
     "output_type": "execute_result",
     "execution_count": 9,
     "data": {
      "application/vnd.deepnote.dataframe.v3+json": {
       "column_count": 2,
       "row_count": 5,
       "columns": [
        {
         "name": "Date",
         "dtype": "datetime64[ns]",
         "stats": {
          "unique_count": 5,
          "nan_count": 0,
          "min": "2011-10-21 00:00:00",
          "max": "2012-02-17 00:00:00",
          "histogram": [
           {
            "bin_start": 1319155200000000000,
            "bin_end": 1320183360000000000,
            "count": 1
           },
           {
            "bin_start": 1320183360000000000,
            "bin_end": 1321211520000000000,
            "count": 0
           },
           {
            "bin_start": 1321211520000000000,
            "bin_end": 1322239680000000000,
            "count": 1
           },
           {
            "bin_start": 1322239680000000000,
            "bin_end": 1323267840000000000,
            "count": 0
           },
           {
            "bin_start": 1323267840000000000,
            "bin_end": 1324296000000000000,
            "count": 1
           },
           {
            "bin_start": 1324296000000000000,
            "bin_end": 1325324160000000000,
            "count": 0
           },
           {
            "bin_start": 1325324160000000000,
            "bin_end": 1326352320000000000,
            "count": 0
           },
           {
            "bin_start": 1326352320000000000,
            "bin_end": 1327380480000000000,
            "count": 1
           },
           {
            "bin_start": 1327380480000000000,
            "bin_end": 1328408640000000000,
            "count": 0
           },
           {
            "bin_start": 1328408640000000000,
            "bin_end": 1329436800000000000,
            "count": 1
           }
          ]
         }
        },
        {
         "name": "Value",
         "dtype": "float64",
         "stats": {
          "unique_count": 5,
          "nan_count": 0,
          "min": "0.018282658428283194",
          "max": "0.0201147490946976",
          "histogram": [
           {
            "bin_start": 0.018282658428283194,
            "bin_end": 0.018465867494924633,
            "count": 1
           },
           {
            "bin_start": 0.018465867494924633,
            "bin_end": 0.018649076561566075,
            "count": 1
           },
           {
            "bin_start": 0.018649076561566075,
            "bin_end": 0.018832285628207518,
            "count": 1
           },
           {
            "bin_start": 0.018832285628207518,
            "bin_end": 0.019015494694848957,
            "count": 0
           },
           {
            "bin_start": 0.019015494694848957,
            "bin_end": 0.019198703761490396,
            "count": 0
           },
           {
            "bin_start": 0.019198703761490396,
            "bin_end": 0.01938191282813184,
            "count": 1
           },
           {
            "bin_start": 0.01938191282813184,
            "bin_end": 0.01956512189477328,
            "count": 0
           },
           {
            "bin_start": 0.01956512189477328,
            "bin_end": 0.01974833096141472,
            "count": 0
           },
           {
            "bin_start": 0.01974833096141472,
            "bin_end": 0.01993154002805616,
            "count": 0
           },
           {
            "bin_start": 0.01993154002805616,
            "bin_end": 0.0201147490946976,
            "count": 1
           }
          ]
         }
        },
        {
         "name": "_deepnote_index_column",
         "dtype": "int64"
        }
       ],
       "rows": [
        {
         "Date": "2011-10-21T00:00:00.000000",
         "Value": 0.019269095762527232,
         "_deepnote_index_column": 0
        },
        {
         "Date": "2011-11-18T00:00:00.000000",
         "Value": 0.0201147490946976,
         "_deepnote_index_column": 1
        },
        {
         "Date": "2011-12-16T00:00:00.000000",
         "Value": 0.018591679513156587,
         "_deepnote_index_column": 2
        },
        {
         "Date": "2012-01-20T00:00:00.000000",
         "Value": 0.018282658428283194,
         "_deepnote_index_column": 3
        },
        {
         "Date": "2012-02-17T00:00:00.000000",
         "Value": 0.018718377080331854,
         "_deepnote_index_column": 4
        }
       ]
      },
      "text/plain": "        Date     Value\n0 2011-10-21  0.019269\n1 2011-11-18  0.020115\n2 2011-12-16  0.018592\n3 2012-01-20  0.018283\n4 2012-02-17  0.018718",
      "text/html": "<div>\n<style scoped>\n    .dataframe tbody tr th:only-of-type {\n        vertical-align: middle;\n    }\n\n    .dataframe tbody tr th {\n        vertical-align: top;\n    }\n\n    .dataframe thead th {\n        text-align: right;\n    }\n</style>\n<table border=\"1\" class=\"dataframe\">\n  <thead>\n    <tr style=\"text-align: right;\">\n      <th></th>\n      <th>Date</th>\n      <th>Value</th>\n    </tr>\n  </thead>\n  <tbody>\n    <tr>\n      <th>0</th>\n      <td>2011-10-21</td>\n      <td>0.019269</td>\n    </tr>\n    <tr>\n      <th>1</th>\n      <td>2011-11-18</td>\n      <td>0.020115</td>\n    </tr>\n    <tr>\n      <th>2</th>\n      <td>2011-12-16</td>\n      <td>0.018592</td>\n    </tr>\n    <tr>\n      <th>3</th>\n      <td>2012-01-20</td>\n      <td>0.018283</td>\n    </tr>\n    <tr>\n      <th>4</th>\n      <td>2012-02-17</td>\n      <td>0.018718</td>\n    </tr>\n  </tbody>\n</table>\n</div>"
     },
     "metadata": {}
    }
   ]
  },
  {
   "cell_type": "code",
   "metadata": {
    "cell_id": "21722d0afaec4296b8e4fb551a474ffb",
    "tags": [],
    "deepnote_to_be_reexecuted": false,
    "source_hash": "7054458f",
    "execution_start": 1650727142400,
    "execution_millis": 22,
    "deepnote_cell_type": "code",
    "deepnote_cell_height": 136.4375,
    "deepnote_output_heights": [
     21.171875
    ]
   },
   "source": "# Look at the shape of our data\nbie_data.shape",
   "execution_count": null,
   "outputs": [
    {
     "output_type": "execute_result",
     "execution_count": 10,
     "data": {
      "text/plain": "(127, 2)"
     },
     "metadata": {}
    }
   ]
  },
  {
   "cell_type": "code",
   "metadata": {
    "cell_id": "a3e82eee391a415c8045ba4a3c26168b",
    "tags": [],
    "deepnote_to_be_reexecuted": false,
    "source_hash": "90deaf5d",
    "execution_start": 1650727142431,
    "execution_millis": 11,
    "deepnote_cell_type": "code",
    "deepnote_cell_height": 99.15625
   },
   "source": "# Since this data looks ahead 1 year at inflation, we need to bring the dates forward by 1 year as well\nbie_data['Date'] = bie_data['Date'] + pd.DateOffset(months=12)",
   "execution_count": null,
   "outputs": []
  },
  {
   "cell_type": "code",
   "metadata": {
    "cell_id": "153678ad92a2479a9fa7dcc5d1bec221",
    "tags": [],
    "deepnote_to_be_reexecuted": false,
    "source_hash": "b033ffef",
    "execution_start": 1650727142446,
    "execution_millis": 120,
    "deepnote_table_state": {
     "pageSize": 10,
     "pageIndex": 0,
     "filters": [],
     "sortBy": []
    },
    "deepnote_table_loading": false,
    "deepnote_cell_type": "code",
    "deepnote_cell_height": 816.25
   },
   "source": "# Clean BIE data by rounding Value\nbie_data['Value'] = round(bie_data['Value'],6)\n# Clean data to have date in %Y-%m format\nbie_clean = df_dates_monthly(bie_data)\n# Clean data to have monthly and yearly percentage changes\nbie_clean = df_change_percent(bie_clean)\n# Show cleaned data\nbie_clean\n\n# Calculate month on month and year on year percentage changes\nbie_clean['ChangePercentMonth'] = round(bie_clean['Value'].pct_change(),6)\nbie_clean['ChangePercentYear'] = round(bie_clean['Value'].pct_change(12),6)\nbie_clean",
   "execution_count": null,
   "outputs": [
    {
     "output_type": "execute_result",
     "execution_count": 12,
     "data": {
      "application/vnd.deepnote.dataframe.v3+json": {
       "column_count": 4,
       "row_count": 127,
       "columns": [
        {
         "name": "Date",
         "dtype": "object",
         "stats": {
          "unique_count": 127,
          "nan_count": 0,
          "categories": [
           {
            "name": "2012-10",
            "count": 1
           },
           {
            "name": "2012-11",
            "count": 1
           },
           {
            "name": "125 others",
            "count": 125
           }
          ]
         }
        },
        {
         "name": "Value",
         "dtype": "float64",
         "stats": {
          "unique_count": 127,
          "nan_count": 0,
          "min": "0.013743",
          "max": "0.037901",
          "histogram": [
           {
            "bin_start": 0.013743,
            "bin_end": 0.0161588,
            "count": 3
           },
           {
            "bin_start": 0.0161588,
            "bin_end": 0.0185746,
            "count": 37
           },
           {
            "bin_start": 0.0185746,
            "bin_end": 0.0209904,
            "count": 63
           },
           {
            "bin_start": 0.0209904,
            "bin_end": 0.023406200000000002,
            "count": 10
           },
           {
            "bin_start": 0.023406200000000002,
            "bin_end": 0.025821999999999998,
            "count": 2
           },
           {
            "bin_start": 0.025821999999999998,
            "bin_end": 0.0282378,
            "count": 1
           },
           {
            "bin_start": 0.0282378,
            "bin_end": 0.030653600000000003,
            "count": 4
           },
           {
            "bin_start": 0.030653600000000003,
            "bin_end": 0.0330694,
            "count": 2
           },
           {
            "bin_start": 0.0330694,
            "bin_end": 0.0354852,
            "count": 2
           },
           {
            "bin_start": 0.0354852,
            "bin_end": 0.037901,
            "count": 3
           }
          ]
         }
        },
        {
         "name": "ChangePercentMonth",
         "dtype": "float64",
         "stats": {
          "unique_count": 126,
          "nan_count": 1,
          "min": "-0.259935",
          "max": "0.170856",
          "histogram": [
           {
            "bin_start": -0.259935,
            "bin_end": -0.21685590000000002,
            "count": 1
           },
           {
            "bin_start": -0.21685590000000002,
            "bin_end": -0.1737768,
            "count": 0
           },
           {
            "bin_start": -0.1737768,
            "bin_end": -0.13069770000000003,
            "count": 2
           },
           {
            "bin_start": -0.13069770000000003,
            "bin_end": -0.08761860000000002,
            "count": 9
           },
           {
            "bin_start": -0.08761860000000002,
            "bin_end": -0.04453950000000001,
            "count": 19
           },
           {
            "bin_start": -0.04453950000000001,
            "bin_end": -0.0014604000000000283,
            "count": 21
           },
           {
            "bin_start": -0.0014604000000000283,
            "bin_end": 0.04161870000000001,
            "count": 31
           },
           {
            "bin_start": 0.04161870000000001,
            "bin_end": 0.08469779999999999,
            "count": 30
           },
           {
            "bin_start": 0.08469779999999999,
            "bin_end": 0.12777689999999997,
            "count": 9
           },
           {
            "bin_start": 0.12777689999999997,
            "bin_end": 0.170856,
            "count": 4
           }
          ]
         }
        },
        {
         "name": "ChangePercentYear",
         "dtype": "float64",
         "stats": {
          "unique_count": 115,
          "nan_count": 12,
          "min": "-0.284032",
          "max": "0.965096",
          "histogram": [
           {
            "bin_start": -0.284032,
            "bin_end": -0.15911920000000002,
            "count": 5
           },
           {
            "bin_start": -0.15911920000000002,
            "bin_end": -0.0342064,
            "count": 30
           },
           {
            "bin_start": -0.0342064,
            "bin_end": 0.09070640000000002,
            "count": 47
           },
           {
            "bin_start": 0.09070640000000002,
            "bin_end": 0.2156192,
            "count": 17
           },
           {
            "bin_start": 0.2156192,
            "bin_end": 0.340532,
            "count": 3
           },
           {
            "bin_start": 0.340532,
            "bin_end": 0.46544480000000005,
            "count": 0
           },
           {
            "bin_start": 0.46544480000000005,
            "bin_end": 0.5903575999999999,
            "count": 3
           },
           {
            "bin_start": 0.5903575999999999,
            "bin_end": 0.7152704000000001,
            "count": 5
           },
           {
            "bin_start": 0.7152704000000001,
            "bin_end": 0.8401832,
            "count": 2
           },
           {
            "bin_start": 0.8401832,
            "bin_end": 0.965096,
            "count": 3
           }
          ]
         }
        },
        {
         "name": "_deepnote_index_column",
         "dtype": "int64"
        }
       ],
       "rows": [
        {
         "Date": "2012-10",
         "Value": 0.019269,
         "ChangePercentMonth": "nan",
         "ChangePercentYear": "nan",
         "_deepnote_index_column": 0
        },
        {
         "Date": "2012-11",
         "Value": 0.020115,
         "ChangePercentMonth": 0.043905,
         "ChangePercentYear": "nan",
         "_deepnote_index_column": 1
        },
        {
         "Date": "2012-12",
         "Value": 0.018592,
         "ChangePercentMonth": -0.075715,
         "ChangePercentYear": "nan",
         "_deepnote_index_column": 2
        },
        {
         "Date": "2013-01",
         "Value": 0.018283,
         "ChangePercentMonth": -0.01662,
         "ChangePercentYear": "nan",
         "_deepnote_index_column": 3
        },
        {
         "Date": "2013-02",
         "Value": 0.018718,
         "ChangePercentMonth": 0.023793,
         "ChangePercentYear": "nan",
         "_deepnote_index_column": 4
        },
        {
         "Date": "2013-03",
         "Value": 0.01971,
         "ChangePercentMonth": 0.052997,
         "ChangePercentYear": "nan",
         "_deepnote_index_column": 5
        },
        {
         "Date": "2013-04",
         "Value": 0.020584,
         "ChangePercentMonth": 0.044343,
         "ChangePercentYear": "nan",
         "_deepnote_index_column": 6
        },
        {
         "Date": "2013-05",
         "Value": 0.01828,
         "ChangePercentMonth": -0.111932,
         "ChangePercentYear": "nan",
         "_deepnote_index_column": 7
        },
        {
         "Date": "2013-06",
         "Value": 0.016922,
         "ChangePercentMonth": -0.074289,
         "ChangePercentYear": "nan",
         "_deepnote_index_column": 8
        },
        {
         "Date": "2013-07",
         "Value": 0.017046,
         "ChangePercentMonth": 0.007328,
         "ChangePercentYear": "nan",
         "_deepnote_index_column": 9
        }
       ]
      },
      "text/plain": "        Date     Value  ChangePercentMonth  ChangePercentYear\n0    2012-10  0.019269                 NaN                NaN\n1    2012-11  0.020115            0.043905                NaN\n2    2012-12  0.018592           -0.075715                NaN\n3    2013-01  0.018283           -0.016620                NaN\n4    2013-02  0.018718            0.023793                NaN\n..       ...       ...                 ...                ...\n122  2022-12  0.034166            0.038575           0.727999\n123  2023-01  0.033754           -0.012059           0.542476\n124  2023-02  0.035582            0.054157           0.631753\n125  2023-03  0.037787            0.061970           0.580385\n126  2023-04  0.037901            0.003017           0.495699\n\n[127 rows x 4 columns]",
      "text/html": "<div>\n<style scoped>\n    .dataframe tbody tr th:only-of-type {\n        vertical-align: middle;\n    }\n\n    .dataframe tbody tr th {\n        vertical-align: top;\n    }\n\n    .dataframe thead th {\n        text-align: right;\n    }\n</style>\n<table border=\"1\" class=\"dataframe\">\n  <thead>\n    <tr style=\"text-align: right;\">\n      <th></th>\n      <th>Date</th>\n      <th>Value</th>\n      <th>ChangePercentMonth</th>\n      <th>ChangePercentYear</th>\n    </tr>\n  </thead>\n  <tbody>\n    <tr>\n      <th>0</th>\n      <td>2012-10</td>\n      <td>0.019269</td>\n      <td>NaN</td>\n      <td>NaN</td>\n    </tr>\n    <tr>\n      <th>1</th>\n      <td>2012-11</td>\n      <td>0.020115</td>\n      <td>0.043905</td>\n      <td>NaN</td>\n    </tr>\n    <tr>\n      <th>2</th>\n      <td>2012-12</td>\n      <td>0.018592</td>\n      <td>-0.075715</td>\n      <td>NaN</td>\n    </tr>\n    <tr>\n      <th>3</th>\n      <td>2013-01</td>\n      <td>0.018283</td>\n      <td>-0.016620</td>\n      <td>NaN</td>\n    </tr>\n    <tr>\n      <th>4</th>\n      <td>2013-02</td>\n      <td>0.018718</td>\n      <td>0.023793</td>\n      <td>NaN</td>\n    </tr>\n    <tr>\n      <th>...</th>\n      <td>...</td>\n      <td>...</td>\n      <td>...</td>\n      <td>...</td>\n    </tr>\n    <tr>\n      <th>122</th>\n      <td>2022-12</td>\n      <td>0.034166</td>\n      <td>0.038575</td>\n      <td>0.727999</td>\n    </tr>\n    <tr>\n      <th>123</th>\n      <td>2023-01</td>\n      <td>0.033754</td>\n      <td>-0.012059</td>\n      <td>0.542476</td>\n    </tr>\n    <tr>\n      <th>124</th>\n      <td>2023-02</td>\n      <td>0.035582</td>\n      <td>0.054157</td>\n      <td>0.631753</td>\n    </tr>\n    <tr>\n      <th>125</th>\n      <td>2023-03</td>\n      <td>0.037787</td>\n      <td>0.061970</td>\n      <td>0.580385</td>\n    </tr>\n    <tr>\n      <th>126</th>\n      <td>2023-04</td>\n      <td>0.037901</td>\n      <td>0.003017</td>\n      <td>0.495699</td>\n    </tr>\n  </tbody>\n</table>\n<p>127 rows × 4 columns</p>\n</div>"
     },
     "metadata": {}
    }
   ]
  },
  {
   "cell_type": "code",
   "metadata": {
    "cell_id": "6eaf3105ea4948aca0459cd6c88ba356",
    "tags": [],
    "deepnote_to_be_reexecuted": false,
    "source_hash": "9a8a04ea",
    "execution_start": 1650727142568,
    "execution_millis": 641,
    "deepnote_cell_type": "code",
    "deepnote_cell_height": 767.25,
    "deepnote_output_heights": [
     21.171875,
     563.703125
    ]
   },
   "source": "# Plot BIE time series graph\nplt.figure(figsize=(15,10))\nplt.xticks(np.arange(0, 2000, 12)) # show x-axis ticks at every 1 year\nplt.plot(bie_clean['Date'], bie_clean['Value'])",
   "execution_count": null,
   "outputs": [
    {
     "output_type": "execute_result",
     "execution_count": 13,
     "data": {
      "text/plain": "[<matplotlib.lines.Line2D at 0x7f75edc1a9d0>]"
     },
     "metadata": {}
    },
    {
     "data": {
      "text/plain": "<Figure size 1080x720 with 1 Axes>",
      "image/png": "[encoded data removed]"
     },
     "metadata": {
      "needs_background": "light",
      "image/png": {
       "width": 886,
       "height": 575
      }
     },
     "output_type": "display_data"
    }
   ]
  },
  {
   "cell_type": "markdown",
   "source": "### Oil Price Data\nThe West Texas Intermediate (WTI) benchmark for US crude is the world's most actively traded commodity. Crude Oil prices displayed in Trading Economics are based on over-the-counter (OTC) and contract for difference (CFD) financial instruments\n\nData source: https://tradingeconomics.com/commodity/crude-oil",
   "metadata": {
    "cell_id": "4da3bdfb63e6491c8d19c52f020996ff",
    "tags": [],
    "deepnote_cell_type": "markdown",
    "deepnote_cell_height": 159.28125
   }
  },
  {
   "cell_type": "code",
   "metadata": {
    "cell_id": "001895f7465642a79d438b484613c2fc",
    "tags": [],
    "deepnote_to_be_reexecuted": false,
    "source_hash": "22d03919",
    "execution_start": 1650727143269,
    "execution_millis": 32,
    "deepnote_table_state": {
     "pageSize": 10,
     "pageIndex": 0,
     "filters": [],
     "sortBy": []
    },
    "deepnote_table_loading": false,
    "deepnote_cell_type": "code",
    "deepnote_cell_height": 636.25
   },
   "source": "# Import oil price data and see the head\noil_pd = pd.read_csv(\"crude-oil-price.csv\")\noil_pd",
   "execution_count": null,
   "outputs": [
    {
     "output_type": "execute_result",
     "execution_count": 14,
     "data": {
      "application/vnd.deepnote.dataframe.v3+json": {
       "column_count": 4,
       "row_count": 469,
       "columns": [
        {
         "name": "date",
         "dtype": "object",
         "stats": {
          "unique_count": 469,
          "nan_count": 0,
          "categories": [
           {
            "name": "1983-03-30T00:00:00",
            "count": 1
           },
           {
            "name": "1983-04-04T00:00:00",
            "count": 1
           },
           {
            "name": "467 others",
            "count": 467
           }
          ]
         }
        },
        {
         "name": "price",
         "dtype": "float64",
         "stats": {
          "unique_count": 444,
          "nan_count": 0,
          "min": "10.42",
          "max": "140.0",
          "histogram": [
           {
            "bin_start": 10.42,
            "bin_end": 23.378,
            "count": 163
           },
           {
            "bin_start": 23.378,
            "bin_end": 36.336000000000006,
            "count": 94
           },
           {
            "bin_start": 36.336000000000006,
            "bin_end": 49.29400000000001,
            "count": 41
           },
           {
            "bin_start": 49.29400000000001,
            "bin_end": 62.25200000000001,
            "count": 51
           },
           {
            "bin_start": 62.25200000000001,
            "bin_end": 75.21000000000001,
            "count": 44
           },
           {
            "bin_start": 75.21000000000001,
            "bin_end": 88.16800000000002,
            "count": 21
           },
           {
            "bin_start": 88.16800000000002,
            "bin_end": 101.12600000000002,
            "count": 34
           },
           {
            "bin_start": 101.12600000000002,
            "bin_end": 114.08400000000002,
            "count": 17
           },
           {
            "bin_start": 114.08400000000002,
            "bin_end": 127.04200000000002,
            "count": 2
           },
           {
            "bin_start": 127.04200000000002,
            "bin_end": 140,
            "count": 2
           }
          ]
         }
        },
        {
         "name": "percentChange",
         "dtype": "float64",
         "stats": {
          "unique_count": 468,
          "nan_count": 1,
          "min": "-54.24486148346738",
          "max": "88.37579617834395",
          "histogram": [
           {
            "bin_start": -54.24486148346738,
            "bin_end": -39.98279571728625,
            "count": 1
           },
           {
            "bin_start": -39.98279571728625,
            "bin_end": -25.720729951105117,
            "count": 3
           },
           {
            "bin_start": -25.720729951105117,
            "bin_end": -11.458664184923983,
            "count": 32
           },
           {
            "bin_start": -11.458664184923983,
            "bin_end": 2.8034015812571482,
            "count": 239
           },
           {
            "bin_start": 2.8034015812571482,
            "bin_end": 17.06546734743828,
            "count": 173
           },
           {
            "bin_start": 17.06546734743828,
            "bin_end": 31.327533113619417,
            "count": 15
           },
           {
            "bin_start": 31.327533113619417,
            "bin_end": 45.58959887980054,
            "count": 4
           },
           {
            "bin_start": 45.58959887980054,
            "bin_end": 59.85166464598168,
            "count": 0
           },
           {
            "bin_start": 59.85166464598168,
            "bin_end": 74.1137304121628,
            "count": 0
           },
           {
            "bin_start": 74.1137304121628,
            "bin_end": 88.37579617834395,
            "count": 1
           }
          ]
         }
        },
        {
         "name": "change",
         "dtype": "float64",
         "stats": {
          "unique_count": 381,
          "nan_count": 1,
          "min": "-32.83",
          "max": "16.65",
          "histogram": [
           {
            "bin_start": -32.83,
            "bin_end": -27.881999999999998,
            "count": 1
           },
           {
            "bin_start": -27.881999999999998,
            "bin_end": -22.933999999999997,
            "count": 1
           },
           {
            "bin_start": -22.933999999999997,
            "bin_end": -17.986,
            "count": 1
           },
           {
            "bin_start": -17.986,
            "bin_end": -13.038,
            "count": 6
           },
           {
            "bin_start": -13.038,
            "bin_end": -8.09,
            "count": 11
           },
           {
            "bin_start": -8.09,
            "bin_end": -3.142000000000003,
            "count": 52
           },
           {
            "bin_start": -3.142000000000003,
            "bin_end": 1.8059999999999974,
            "count": 256
           },
           {
            "bin_start": 1.8059999999999974,
            "bin_end": 6.753999999999998,
            "count": 106
           },
           {
            "bin_start": 6.753999999999998,
            "bin_end": 11.701999999999998,
            "count": 24
           },
           {
            "bin_start": 11.701999999999998,
            "bin_end": 16.65,
            "count": 10
           }
          ]
         }
        },
        {
         "name": "_deepnote_index_column",
         "dtype": "int64"
        }
       ],
       "rows": [
        {
         "date": "1983-03-30T00:00:00",
         "price": 29.27,
         "percentChange": "nan",
         "change": "nan",
         "_deepnote_index_column": 0
        },
        {
         "date": "1983-04-04T00:00:00",
         "price": 30.63,
         "percentChange": 4.646395626921763,
         "change": 1.36,
         "_deepnote_index_column": 1
        },
        {
         "date": "1983-05-02T00:00:00",
         "price": 30.25,
         "percentChange": -1.2406137773424748,
         "change": -0.38,
         "_deepnote_index_column": 2
        },
        {
         "date": "1983-06-01T00:00:00",
         "price": 31.38,
         "percentChange": 3.7355371900826446,
         "change": 1.13,
         "_deepnote_index_column": 3
        },
        {
         "date": "1983-07-01T00:00:00",
         "price": 32,
         "percentChange": 1.975780752071383,
         "change": 0.62,
         "_deepnote_index_column": 4
        },
        {
         "date": "1983-08-01T00:00:00",
         "price": 31.59,
         "percentChange": -1.28125,
         "change": -0.41,
         "_deepnote_index_column": 5
        },
        {
         "date": "1983-09-01T00:00:00",
         "price": 30.36,
         "percentChange": -3.89363722697056,
         "change": -1.23,
         "_deepnote_index_column": 6
        },
        {
         "date": "1983-10-03T00:00:00",
         "price": 30.37,
         "percentChange": 0.0329380764163372,
         "change": 0.01,
         "_deepnote_index_column": 7
        },
        {
         "date": "1983-11-01T00:00:00",
         "price": 29.23,
         "percentChange": -3.753704313467237,
         "change": -1.14,
         "_deepnote_index_column": 8
        },
        {
         "date": "1983-12-01T00:00:00",
         "price": 29.6,
         "percentChange": 1.2658227848101269,
         "change": 0.37,
         "_deepnote_index_column": 9
        }
       ]
      },
      "text/plain": "                    date   price  percentChange  change\n0    1983-03-30T00:00:00   29.27            NaN     NaN\n1    1983-04-04T00:00:00   30.63       4.646396    1.36\n2    1983-05-02T00:00:00   30.25      -1.240614   -0.38\n3    1983-06-01T00:00:00   31.38       3.735537    1.13\n4    1983-07-01T00:00:00   32.00       1.975781    0.62\n..                   ...     ...            ...     ...\n464  2021-11-01T00:00:00   65.85     -19.479090  -15.93\n465  2021-12-01T00:00:00   74.88      13.712984    9.03\n466  2022-01-03T00:00:00   86.49      15.504808   11.61\n467  2022-02-01T00:00:00   93.50       8.104983    7.01\n468  2022-03-01T00:00:00  107.82      15.315508   14.32\n\n[469 rows x 4 columns]",
      "text/html": "<div>\n<style scoped>\n    .dataframe tbody tr th:only-of-type {\n        vertical-align: middle;\n    }\n\n    .dataframe tbody tr th {\n        vertical-align: top;\n    }\n\n    .dataframe thead th {\n        text-align: right;\n    }\n</style>\n<table border=\"1\" class=\"dataframe\">\n  <thead>\n    <tr style=\"text-align: right;\">\n      <th></th>\n      <th>date</th>\n      <th>price</th>\n      <th>percentChange</th>\n      <th>change</th>\n    </tr>\n  </thead>\n  <tbody>\n    <tr>\n      <th>0</th>\n      <td>1983-03-30T00:00:00</td>\n      <td>29.27</td>\n      <td>NaN</td>\n      <td>NaN</td>\n    </tr>\n    <tr>\n      <th>1</th>\n      <td>1983-04-04T00:00:00</td>\n      <td>30.63</td>\n      <td>4.646396</td>\n      <td>1.36</td>\n    </tr>\n    <tr>\n      <th>2</th>\n      <td>1983-05-02T00:00:00</td>\n      <td>30.25</td>\n      <td>-1.240614</td>\n      <td>-0.38</td>\n    </tr>\n    <tr>\n      <th>3</th>\n      <td>1983-06-01T00:00:00</td>\n      <td>31.38</td>\n      <td>3.735537</td>\n      <td>1.13</td>\n    </tr>\n    <tr>\n      <th>4</th>\n      <td>1983-07-01T00:00:00</td>\n      <td>32.00</td>\n      <td>1.975781</td>\n      <td>0.62</td>\n    </tr>\n    <tr>\n      <th>...</th>\n      <td>...</td>\n      <td>...</td>\n      <td>...</td>\n      <td>...</td>\n    </tr>\n    <tr>\n      <th>464</th>\n      <td>2021-11-01T00:00:00</td>\n      <td>65.85</td>\n      <td>-19.479090</td>\n      <td>-15.93</td>\n    </tr>\n    <tr>\n      <th>465</th>\n      <td>2021-12-01T00:00:00</td>\n      <td>74.88</td>\n      <td>13.712984</td>\n      <td>9.03</td>\n    </tr>\n    <tr>\n      <th>466</th>\n      <td>2022-01-03T00:00:00</td>\n      <td>86.49</td>\n      <td>15.504808</td>\n      <td>11.61</td>\n    </tr>\n    <tr>\n      <th>467</th>\n      <td>2022-02-01T00:00:00</td>\n      <td>93.50</td>\n      <td>8.104983</td>\n      <td>7.01</td>\n    </tr>\n    <tr>\n      <th>468</th>\n      <td>2022-03-01T00:00:00</td>\n      <td>107.82</td>\n      <td>15.315508</td>\n      <td>14.32</td>\n    </tr>\n  </tbody>\n</table>\n<p>469 rows × 4 columns</p>\n</div>"
     },
     "metadata": {}
    }
   ]
  },
  {
   "cell_type": "code",
   "metadata": {
    "cell_id": "d8b6ec7db0c3440eb823669a164d54fc",
    "tags": [],
    "deepnote_to_be_reexecuted": false,
    "source_hash": "6f791291",
    "execution_start": 1650727143310,
    "execution_millis": 13,
    "deepnote_cell_type": "code",
    "deepnote_cell_height": 136.4375,
    "deepnote_output_heights": [
     21.171875
    ]
   },
   "source": "# Look at the shape of our data\noil_pd.shape",
   "execution_count": null,
   "outputs": [
    {
     "output_type": "execute_result",
     "execution_count": 15,
     "data": {
      "text/plain": "(469, 4)"
     },
     "metadata": {}
    }
   ]
  },
  {
   "cell_type": "code",
   "metadata": {
    "cell_id": "4300b066b408434ea9c9b3a9215f5950",
    "tags": [],
    "deepnote_to_be_reexecuted": false,
    "source_hash": "90bc6996",
    "execution_start": 1650727143330,
    "execution_millis": 71,
    "deepnote_cell_type": "code",
    "deepnote_cell_height": 708.234375
   },
   "source": "# Clean data to have date in %Y-%m format\noil_clean = pd.DataFrame(df_dates_monthly(oil_pd,'date')[['date', 'price']])\noil_clean.columns = ['Date', 'Value']\n# Clean data to have monthly and yearly percentage changes\noil_clean = df_change_percent(oil_clean)\n# Show cleaned data\noil_clean",
   "execution_count": null,
   "outputs": [
    {
     "output_type": "execute_result",
     "execution_count": 16,
     "data": {
      "application/vnd.deepnote.dataframe.v3+json": {
       "column_count": 4,
       "row_count": 469,
       "columns": [
        {
         "name": "Date",
         "dtype": "object",
         "stats": {
          "unique_count": 469,
          "nan_count": 0,
          "categories": [
           {
            "name": "1983-03",
            "count": 1
           },
           {
            "name": "1983-04",
            "count": 1
           },
           {
            "name": "467 others",
            "count": 467
           }
          ]
         }
        },
        {
         "name": "Value",
         "dtype": "float64",
         "stats": {
          "unique_count": 444,
          "nan_count": 0,
          "min": "10.42",
          "max": "140.0",
          "histogram": [
           {
            "bin_start": 10.42,
            "bin_end": 23.378,
            "count": 163
           },
           {
            "bin_start": 23.378,
            "bin_end": 36.336000000000006,
            "count": 94
           },
           {
            "bin_start": 36.336000000000006,
            "bin_end": 49.29400000000001,
            "count": 41
           },
           {
            "bin_start": 49.29400000000001,
            "bin_end": 62.25200000000001,
            "count": 51
           },
           {
            "bin_start": 62.25200000000001,
            "bin_end": 75.21000000000001,
            "count": 44
           },
           {
            "bin_start": 75.21000000000001,
            "bin_end": 88.16800000000002,
            "count": 21
           },
           {
            "bin_start": 88.16800000000002,
            "bin_end": 101.12600000000002,
            "count": 34
           },
           {
            "bin_start": 101.12600000000002,
            "bin_end": 114.08400000000002,
            "count": 17
           },
           {
            "bin_start": 114.08400000000002,
            "bin_end": 127.04200000000002,
            "count": 2
           },
           {
            "bin_start": 127.04200000000002,
            "bin_end": 140,
            "count": 2
           }
          ]
         }
        },
        {
         "name": "ChangePercentMonth",
         "dtype": "float64",
         "stats": {
          "unique_count": 468,
          "nan_count": 1,
          "min": "-0.542449",
          "max": "0.883758",
          "histogram": [
           {
            "bin_start": -0.542449,
            "bin_end": -0.39982829999999997,
            "count": 1
           },
           {
            "bin_start": -0.39982829999999997,
            "bin_end": -0.2572076,
            "count": 3
           },
           {
            "bin_start": -0.2572076,
            "bin_end": -0.11458689999999999,
            "count": 32
           },
           {
            "bin_start": -0.11458689999999999,
            "bin_end": 0.028033799999999998,
            "count": 239
           },
           {
            "bin_start": 0.028033799999999998,
            "bin_end": 0.17065449999999993,
            "count": 173
           },
           {
            "bin_start": 0.17065449999999993,
            "bin_end": 0.3132752,
            "count": 15
           },
           {
            "bin_start": 0.3132752,
            "bin_end": 0.4558959,
            "count": 4
           },
           {
            "bin_start": 0.4558959,
            "bin_end": 0.5985166,
            "count": 0
           },
           {
            "bin_start": 0.5985166,
            "bin_end": 0.7411372999999999,
            "count": 0
           },
           {
            "bin_start": 0.7411372999999999,
            "bin_end": 0.883758,
            "count": 1
           }
          ]
         }
        },
        {
         "name": "ChangePercentYear",
         "dtype": "float64",
         "stats": {
          "unique_count": 457,
          "nan_count": 12,
          "min": "-0.70521",
          "max": "2.374735",
          "histogram": [
           {
            "bin_start": -0.70521,
            "bin_end": -0.3972155,
            "count": 34
           },
           {
            "bin_start": -0.3972155,
            "bin_end": -0.089221,
            "count": 111
           },
           {
            "bin_start": -0.089221,
            "bin_end": 0.21877350000000007,
            "count": 181
           },
           {
            "bin_start": 0.21877350000000007,
            "bin_end": 0.526768,
            "count": 81
           },
           {
            "bin_start": 0.526768,
            "bin_end": 0.8347625,
            "count": 35
           },
           {
            "bin_start": 0.8347625,
            "bin_end": 1.142757,
            "count": 9
           },
           {
            "bin_start": 1.142757,
            "bin_end": 1.4507515,
            "count": 3
           },
           {
            "bin_start": 1.4507515,
            "bin_end": 1.758746,
            "count": 1
           },
           {
            "bin_start": 1.758746,
            "bin_end": 2.0667405,
            "count": 1
           },
           {
            "bin_start": 2.0667405,
            "bin_end": 2.374735,
            "count": 1
           }
          ]
         }
        },
        {
         "name": "_deepnote_index_column",
         "dtype": "int64"
        }
       ],
       "rows": [
        {
         "Date": "1983-03",
         "Value": 29.27,
         "ChangePercentMonth": "nan",
         "ChangePercentYear": "nan",
         "_deepnote_index_column": 0
        },
        {
         "Date": "1983-04",
         "Value": 30.63,
         "ChangePercentMonth": 0.046464,
         "ChangePercentYear": "nan",
         "_deepnote_index_column": 1
        },
        {
         "Date": "1983-05",
         "Value": 30.25,
         "ChangePercentMonth": -0.012406,
         "ChangePercentYear": "nan",
         "_deepnote_index_column": 2
        },
        {
         "Date": "1983-06",
         "Value": 31.38,
         "ChangePercentMonth": 0.037355,
         "ChangePercentYear": "nan",
         "_deepnote_index_column": 3
        },
        {
         "Date": "1983-07",
         "Value": 32,
         "ChangePercentMonth": 0.019758,
         "ChangePercentYear": "nan",
         "_deepnote_index_column": 4
        },
        {
         "Date": "1983-08",
         "Value": 31.59,
         "ChangePercentMonth": -0.012813,
         "ChangePercentYear": "nan",
         "_deepnote_index_column": 5
        },
        {
         "Date": "1983-09",
         "Value": 30.36,
         "ChangePercentMonth": -0.038936,
         "ChangePercentYear": "nan",
         "_deepnote_index_column": 6
        },
        {
         "Date": "1983-10",
         "Value": 30.37,
         "ChangePercentMonth": 0.000329,
         "ChangePercentYear": "nan",
         "_deepnote_index_column": 7
        },
        {
         "Date": "1983-11",
         "Value": 29.23,
         "ChangePercentMonth": -0.037537,
         "ChangePercentYear": "nan",
         "_deepnote_index_column": 8
        },
        {
         "Date": "1983-12",
         "Value": 29.6,
         "ChangePercentMonth": 0.012658,
         "ChangePercentYear": "nan",
         "_deepnote_index_column": 9
        }
       ]
      },
      "text/plain": "        Date   Value  ChangePercentMonth  ChangePercentYear\n0    1983-03   29.27                 NaN                NaN\n1    1983-04   30.63            0.046464                NaN\n2    1983-05   30.25           -0.012406                NaN\n3    1983-06   31.38            0.037355                NaN\n4    1983-07   32.00            0.019758                NaN\n..       ...     ...                 ...                ...\n464  2021-11   65.85           -0.194791           0.452360\n465  2021-12   74.88            0.137130           0.543281\n466  2022-01   86.49            0.155048           0.656897\n467  2022-02   93.50            0.081050           0.520325\n468  2022-03  107.82            0.153155           0.822515\n\n[469 rows x 4 columns]",
      "text/html": "<div>\n<style scoped>\n    .dataframe tbody tr th:only-of-type {\n        vertical-align: middle;\n    }\n\n    .dataframe tbody tr th {\n        vertical-align: top;\n    }\n\n    .dataframe thead th {\n        text-align: right;\n    }\n</style>\n<table border=\"1\" class=\"dataframe\">\n  <thead>\n    <tr style=\"text-align: right;\">\n      <th></th>\n      <th>Date</th>\n      <th>Value</th>\n      <th>ChangePercentMonth</th>\n      <th>ChangePercentYear</th>\n    </tr>\n  </thead>\n  <tbody>\n    <tr>\n      <th>0</th>\n      <td>1983-03</td>\n      <td>29.27</td>\n      <td>NaN</td>\n      <td>NaN</td>\n    </tr>\n    <tr>\n      <th>1</th>\n      <td>1983-04</td>\n      <td>30.63</td>\n      <td>0.046464</td>\n      <td>NaN</td>\n    </tr>\n    <tr>\n      <th>2</th>\n      <td>1983-05</td>\n      <td>30.25</td>\n      <td>-0.012406</td>\n      <td>NaN</td>\n    </tr>\n    <tr>\n      <th>3</th>\n      <td>1983-06</td>\n      <td>31.38</td>\n      <td>0.037355</td>\n      <td>NaN</td>\n    </tr>\n    <tr>\n      <th>4</th>\n      <td>1983-07</td>\n      <td>32.00</td>\n      <td>0.019758</td>\n      <td>NaN</td>\n    </tr>\n    <tr>\n      <th>...</th>\n      <td>...</td>\n      <td>...</td>\n      <td>...</td>\n      <td>...</td>\n    </tr>\n    <tr>\n      <th>464</th>\n      <td>2021-11</td>\n      <td>65.85</td>\n      <td>-0.194791</td>\n      <td>0.452360</td>\n    </tr>\n    <tr>\n      <th>465</th>\n      <td>2021-12</td>\n      <td>74.88</td>\n      <td>0.137130</td>\n      <td>0.543281</td>\n    </tr>\n    <tr>\n      <th>466</th>\n      <td>2022-01</td>\n      <td>86.49</td>\n      <td>0.155048</td>\n      <td>0.656897</td>\n    </tr>\n    <tr>\n      <th>467</th>\n      <td>2022-02</td>\n      <td>93.50</td>\n      <td>0.081050</td>\n      <td>0.520325</td>\n    </tr>\n    <tr>\n      <th>468</th>\n      <td>2022-03</td>\n      <td>107.82</td>\n      <td>0.153155</td>\n      <td>0.822515</td>\n    </tr>\n  </tbody>\n</table>\n<p>469 rows × 4 columns</p>\n</div>"
     },
     "metadata": {}
    }
   ]
  },
  {
   "cell_type": "code",
   "metadata": {
    "cell_id": "9c0013ac861a454b8877c43d8ab29d81",
    "tags": [],
    "deepnote_to_be_reexecuted": false,
    "source_hash": "6690737a",
    "execution_start": 1650727143402,
    "execution_millis": 473,
    "deepnote_cell_type": "code",
    "deepnote_cell_height": 773.015625,
    "deepnote_output_heights": [
     21.171875,
     569.46875
    ]
   },
   "source": "# Plot oil price time series graph\nplt.figure(figsize=(15,10))\nplt.xticks(np.arange(0, 2000, 60)) # show x-axis ticks at every 5 years\nplt.plot(oil_clean['Date'], oil_clean['Value'])",
   "execution_count": null,
   "outputs": [
    {
     "output_type": "execute_result",
     "execution_count": 17,
     "data": {
      "text/plain": "[<matplotlib.lines.Line2D at 0x7f75edaeac90>]"
     },
     "metadata": {}
    },
    {
     "data": {
      "text/plain": "<Figure size 1080x720 with 1 Axes>",
      "image/png": "[encoded data removed]"
     },
     "metadata": {
      "needs_background": "light",
      "image/png": {
       "width": 877,
       "height": 575
      }
     },
     "output_type": "display_data"
    }
   ]
  },
  {
   "cell_type": "markdown",
   "source": "### Producer Price Index (PPI) Data\n\nThe US Producer Price Index measures average changes in prices received by domestic producers for their output. This metric can be used as a gauge for how much pricing power producers have. It is used in conjunction with the Consumer Price Index (CPI) to understand how prices are changing in the US economy. A change in the PPI often anticipates a change in the CPI.\n\nWe use Producer Price Index by Commodity: All Commodities\n\nData source: https://fred.stlouisfed.org/series/PPIACO",
   "metadata": {
    "cell_id": "c489613a459940e182531f0a93a74f2d",
    "tags": [],
    "deepnote_cell_type": "markdown",
    "deepnote_cell_height": 218.03125
   }
  },
  {
   "cell_type": "code",
   "metadata": {
    "cell_id": "617f62d9072f43d9ba096390591ebe95",
    "tags": [],
    "deepnote_to_be_reexecuted": false,
    "source_hash": "dae0d4c",
    "execution_start": 1650727143878,
    "execution_millis": 37,
    "deepnote_table_state": {
     "pageSize": 10,
     "pageIndex": 0,
     "filters": [],
     "sortBy": []
    },
    "deepnote_table_loading": false,
    "deepnote_cell_type": "code",
    "deepnote_cell_height": 449.296875
   },
   "source": "# Import PPI data and see the head\nppi_data = pd.read_csv(\"ppi_monthly_data.csv\")\nppi_data.columns = ['Date', 'Value']\nppi_data.head()",
   "execution_count": null,
   "outputs": [
    {
     "output_type": "execute_result",
     "execution_count": 18,
     "data": {
      "application/vnd.deepnote.dataframe.v3+json": {
       "column_count": 2,
       "row_count": 5,
       "columns": [
        {
         "name": "Date",
         "dtype": "object",
         "stats": {
          "unique_count": 5,
          "nan_count": 0,
          "categories": [
           {
            "name": "1913-01-01",
            "count": 1
           },
           {
            "name": "1913-02-01",
            "count": 1
           },
           {
            "name": "3 others",
            "count": 3
           }
          ]
         }
        },
        {
         "name": "Value",
         "dtype": "float64",
         "stats": {
          "unique_count": 3,
          "nan_count": 0,
          "min": "11.9",
          "max": "12.1",
          "histogram": [
           {
            "bin_start": 11.9,
            "bin_end": 11.92,
            "count": 1
           },
           {
            "bin_start": 11.92,
            "bin_end": 11.94,
            "count": 0
           },
           {
            "bin_start": 11.94,
            "bin_end": 11.96,
            "count": 0
           },
           {
            "bin_start": 11.96,
            "bin_end": 11.98,
            "count": 0
           },
           {
            "bin_start": 11.98,
            "bin_end": 12,
            "count": 0
           },
           {
            "bin_start": 12,
            "bin_end": 12.02,
            "count": 3
           },
           {
            "bin_start": 12.02,
            "bin_end": 12.04,
            "count": 0
           },
           {
            "bin_start": 12.04,
            "bin_end": 12.06,
            "count": 0
           },
           {
            "bin_start": 12.06,
            "bin_end": 12.08,
            "count": 0
           },
           {
            "bin_start": 12.08,
            "bin_end": 12.1,
            "count": 1
           }
          ]
         }
        },
        {
         "name": "_deepnote_index_column",
         "dtype": "int64"
        }
       ],
       "rows": [
        {
         "Date": "1913-01-01",
         "Value": 12.1,
         "_deepnote_index_column": 0
        },
        {
         "Date": "1913-02-01",
         "Value": 12,
         "_deepnote_index_column": 1
        },
        {
         "Date": "1913-03-01",
         "Value": 12,
         "_deepnote_index_column": 2
        },
        {
         "Date": "1913-04-01",
         "Value": 12,
         "_deepnote_index_column": 3
        },
        {
         "Date": "1913-05-01",
         "Value": 11.9,
         "_deepnote_index_column": 4
        }
       ]
      },
      "text/plain": "         Date  Value\n0  1913-01-01   12.1\n1  1913-02-01   12.0\n2  1913-03-01   12.0\n3  1913-04-01   12.0\n4  1913-05-01   11.9",
      "text/html": "<div>\n<style scoped>\n    .dataframe tbody tr th:only-of-type {\n        vertical-align: middle;\n    }\n\n    .dataframe tbody tr th {\n        vertical-align: top;\n    }\n\n    .dataframe thead th {\n        text-align: right;\n    }\n</style>\n<table border=\"1\" class=\"dataframe\">\n  <thead>\n    <tr style=\"text-align: right;\">\n      <th></th>\n      <th>Date</th>\n      <th>Value</th>\n    </tr>\n  </thead>\n  <tbody>\n    <tr>\n      <th>0</th>\n      <td>1913-01-01</td>\n      <td>12.1</td>\n    </tr>\n    <tr>\n      <th>1</th>\n      <td>1913-02-01</td>\n      <td>12.0</td>\n    </tr>\n    <tr>\n      <th>2</th>\n      <td>1913-03-01</td>\n      <td>12.0</td>\n    </tr>\n    <tr>\n      <th>3</th>\n      <td>1913-04-01</td>\n      <td>12.0</td>\n    </tr>\n    <tr>\n      <th>4</th>\n      <td>1913-05-01</td>\n      <td>11.9</td>\n    </tr>\n  </tbody>\n</table>\n</div>"
     },
     "metadata": {}
    }
   ]
  },
  {
   "cell_type": "code",
   "metadata": {
    "cell_id": "d1c76edfcffb48a8a04c135434e975b3",
    "tags": [],
    "deepnote_to_be_reexecuted": false,
    "source_hash": "976c014a",
    "execution_start": 1650727143921,
    "execution_millis": 11,
    "deepnote_cell_type": "code",
    "deepnote_cell_height": 136.4375,
    "deepnote_output_heights": [
     21.171875
    ]
   },
   "source": "# Look at the shape of our data\nppi_data.shape",
   "execution_count": null,
   "outputs": [
    {
     "output_type": "execute_result",
     "execution_count": 19,
     "data": {
      "text/plain": "(1311, 2)"
     },
     "metadata": {}
    }
   ]
  },
  {
   "cell_type": "code",
   "metadata": {
    "cell_id": "4ff8a123b9984622a1e84534b43c536d",
    "tags": [],
    "deepnote_to_be_reexecuted": false,
    "source_hash": "f3b130eb",
    "execution_start": 1650727143941,
    "execution_millis": 67,
    "deepnote_cell_type": "code",
    "deepnote_cell_height": 690.234375
   },
   "source": "# Clean data to have date in %Y-%m format\nppi_data_clean = df_dates_monthly(ppi_data)\n# Clean data to have monthly and yearly percentage changes\nppi_data_clean = df_change_percent(ppi_data_clean)\n# Show cleaned data\nppi_data_clean",
   "execution_count": null,
   "outputs": [
    {
     "output_type": "execute_result",
     "execution_count": 20,
     "data": {
      "application/vnd.deepnote.dataframe.v3+json": {
       "column_count": 4,
       "row_count": 1311,
       "columns": [
        {
         "name": "Date",
         "dtype": "object",
         "stats": {
          "unique_count": 1311,
          "nan_count": 0,
          "categories": [
           {
            "name": "1913-01",
            "count": 1
           },
           {
            "name": "1913-02",
            "count": 1
           },
           {
            "name": "1309 others",
            "count": 1309
           }
          ]
         }
        },
        {
         "name": "Value",
         "dtype": "float64",
         "stats": {
          "unique_count": 682,
          "nan_count": 0,
          "min": "10.3",
          "max": "258.999",
          "histogram": [
           {
            "bin_start": 10.3,
            "bin_end": 35.1699,
            "count": 674
           },
           {
            "bin_start": 35.1699,
            "bin_end": 60.0398,
            "count": 85
           },
           {
            "bin_start": 60.0398,
            "bin_end": 84.9097,
            "count": 45
           },
           {
            "bin_start": 84.9097,
            "bin_end": 109.7796,
            "count": 108
           },
           {
            "bin_start": 109.7796,
            "bin_end": 134.64950000000002,
            "count": 158
           },
           {
            "bin_start": 134.64950000000002,
            "bin_end": 159.51940000000002,
            "count": 42
           },
           {
            "bin_start": 159.51940000000002,
            "bin_end": 184.38930000000002,
            "count": 54
           },
           {
            "bin_start": 184.38930000000002,
            "bin_end": 209.25920000000002,
            "count": 131
           },
           {
            "bin_start": 209.25920000000002,
            "bin_end": 234.12910000000002,
            "count": 7
           },
           {
            "bin_start": 234.12910000000002,
            "bin_end": 258.999,
            "count": 7
           }
          ]
         }
        },
        {
         "name": "ChangePercentMonth",
         "dtype": "float64",
         "stats": {
          "unique_count": 924,
          "nan_count": 1,
          "min": "-0.095652",
          "max": "0.108247",
          "histogram": [
           {
            "bin_start": -0.095652,
            "bin_end": -0.0752621,
            "count": 3
           },
           {
            "bin_start": -0.0752621,
            "bin_end": -0.0548722,
            "count": 2
           },
           {
            "bin_start": -0.0548722,
            "bin_end": -0.03448230000000001,
            "count": 7
           },
           {
            "bin_start": -0.03448230000000001,
            "bin_end": -0.014092400000000005,
            "count": 65
           },
           {
            "bin_start": -0.014092400000000005,
            "bin_end": 0.0062974999999999975,
            "count": 864
           },
           {
            "bin_start": 0.0062974999999999975,
            "bin_end": 0.026687399999999986,
            "count": 330
           },
           {
            "bin_start": 0.026687399999999986,
            "bin_end": 0.0470773,
            "count": 31
           },
           {
            "bin_start": 0.0470773,
            "bin_end": 0.06746719999999999,
            "count": 5
           },
           {
            "bin_start": 0.06746719999999999,
            "bin_end": 0.08785709999999998,
            "count": 2
           },
           {
            "bin_start": 0.08785709999999998,
            "bin_end": 0.108247,
            "count": 1
           }
          ]
         }
        },
        {
         "name": "ChangePercentYear",
         "dtype": "float64",
         "stats": {
          "unique_count": 1104,
          "nan_count": 12,
          "min": "-0.439024",
          "max": "0.472222",
          "histogram": [
           {
            "bin_start": -0.439024,
            "bin_end": -0.3478994,
            "count": 8
           },
           {
            "bin_start": -0.3478994,
            "bin_end": -0.2567748,
            "count": 3
           },
           {
            "bin_start": -0.2567748,
            "bin_end": -0.16565020000000003,
            "count": 6
           },
           {
            "bin_start": -0.16565020000000003,
            "bin_end": -0.07452560000000003,
            "count": 59
           },
           {
            "bin_start": -0.07452560000000003,
            "bin_end": 0.016598999999999975,
            "count": 499
           },
           {
            "bin_start": 0.016598999999999975,
            "bin_end": 0.10772359999999997,
            "count": 548
           },
           {
            "bin_start": 0.10772359999999997,
            "bin_end": 0.19884819999999997,
            "count": 122
           },
           {
            "bin_start": 0.19884819999999997,
            "bin_end": 0.2899728,
            "count": 34
           },
           {
            "bin_start": 0.2899728,
            "bin_end": 0.3810974,
            "count": 14
           },
           {
            "bin_start": 0.3810974,
            "bin_end": 0.472222,
            "count": 6
           }
          ]
         }
        },
        {
         "name": "_deepnote_index_column",
         "dtype": "int64"
        }
       ],
       "rows": [
        {
         "Date": "1913-01",
         "Value": 12.1,
         "ChangePercentMonth": "nan",
         "ChangePercentYear": "nan",
         "_deepnote_index_column": 0
        },
        {
         "Date": "1913-02",
         "Value": 12,
         "ChangePercentMonth": -0.008264,
         "ChangePercentYear": "nan",
         "_deepnote_index_column": 1
        },
        {
         "Date": "1913-03",
         "Value": 12,
         "ChangePercentMonth": 0,
         "ChangePercentYear": "nan",
         "_deepnote_index_column": 2
        },
        {
         "Date": "1913-04",
         "Value": 12,
         "ChangePercentMonth": 0,
         "ChangePercentYear": "nan",
         "_deepnote_index_column": 3
        },
        {
         "Date": "1913-05",
         "Value": 11.9,
         "ChangePercentMonth": -0.008333,
         "ChangePercentYear": "nan",
         "_deepnote_index_column": 4
        },
        {
         "Date": "1913-06",
         "Value": 11.9,
         "ChangePercentMonth": 0,
         "ChangePercentYear": "nan",
         "_deepnote_index_column": 5
        },
        {
         "Date": "1913-07",
         "Value": 12,
         "ChangePercentMonth": 0.008403,
         "ChangePercentYear": "nan",
         "_deepnote_index_column": 6
        },
        {
         "Date": "1913-08",
         "Value": 12,
         "ChangePercentMonth": 0,
         "ChangePercentYear": "nan",
         "_deepnote_index_column": 7
        },
        {
         "Date": "1913-09",
         "Value": 12.2,
         "ChangePercentMonth": 0.016667,
         "ChangePercentYear": "nan",
         "_deepnote_index_column": 8
        },
        {
         "Date": "1913-10",
         "Value": 12.2,
         "ChangePercentMonth": 0,
         "ChangePercentYear": "nan",
         "_deepnote_index_column": 9
        }
       ]
      },
      "text/plain": "         Date    Value  ChangePercentMonth  ChangePercentYear\n0     1913-01   12.100                 NaN                NaN\n1     1913-02   12.000           -0.008264                NaN\n2     1913-03   12.000            0.000000                NaN\n3     1913-04   12.000            0.000000                NaN\n4     1913-05   11.900           -0.008333                NaN\n...       ...      ...                 ...                ...\n1306  2021-11  243.287            0.011736           0.226863\n1307  2021-12  241.327           -0.008056           0.203626\n1308  2022-01  246.245            0.020379           0.202368\n1309  2022-02  253.180            0.028163           0.202184\n1310  2022-03  258.999            0.022984           0.204647\n\n[1311 rows x 4 columns]",
      "text/html": "<div>\n<style scoped>\n    .dataframe tbody tr th:only-of-type {\n        vertical-align: middle;\n    }\n\n    .dataframe tbody tr th {\n        vertical-align: top;\n    }\n\n    .dataframe thead th {\n        text-align: right;\n    }\n</style>\n<table border=\"1\" class=\"dataframe\">\n  <thead>\n    <tr style=\"text-align: right;\">\n      <th></th>\n      <th>Date</th>\n      <th>Value</th>\n      <th>ChangePercentMonth</th>\n      <th>ChangePercentYear</th>\n    </tr>\n  </thead>\n  <tbody>\n    <tr>\n      <th>0</th>\n      <td>1913-01</td>\n      <td>12.100</td>\n      <td>NaN</td>\n      <td>NaN</td>\n    </tr>\n    <tr>\n      <th>1</th>\n      <td>1913-02</td>\n      <td>12.000</td>\n      <td>-0.008264</td>\n      <td>NaN</td>\n    </tr>\n    <tr>\n      <th>2</th>\n      <td>1913-03</td>\n      <td>12.000</td>\n      <td>0.000000</td>\n      <td>NaN</td>\n    </tr>\n    <tr>\n      <th>3</th>\n      <td>1913-04</td>\n      <td>12.000</td>\n      <td>0.000000</td>\n      <td>NaN</td>\n    </tr>\n    <tr>\n      <th>4</th>\n      <td>1913-05</td>\n      <td>11.900</td>\n      <td>-0.008333</td>\n      <td>NaN</td>\n    </tr>\n    <tr>\n      <th>...</th>\n      <td>...</td>\n      <td>...</td>\n      <td>...</td>\n      <td>...</td>\n    </tr>\n    <tr>\n      <th>1306</th>\n      <td>2021-11</td>\n      <td>243.287</td>\n      <td>0.011736</td>\n      <td>0.226863</td>\n    </tr>\n    <tr>\n      <th>1307</th>\n      <td>2021-12</td>\n      <td>241.327</td>\n      <td>-0.008056</td>\n      <td>0.203626</td>\n    </tr>\n    <tr>\n      <th>1308</th>\n      <td>2022-01</td>\n      <td>246.245</td>\n      <td>0.020379</td>\n      <td>0.202368</td>\n    </tr>\n    <tr>\n      <th>1309</th>\n      <td>2022-02</td>\n      <td>253.180</td>\n      <td>0.028163</td>\n      <td>0.202184</td>\n    </tr>\n    <tr>\n      <th>1310</th>\n      <td>2022-03</td>\n      <td>258.999</td>\n      <td>0.022984</td>\n      <td>0.204647</td>\n    </tr>\n  </tbody>\n</table>\n<p>1311 rows × 4 columns</p>\n</div>"
     },
     "metadata": {}
    }
   ]
  },
  {
   "cell_type": "code",
   "metadata": {
    "cell_id": "92d7e0c2be1d4d04a62563389fd1a2ba",
    "tags": [],
    "deepnote_to_be_reexecuted": false,
    "source_hash": "a2317df9",
    "execution_start": 1650727144013,
    "execution_millis": 608,
    "deepnote_cell_type": "code",
    "deepnote_cell_height": 738.75,
    "deepnote_output_heights": [
     569.46875
    ]
   },
   "source": "# Plot PPI time series graph\nplt.figure(figsize=(15,10))\nplt.xticks(np.arange(0, 2000, 120)) # show x-axis ticks at every 10 years\nplt.plot(ppi_data_clean['Date'], ppi_data_clean['Value'])\nplt.show()",
   "execution_count": null,
   "outputs": [
    {
     "data": {
      "text/plain": "<Figure size 1080x720 with 1 Axes>",
      "image/png": "[encoded data removed]"
     },
     "metadata": {
      "needs_background": "light",
      "image/png": {
       "width": 877,
       "height": 575
      }
     },
     "output_type": "display_data"
    }
   ]
  },
  {
   "cell_type": "markdown",
   "source": "### Nominal Effective Exchange Rate\nThe nominal effective exchange rate (NEER) is an unadjusted weighted average rate at which one country's currency exchanges for a basket of multiple foreign currencies. The nominal exchange rate is the amount of domestic currency needed to purchase foreign currency.\n\nIn economics, the NEER is an indicator of a country's international competitiveness in terms of the foreign exchange (forex) market. Forex traders sometimes refer to the NEER as the trade-weighted currency index.\n\nIf a domestic currency increases against a basket of other currencies inside a floating exchange rate regime, NEER is said to appreciate. If the domestic currency falls against the basket, the NEER depreciates.\n\nThe NEER only describes relative value; it cannot definitively show whether a currency is strong or gaining strength in real terms. It only describes whether a currency is weak or strong, or weakening or strengthening, compared to foreign currencies. As with all exchange rates, the NEER can help identify which currencies store value more or less effectively. Exchange rates influence where international actors buy or sell goods.\n\nNEER is used in economic studies and for policy analysis on international trade. It is also used by forex traders who engage in currency arbitrage. The Federal Reserve calculates three different NEER indices for the United States: the broad index, the Advanced Foreign Economies (AFE) and the Emerging Market Economies (EME)\n\nWe use the NEER for the US\n\nData Source: https://fred.stlouisfed.org/series/NBUSBIS ",
   "metadata": {
    "cell_id": "f7fefab1f2ba4ce68289b8da0ba623cd",
    "tags": [],
    "deepnote_cell_type": "markdown",
    "deepnote_cell_height": 520.171875
   }
  },
  {
   "cell_type": "code",
   "metadata": {
    "cell_id": "1bcff8000843491486b3c3ca85dfa293",
    "tags": [],
    "deepnote_to_be_reexecuted": false,
    "source_hash": "3139a132",
    "execution_start": 1650727144555,
    "execution_millis": 69,
    "deepnote_table_state": {
     "pageSize": 10,
     "pageIndex": 0,
     "filters": [],
     "sortBy": []
    },
    "deepnote_table_loading": false,
    "deepnote_cell_type": "code",
    "deepnote_cell_height": 654.25
   },
   "source": "# Import NEER data and see the head\nneer_pd = pd.read_csv('NBUSBIS.csv')\nneer_pd.columns = ['Date', 'Value']\nneer_pd",
   "execution_count": null,
   "outputs": [
    {
     "output_type": "execute_result",
     "execution_count": 22,
     "data": {
      "application/vnd.deepnote.dataframe.v3+json": {
       "column_count": 2,
       "row_count": 339,
       "columns": [
        {
         "name": "Date",
         "dtype": "object",
         "stats": {
          "unique_count": 339,
          "nan_count": 0,
          "categories": [
           {
            "name": "1994-01-01",
            "count": 1
           },
           {
            "name": "1994-02-01",
            "count": 1
           },
           {
            "name": "337 others",
            "count": 337
           }
          ]
         }
        },
        {
         "name": "Value",
         "dtype": "float64",
         "stats": {
          "unique_count": 326,
          "nan_count": 0,
          "min": "87.92",
          "max": "130.74",
          "histogram": [
           {
            "bin_start": 87.92,
            "bin_end": 92.202,
            "count": 18
           },
           {
            "bin_start": 92.202,
            "bin_end": 96.48400000000001,
            "count": 25
           },
           {
            "bin_start": 96.48400000000001,
            "bin_end": 100.766,
            "count": 58
           },
           {
            "bin_start": 100.766,
            "bin_end": 105.048,
            "count": 29
           },
           {
            "bin_start": 105.048,
            "bin_end": 109.33000000000001,
            "count": 32
           },
           {
            "bin_start": 109.33000000000001,
            "bin_end": 113.61200000000001,
            "count": 27
           },
           {
            "bin_start": 113.61200000000001,
            "bin_end": 117.894,
            "count": 49
           },
           {
            "bin_start": 117.894,
            "bin_end": 122.17600000000002,
            "count": 53
           },
           {
            "bin_start": 122.17600000000002,
            "bin_end": 126.45800000000001,
            "count": 40
           },
           {
            "bin_start": 126.45800000000001,
            "bin_end": 130.74,
            "count": 8
           }
          ]
         }
        },
        {
         "name": "_deepnote_index_column",
         "dtype": "int64"
        }
       ],
       "rows": [
        {
         "Date": "1994-01-01",
         "Value": 88.81,
         "_deepnote_index_column": 0
        },
        {
         "Date": "1994-02-01",
         "Value": 88.89,
         "_deepnote_index_column": 1
        },
        {
         "Date": "1994-03-01",
         "Value": 89.52,
         "_deepnote_index_column": 2
        },
        {
         "Date": "1994-04-01",
         "Value": 90.3,
         "_deepnote_index_column": 3
        },
        {
         "Date": "1994-05-01",
         "Value": 90.27,
         "_deepnote_index_column": 4
        },
        {
         "Date": "1994-06-01",
         "Value": 90.41,
         "_deepnote_index_column": 5
        },
        {
         "Date": "1994-07-01",
         "Value": 89.21,
         "_deepnote_index_column": 6
        },
        {
         "Date": "1994-08-01",
         "Value": 89.18,
         "_deepnote_index_column": 7
        },
        {
         "Date": "1994-09-01",
         "Value": 88.42,
         "_deepnote_index_column": 8
        },
        {
         "Date": "1994-10-01",
         "Value": 87.92,
         "_deepnote_index_column": 9
        }
       ]
      },
      "text/plain": "           Date   Value\n0    1994-01-01   88.81\n1    1994-02-01   88.89\n2    1994-03-01   89.52\n3    1994-04-01   90.30\n4    1994-05-01   90.27\n..          ...     ...\n334  2021-11-01  121.78\n335  2021-12-01  122.57\n336  2022-01-01  121.92\n337  2022-02-01  121.84\n338  2022-03-01  123.39\n\n[339 rows x 2 columns]",
      "text/html": "<div>\n<style scoped>\n    .dataframe tbody tr th:only-of-type {\n        vertical-align: middle;\n    }\n\n    .dataframe tbody tr th {\n        vertical-align: top;\n    }\n\n    .dataframe thead th {\n        text-align: right;\n    }\n</style>\n<table border=\"1\" class=\"dataframe\">\n  <thead>\n    <tr style=\"text-align: right;\">\n      <th></th>\n      <th>Date</th>\n      <th>Value</th>\n    </tr>\n  </thead>\n  <tbody>\n    <tr>\n      <th>0</th>\n      <td>1994-01-01</td>\n      <td>88.81</td>\n    </tr>\n    <tr>\n      <th>1</th>\n      <td>1994-02-01</td>\n      <td>88.89</td>\n    </tr>\n    <tr>\n      <th>2</th>\n      <td>1994-03-01</td>\n      <td>89.52</td>\n    </tr>\n    <tr>\n      <th>3</th>\n      <td>1994-04-01</td>\n      <td>90.30</td>\n    </tr>\n    <tr>\n      <th>4</th>\n      <td>1994-05-01</td>\n      <td>90.27</td>\n    </tr>\n    <tr>\n      <th>...</th>\n      <td>...</td>\n      <td>...</td>\n    </tr>\n    <tr>\n      <th>334</th>\n      <td>2021-11-01</td>\n      <td>121.78</td>\n    </tr>\n    <tr>\n      <th>335</th>\n      <td>2021-12-01</td>\n      <td>122.57</td>\n    </tr>\n    <tr>\n      <th>336</th>\n      <td>2022-01-01</td>\n      <td>121.92</td>\n    </tr>\n    <tr>\n      <th>337</th>\n      <td>2022-02-01</td>\n      <td>121.84</td>\n    </tr>\n    <tr>\n      <th>338</th>\n      <td>2022-03-01</td>\n      <td>123.39</td>\n    </tr>\n  </tbody>\n</table>\n<p>339 rows × 2 columns</p>\n</div>"
     },
     "metadata": {}
    }
   ]
  },
  {
   "cell_type": "code",
   "metadata": {
    "cell_id": "a034441a6f474bd79c1a8d570c2c1717",
    "tags": [],
    "deepnote_to_be_reexecuted": false,
    "source_hash": "3eed9e10",
    "execution_start": 1650727144610,
    "execution_millis": 32,
    "deepnote_cell_type": "code",
    "deepnote_cell_height": 136.4375,
    "deepnote_output_heights": [
     21.171875
    ]
   },
   "source": "# Look at the shape of our data\nneer_pd.shape",
   "execution_count": null,
   "outputs": [
    {
     "output_type": "execute_result",
     "execution_count": 23,
     "data": {
      "text/plain": "(339, 2)"
     },
     "metadata": {}
    }
   ]
  },
  {
   "cell_type": "code",
   "metadata": {
    "cell_id": "f3beb62d675846ad967860b7ae913aef",
    "tags": [],
    "deepnote_to_be_reexecuted": false,
    "source_hash": "5156a70f",
    "execution_start": 1650727144631,
    "execution_millis": 61,
    "deepnote_cell_type": "code",
    "deepnote_cell_height": 690.234375
   },
   "source": "# Clean data to have date in %Y-%m format\nneer_data_clean = df_dates_monthly(neer_pd)\n# Clean data to have monthly and yearly percentage changes\nneer_data_clean = df_change_percent(neer_data_clean)\n# Show cleaned data\nneer_data_clean",
   "execution_count": null,
   "outputs": [
    {
     "output_type": "execute_result",
     "execution_count": 24,
     "data": {
      "application/vnd.deepnote.dataframe.v3+json": {
       "column_count": 4,
       "row_count": 339,
       "columns": [
        {
         "name": "Date",
         "dtype": "object",
         "stats": {
          "unique_count": 339,
          "nan_count": 0,
          "categories": [
           {
            "name": "1994-01",
            "count": 1
           },
           {
            "name": "1994-02",
            "count": 1
           },
           {
            "name": "337 others",
            "count": 337
           }
          ]
         }
        },
        {
         "name": "Value",
         "dtype": "float64",
         "stats": {
          "unique_count": 326,
          "nan_count": 0,
          "min": "87.92",
          "max": "130.74",
          "histogram": [
           {
            "bin_start": 87.92,
            "bin_end": 92.202,
            "count": 18
           },
           {
            "bin_start": 92.202,
            "bin_end": 96.48400000000001,
            "count": 25
           },
           {
            "bin_start": 96.48400000000001,
            "bin_end": 100.766,
            "count": 58
           },
           {
            "bin_start": 100.766,
            "bin_end": 105.048,
            "count": 29
           },
           {
            "bin_start": 105.048,
            "bin_end": 109.33000000000001,
            "count": 32
           },
           {
            "bin_start": 109.33000000000001,
            "bin_end": 113.61200000000001,
            "count": 27
           },
           {
            "bin_start": 113.61200000000001,
            "bin_end": 117.894,
            "count": 49
           },
           {
            "bin_start": 117.894,
            "bin_end": 122.17600000000002,
            "count": 53
           },
           {
            "bin_start": 122.17600000000002,
            "bin_end": 126.45800000000001,
            "count": 40
           },
           {
            "bin_start": 126.45800000000001,
            "bin_end": 130.74,
            "count": 8
           }
          ]
         }
        },
        {
         "name": "ChangePercentMonth",
         "dtype": "float64",
         "stats": {
          "unique_count": 334,
          "nan_count": 1,
          "min": "-0.035225",
          "max": "0.066328",
          "histogram": [
           {
            "bin_start": -0.035225,
            "bin_end": -0.0250697,
            "count": 6
           },
           {
            "bin_start": -0.0250697,
            "bin_end": -0.014914399999999998,
            "count": 20
           },
           {
            "bin_start": -0.014914399999999998,
            "bin_end": -0.004759099999999995,
            "count": 79
           },
           {
            "bin_start": -0.004759099999999995,
            "bin_end": 0.005396200000000004,
            "count": 116
           },
           {
            "bin_start": 0.005396200000000004,
            "bin_end": 0.015551500000000003,
            "count": 79
           },
           {
            "bin_start": 0.015551500000000003,
            "bin_end": 0.02570680000000001,
            "count": 28
           },
           {
            "bin_start": 0.02570680000000001,
            "bin_end": 0.0358621,
            "count": 9
           },
           {
            "bin_start": 0.0358621,
            "bin_end": 0.04601740000000001,
            "count": 0
           },
           {
            "bin_start": 0.04601740000000001,
            "bin_end": 0.05617270000000001,
            "count": 0
           },
           {
            "bin_start": 0.05617270000000001,
            "bin_end": 0.066328,
            "count": 1
           }
          ]
         }
        },
        {
         "name": "ChangePercentYear",
         "dtype": "float64",
         "stats": {
          "unique_count": 326,
          "nan_count": 12,
          "min": "-0.104354",
          "max": "0.169368",
          "histogram": [
           {
            "bin_start": -0.104354,
            "bin_end": -0.0769818,
            "count": 23
           },
           {
            "bin_start": -0.0769818,
            "bin_end": -0.0496096,
            "count": 27
           },
           {
            "bin_start": -0.0496096,
            "bin_end": -0.02223739999999999,
            "count": 47
           },
           {
            "bin_start": -0.02223739999999999,
            "bin_end": 0.005134800000000009,
            "count": 53
           },
           {
            "bin_start": 0.005134800000000009,
            "bin_end": 0.03250700000000001,
            "count": 62
           },
           {
            "bin_start": 0.03250700000000001,
            "bin_end": 0.05987920000000002,
            "count": 52
           },
           {
            "bin_start": 0.05987920000000002,
            "bin_end": 0.0872514,
            "count": 27
           },
           {
            "bin_start": 0.0872514,
            "bin_end": 0.11462360000000002,
            "count": 16
           },
           {
            "bin_start": 0.11462360000000002,
            "bin_end": 0.14199580000000003,
            "count": 13
           },
           {
            "bin_start": 0.14199580000000003,
            "bin_end": 0.169368,
            "count": 7
           }
          ]
         }
        },
        {
         "name": "_deepnote_index_column",
         "dtype": "int64"
        }
       ],
       "rows": [
        {
         "Date": "1994-01",
         "Value": 88.81,
         "ChangePercentMonth": "nan",
         "ChangePercentYear": "nan",
         "_deepnote_index_column": 0
        },
        {
         "Date": "1994-02",
         "Value": 88.89,
         "ChangePercentMonth": 0.000901,
         "ChangePercentYear": "nan",
         "_deepnote_index_column": 1
        },
        {
         "Date": "1994-03",
         "Value": 89.52,
         "ChangePercentMonth": 0.007087,
         "ChangePercentYear": "nan",
         "_deepnote_index_column": 2
        },
        {
         "Date": "1994-04",
         "Value": 90.3,
         "ChangePercentMonth": 0.008713,
         "ChangePercentYear": "nan",
         "_deepnote_index_column": 3
        },
        {
         "Date": "1994-05",
         "Value": 90.27,
         "ChangePercentMonth": -0.000332,
         "ChangePercentYear": "nan",
         "_deepnote_index_column": 4
        },
        {
         "Date": "1994-06",
         "Value": 90.41,
         "ChangePercentMonth": 0.001551,
         "ChangePercentYear": "nan",
         "_deepnote_index_column": 5
        },
        {
         "Date": "1994-07",
         "Value": 89.21,
         "ChangePercentMonth": -0.013273,
         "ChangePercentYear": "nan",
         "_deepnote_index_column": 6
        },
        {
         "Date": "1994-08",
         "Value": 89.18,
         "ChangePercentMonth": -0.000336,
         "ChangePercentYear": "nan",
         "_deepnote_index_column": 7
        },
        {
         "Date": "1994-09",
         "Value": 88.42,
         "ChangePercentMonth": -0.008522,
         "ChangePercentYear": "nan",
         "_deepnote_index_column": 8
        },
        {
         "Date": "1994-10",
         "Value": 87.92,
         "ChangePercentMonth": -0.005655,
         "ChangePercentYear": "nan",
         "_deepnote_index_column": 9
        }
       ]
      },
      "text/plain": "        Date   Value  ChangePercentMonth  ChangePercentYear\n0    1994-01   88.81                 NaN                NaN\n1    1994-02   88.89            0.000901                NaN\n2    1994-03   89.52            0.007087                NaN\n3    1994-04   90.30            0.008713                NaN\n4    1994-05   90.27           -0.000332                NaN\n..       ...     ...                 ...                ...\n334  2021-11  121.78            0.007946           0.008948\n335  2021-12  122.57            0.006487           0.034084\n336  2022-01  121.92           -0.005303           0.033133\n337  2022-02  121.84           -0.000656           0.028272\n338  2022-03  123.39            0.012722           0.027223\n\n[339 rows x 4 columns]",
      "text/html": "<div>\n<style scoped>\n    .dataframe tbody tr th:only-of-type {\n        vertical-align: middle;\n    }\n\n    .dataframe tbody tr th {\n        vertical-align: top;\n    }\n\n    .dataframe thead th {\n        text-align: right;\n    }\n</style>\n<table border=\"1\" class=\"dataframe\">\n  <thead>\n    <tr style=\"text-align: right;\">\n      <th></th>\n      <th>Date</th>\n      <th>Value</th>\n      <th>ChangePercentMonth</th>\n      <th>ChangePercentYear</th>\n    </tr>\n  </thead>\n  <tbody>\n    <tr>\n      <th>0</th>\n      <td>1994-01</td>\n      <td>88.81</td>\n      <td>NaN</td>\n      <td>NaN</td>\n    </tr>\n    <tr>\n      <th>1</th>\n      <td>1994-02</td>\n      <td>88.89</td>\n      <td>0.000901</td>\n      <td>NaN</td>\n    </tr>\n    <tr>\n      <th>2</th>\n      <td>1994-03</td>\n      <td>89.52</td>\n      <td>0.007087</td>\n      <td>NaN</td>\n    </tr>\n    <tr>\n      <th>3</th>\n      <td>1994-04</td>\n      <td>90.30</td>\n      <td>0.008713</td>\n      <td>NaN</td>\n    </tr>\n    <tr>\n      <th>4</th>\n      <td>1994-05</td>\n      <td>90.27</td>\n      <td>-0.000332</td>\n      <td>NaN</td>\n    </tr>\n    <tr>\n      <th>...</th>\n      <td>...</td>\n      <td>...</td>\n      <td>...</td>\n      <td>...</td>\n    </tr>\n    <tr>\n      <th>334</th>\n      <td>2021-11</td>\n      <td>121.78</td>\n      <td>0.007946</td>\n      <td>0.008948</td>\n    </tr>\n    <tr>\n      <th>335</th>\n      <td>2021-12</td>\n      <td>122.57</td>\n      <td>0.006487</td>\n      <td>0.034084</td>\n    </tr>\n    <tr>\n      <th>336</th>\n      <td>2022-01</td>\n      <td>121.92</td>\n      <td>-0.005303</td>\n      <td>0.033133</td>\n    </tr>\n    <tr>\n      <th>337</th>\n      <td>2022-02</td>\n      <td>121.84</td>\n      <td>-0.000656</td>\n      <td>0.028272</td>\n    </tr>\n    <tr>\n      <th>338</th>\n      <td>2022-03</td>\n      <td>123.39</td>\n      <td>0.012722</td>\n      <td>0.027223</td>\n    </tr>\n  </tbody>\n</table>\n<p>339 rows × 4 columns</p>\n</div>"
     },
     "metadata": {}
    }
   ]
  },
  {
   "cell_type": "code",
   "metadata": {
    "cell_id": "7cd123c5489f4a5e9dfc069c933af94b",
    "tags": [],
    "deepnote_to_be_reexecuted": false,
    "source_hash": "ca8985d",
    "execution_start": 1650727144702,
    "execution_millis": 354,
    "deepnote_cell_type": "code",
    "deepnote_cell_height": 738.75,
    "deepnote_output_heights": [
     569.46875
    ]
   },
   "source": "# Plot PPI time series graph\nplt.figure(figsize=(15,10))\nplt.xticks(np.arange(0, 2000, 60)) # show x-axis ticks at every 5 years\nplt.plot(neer_data_clean['Date'], neer_data_clean['Value'])\nplt.show()",
   "execution_count": null,
   "outputs": [
    {
     "data": {
      "text/plain": "<Figure size 1080x720 with 1 Axes>",
      "image/png": "[encoded data removed]"
     },
     "metadata": {
      "needs_background": "light",
      "image/png": {
       "width": 877,
       "height": 575
      }
     },
     "output_type": "display_data"
    }
   ]
  },
  {
   "cell_type": "markdown",
   "source": "### US Unemployment Rate Data\n\nUnemployment rate is a key factor in indicating a country's economic growth and demand for its goods and services. Low unemployment is usually an indicator of a country's strong growth and economic productivity. This makes it a likely demand push factor in influencing the rate of inflation in a country.\n\nData source: https://www.kaggle.com/datasets/axeltorbenson/unemployment-data-19482021",
   "metadata": {
    "cell_id": "b2a77bf765664d8abc06ca594cc1dffb",
    "tags": [],
    "deepnote_cell_type": "markdown",
    "deepnote_cell_height": 181.65625
   }
  },
  {
   "cell_type": "code",
   "metadata": {
    "cell_id": "e301067e4178425a83c06bee4c68446a",
    "tags": [],
    "deepnote_to_be_reexecuted": false,
    "source_hash": "c86a48f8",
    "execution_start": 1650727145047,
    "execution_millis": 196,
    "deepnote_table_state": {
     "pageSize": 10,
     "pageIndex": 0,
     "filters": [],
     "sortBy": [
      {
       "id": "date",
       "type": "asc"
      }
     ]
    },
    "deepnote_table_loading": false,
    "deepnote_cell_type": "code",
    "deepnote_cell_height": 479.953125
   },
   "source": "# Import enemployment data and see the head\nunemp_data = pd.read_csv(\"unemployment_rate_data.csv\")\nunemp_data.head()",
   "execution_count": null,
   "outputs": [
    {
     "output_type": "execute_result",
     "execution_count": 26,
     "data": {
      "application/vnd.deepnote.dataframe.v3+json": {
       "column_count": 11,
       "row_count": 5,
       "columns": [
        {
         "name": "date",
         "dtype": "object",
         "stats": {
          "unique_count": 5,
          "nan_count": 0,
          "categories": [
           {
            "name": "1/1/1948",
            "count": 1
           },
           {
            "name": "2/1/1948",
            "count": 1
           },
           {
            "name": "3 others",
            "count": 3
           }
          ]
         }
        },
        {
         "name": "unrate",
         "dtype": "float64",
         "stats": {
          "unique_count": 4,
          "nan_count": 0,
          "min": "3.4",
          "max": "4.7",
          "histogram": [
           {
            "bin_start": 3.4,
            "bin_end": 3.53,
            "count": 1
           },
           {
            "bin_start": 3.53,
            "bin_end": 3.66,
            "count": 0
           },
           {
            "bin_start": 3.66,
            "bin_end": 3.79,
            "count": 0
           },
           {
            "bin_start": 3.79,
            "bin_end": 3.92,
            "count": 0
           },
           {
            "bin_start": 3.92,
            "bin_end": 4.05,
            "count": 2
           },
           {
            "bin_start": 4.05,
            "bin_end": 4.18,
            "count": 0
           },
           {
            "bin_start": 4.18,
            "bin_end": 4.3100000000000005,
            "count": 0
           },
           {
            "bin_start": 4.3100000000000005,
            "bin_end": 4.44,
            "count": 0
           },
           {
            "bin_start": 4.44,
            "bin_end": 4.57,
            "count": 1
           },
           {
            "bin_start": 4.57,
            "bin_end": 4.7,
            "count": 1
           }
          ]
         }
        },
        {
         "name": "unrate_men",
         "dtype": "float64",
         "stats": {
          "unique_count": 5,
          "nan_count": 0,
          "min": "3.3",
          "max": "4.7",
          "histogram": [
           {
            "bin_start": 3.3,
            "bin_end": 3.44,
            "count": 1
           },
           {
            "bin_start": 3.44,
            "bin_end": 3.58,
            "count": 0
           },
           {
            "bin_start": 3.58,
            "bin_end": 3.7199999999999998,
            "count": 0
           },
           {
            "bin_start": 3.7199999999999998,
            "bin_end": 3.86,
            "count": 0
           },
           {
            "bin_start": 3.86,
            "bin_end": 4,
            "count": 0
           },
           {
            "bin_start": 4,
            "bin_end": 4.140000000000001,
            "count": 1
           },
           {
            "bin_start": 4.140000000000001,
            "bin_end": 4.28,
            "count": 1
           },
           {
            "bin_start": 4.28,
            "bin_end": 4.42,
            "count": 0
           },
           {
            "bin_start": 4.42,
            "bin_end": 4.5600000000000005,
            "count": 1
           },
           {
            "bin_start": 4.5600000000000005,
            "bin_end": 4.7,
            "count": 1
           }
          ]
         }
        },
        {
         "name": "unrate_women",
         "dtype": "float64",
         "stats": {
          "unique_count": 5,
          "nan_count": 0,
          "min": "3.4",
          "max": "4.8",
          "histogram": [
           {
            "bin_start": 3.4,
            "bin_end": 3.54,
            "count": 2
           },
           {
            "bin_start": 3.54,
            "bin_end": 3.6799999999999997,
            "count": 0
           },
           {
            "bin_start": 3.6799999999999997,
            "bin_end": 3.82,
            "count": 0
           },
           {
            "bin_start": 3.82,
            "bin_end": 3.96,
            "count": 0
           },
           {
            "bin_start": 3.96,
            "bin_end": 4.1,
            "count": 0
           },
           {
            "bin_start": 4.1,
            "bin_end": 4.24,
            "count": 1
           },
           {
            "bin_start": 4.24,
            "bin_end": 4.38,
            "count": 0
           },
           {
            "bin_start": 4.38,
            "bin_end": 4.52,
            "count": 1
           },
           {
            "bin_start": 4.52,
            "bin_end": 4.66,
            "count": 0
           },
           {
            "bin_start": 4.66,
            "bin_end": 4.8,
            "count": 1
           }
          ]
         }
        },
        {
         "name": "unrate_16_to_17",
         "dtype": "float64",
         "stats": {
          "unique_count": 5,
          "nan_count": 0,
          "min": "6.4",
          "max": "15.0",
          "histogram": [
           {
            "bin_start": 6.4,
            "bin_end": 7.260000000000001,
            "count": 1
           },
           {
            "bin_start": 7.260000000000001,
            "bin_end": 8.120000000000001,
            "count": 0
           },
           {
            "bin_start": 8.120000000000001,
            "bin_end": 8.98,
            "count": 0
           },
           {
            "bin_start": 8.98,
            "bin_end": 9.84,
            "count": 0
           },
           {
            "bin_start": 9.84,
            "bin_end": 10.7,
            "count": 1
           },
           {
            "bin_start": 10.7,
            "bin_end": 11.56,
            "count": 1
           },
           {
            "bin_start": 11.56,
            "bin_end": 12.42,
            "count": 0
           },
           {
            "bin_start": 12.42,
            "bin_end": 13.280000000000001,
            "count": 1
           },
           {
            "bin_start": 13.280000000000001,
            "bin_end": 14.14,
            "count": 0
           },
           {
            "bin_start": 14.14,
            "bin_end": 15,
            "count": 1
           }
          ]
         }
        },
        {
         "name": "unrate_18_to_19",
         "dtype": "float64",
         "stats": {
          "unique_count": 5,
          "nan_count": 0,
          "min": "7.2",
          "max": "9.6",
          "histogram": [
           {
            "bin_start": 7.2,
            "bin_end": 7.44,
            "count": 1
           },
           {
            "bin_start": 7.44,
            "bin_end": 7.68,
            "count": 0
           },
           {
            "bin_start": 7.68,
            "bin_end": 7.92,
            "count": 0
           },
           {
            "bin_start": 7.92,
            "bin_end": 8.16,
            "count": 1
           },
           {
            "bin_start": 8.16,
            "bin_end": 8.4,
            "count": 0
           },
           {
            "bin_start": 8.4,
            "bin_end": 8.64,
            "count": 0
           },
           {
            "bin_start": 8.64,
            "bin_end": 8.879999999999999,
            "count": 0
           },
           {
            "bin_start": 8.879999999999999,
            "bin_end": 9.12,
            "count": 0
           },
           {
            "bin_start": 9.12,
            "bin_end": 9.36,
            "count": 1
           },
           {
            "bin_start": 9.36,
            "bin_end": 9.6,
            "count": 2
           }
          ]
         }
        },
        {
         "name": "unrate_20_to_24",
         "dtype": "float64",
         "stats": {
          "unique_count": 5,
          "nan_count": 0,
          "min": "6.3",
          "max": "8.6",
          "histogram": [
           {
            "bin_start": 6.3,
            "bin_end": 6.529999999999999,
            "count": 1
           },
           {
            "bin_start": 6.529999999999999,
            "bin_end": 6.76,
            "count": 1
           },
           {
            "bin_start": 6.76,
            "bin_end": 6.99,
            "count": 1
           },
           {
            "bin_start": 6.99,
            "bin_end": 7.22,
            "count": 0
           },
           {
            "bin_start": 7.22,
            "bin_end": 7.449999999999999,
            "count": 0
           },
           {
            "bin_start": 7.449999999999999,
            "bin_end": 7.68,
            "count": 0
           },
           {
            "bin_start": 7.68,
            "bin_end": 7.91,
            "count": 0
           },
           {
            "bin_start": 7.91,
            "bin_end": 8.14,
            "count": 1
           },
           {
            "bin_start": 8.14,
            "bin_end": 8.37,
            "count": 0
           },
           {
            "bin_start": 8.37,
            "bin_end": 8.6,
            "count": 1
           }
          ]
         }
        },
        {
         "name": "unrate_25_to_34",
         "dtype": "float64",
         "stats": {
          "unique_count": 4,
          "nan_count": 0,
          "min": "2.8",
          "max": "4.0",
          "histogram": [
           {
            "bin_start": 2.8,
            "bin_end": 2.92,
            "count": 1
           },
           {
            "bin_start": 2.92,
            "bin_end": 3.04,
            "count": 0
           },
           {
            "bin_start": 3.04,
            "bin_end": 3.16,
            "count": 0
           },
           {
            "bin_start": 3.16,
            "bin_end": 3.28,
            "count": 0
           },
           {
            "bin_start": 3.28,
            "bin_end": 3.4,
            "count": 0
           },
           {
            "bin_start": 3.4,
            "bin_end": 3.52,
            "count": 2
           },
           {
            "bin_start": 3.52,
            "bin_end": 3.64,
            "count": 1
           },
           {
            "bin_start": 3.64,
            "bin_end": 3.76,
            "count": 0
           },
           {
            "bin_start": 3.76,
            "bin_end": 3.88,
            "count": 0
           },
           {
            "bin_start": 3.88,
            "bin_end": 4,
            "count": 1
           }
          ]
         }
        },
        {
         "name": "unrate_35_to_44",
         "dtype": "float64",
         "stats": {
          "unique_count": 4,
          "nan_count": 0,
          "min": "2.5",
          "max": "3.2",
          "histogram": [
           {
            "bin_start": 2.5,
            "bin_end": 2.57,
            "count": 1
           },
           {
            "bin_start": 2.57,
            "bin_end": 2.64,
            "count": 1
           },
           {
            "bin_start": 2.64,
            "bin_end": 2.71,
            "count": 0
           },
           {
            "bin_start": 2.71,
            "bin_end": 2.7800000000000002,
            "count": 0
           },
           {
            "bin_start": 2.7800000000000002,
            "bin_end": 2.85,
            "count": 0
           },
           {
            "bin_start": 2.85,
            "bin_end": 2.92,
            "count": 0
           },
           {
            "bin_start": 2.92,
            "bin_end": 2.99,
            "count": 0
           },
           {
            "bin_start": 2.99,
            "bin_end": 3.06,
            "count": 0
           },
           {
            "bin_start": 3.06,
            "bin_end": 3.1300000000000003,
            "count": 1
           },
           {
            "bin_start": 3.1300000000000003,
            "bin_end": 3.2,
            "count": 2
           }
          ]
         }
        },
        {
         "name": "unrate_45_to_54",
         "dtype": "float64",
         "stats": {
          "unique_count": 4,
          "nan_count": 0,
          "min": "2.3",
          "max": "3.4",
          "histogram": [
           {
            "bin_start": 2.3,
            "bin_end": 2.4099999999999997,
            "count": 1
           },
           {
            "bin_start": 2.4099999999999997,
            "bin_end": 2.52,
            "count": 0
           },
           {
            "bin_start": 2.52,
            "bin_end": 2.63,
            "count": 0
           },
           {
            "bin_start": 2.63,
            "bin_end": 2.7399999999999998,
            "count": 1
           },
           {
            "bin_start": 2.7399999999999998,
            "bin_end": 2.8499999999999996,
            "count": 0
           },
           {
            "bin_start": 2.8499999999999996,
            "bin_end": 2.96,
            "count": 2
           },
           {
            "bin_start": 2.96,
            "bin_end": 3.07,
            "count": 0
           },
           {
            "bin_start": 3.07,
            "bin_end": 3.1799999999999997,
            "count": 0
           },
           {
            "bin_start": 3.1799999999999997,
            "bin_end": 3.29,
            "count": 0
           },
           {
            "bin_start": 3.29,
            "bin_end": 3.4,
            "count": 1
           }
          ]
         }
        },
        {
         "name": "unrate_55_over",
         "dtype": "float64",
         "stats": {
          "unique_count": 5,
          "nan_count": 0,
          "min": "2.9",
          "max": "4.0",
          "histogram": [
           {
            "bin_start": 2.9,
            "bin_end": 3.01,
            "count": 1
           },
           {
            "bin_start": 3.01,
            "bin_end": 3.12,
            "count": 0
           },
           {
            "bin_start": 3.12,
            "bin_end": 3.23,
            "count": 1
           },
           {
            "bin_start": 3.23,
            "bin_end": 3.34,
            "count": 0
           },
           {
            "bin_start": 3.34,
            "bin_end": 3.45,
            "count": 0
           },
           {
            "bin_start": 3.45,
            "bin_end": 3.56,
            "count": 1
           },
           {
            "bin_start": 3.56,
            "bin_end": 3.67,
            "count": 1
           },
           {
            "bin_start": 3.67,
            "bin_end": 3.7800000000000002,
            "count": 0
           },
           {
            "bin_start": 3.7800000000000002,
            "bin_end": 3.89,
            "count": 0
           },
           {
            "bin_start": 3.89,
            "bin_end": 4,
            "count": 1
           }
          ]
         }
        },
        {
         "name": "_deepnote_index_column",
         "dtype": "int64"
        }
       ],
       "rows": [
        {
         "date": "1/1/1948",
         "unrate": 4,
         "unrate_men": 4.2,
         "unrate_women": 3.5,
         "unrate_16_to_17": 10.8,
         "unrate_18_to_19": 9.6,
         "unrate_20_to_24": 6.6,
         "unrate_25_to_34": 3.6,
         "unrate_35_to_44": 2.6,
         "unrate_45_to_54": 2.7,
         "unrate_55_over": 3.6,
         "_deepnote_index_column": 0
        },
        {
         "date": "2/1/1948",
         "unrate": 4.7,
         "unrate_men": 4.7,
         "unrate_women": 4.8,
         "unrate_16_to_17": 15,
         "unrate_18_to_19": 9.5,
         "unrate_20_to_24": 8,
         "unrate_25_to_34": 4,
         "unrate_35_to_44": 3.2,
         "unrate_45_to_54": 3.4,
         "unrate_55_over": 4,
         "_deepnote_index_column": 1
        },
        {
         "date": "3/1/1948",
         "unrate": 4.5,
         "unrate_men": 4.5,
         "unrate_women": 4.4,
         "unrate_16_to_17": 13.2,
         "unrate_18_to_19": 9.3,
         "unrate_20_to_24": 8.6,
         "unrate_25_to_34": 3.5,
         "unrate_35_to_44": 3.2,
         "unrate_45_to_54": 2.9,
         "unrate_55_over": 3.5,
         "_deepnote_index_column": 2
        },
        {
         "date": "4/1/1948",
         "unrate": 4,
         "unrate_men": 4,
         "unrate_women": 4.1,
         "unrate_16_to_17": 9.9,
         "unrate_18_to_19": 8.1,
         "unrate_20_to_24": 6.8,
         "unrate_25_to_34": 3.5,
         "unrate_35_to_44": 3.1,
         "unrate_45_to_54": 2.9,
         "unrate_55_over": 3.2,
         "_deepnote_index_column": 3
        },
        {
         "date": "5/1/1948",
         "unrate": 3.4,
         "unrate_men": 3.3,
         "unrate_women": 3.4,
         "unrate_16_to_17": 6.4,
         "unrate_18_to_19": 7.2,
         "unrate_20_to_24": 6.3,
         "unrate_25_to_34": 2.8,
         "unrate_35_to_44": 2.5,
         "unrate_45_to_54": 2.3,
         "unrate_55_over": 2.9,
         "_deepnote_index_column": 4
        }
       ]
      },
      "text/plain": "       date  unrate  unrate_men  unrate_women  unrate_16_to_17  \\\n0  1/1/1948     4.0         4.2           3.5             10.8   \n1  2/1/1948     4.7         4.7           4.8             15.0   \n2  3/1/1948     4.5         4.5           4.4             13.2   \n3  4/1/1948     4.0         4.0           4.1              9.9   \n4  5/1/1948     3.4         3.3           3.4              6.4   \n\n   unrate_18_to_19  unrate_20_to_24  unrate_25_to_34  unrate_35_to_44  \\\n0              9.6              6.6              3.6              2.6   \n1              9.5              8.0              4.0              3.2   \n2              9.3              8.6              3.5              3.2   \n3              8.1              6.8              3.5              3.1   \n4              7.2              6.3              2.8              2.5   \n\n   unrate_45_to_54  unrate_55_over  \n0              2.7             3.6  \n1              3.4             4.0  \n2              2.9             3.5  \n3              2.9             3.2  \n4              2.3             2.9  ",
      "text/html": "<div>\n<style scoped>\n    .dataframe tbody tr th:only-of-type {\n        vertical-align: middle;\n    }\n\n    .dataframe tbody tr th {\n        vertical-align: top;\n    }\n\n    .dataframe thead th {\n        text-align: right;\n    }\n</style>\n<table border=\"1\" class=\"dataframe\">\n  <thead>\n    <tr style=\"text-align: right;\">\n      <th></th>\n      <th>date</th>\n      <th>unrate</th>\n      <th>unrate_men</th>\n      <th>unrate_women</th>\n      <th>unrate_16_to_17</th>\n      <th>unrate_18_to_19</th>\n      <th>unrate_20_to_24</th>\n      <th>unrate_25_to_34</th>\n      <th>unrate_35_to_44</th>\n      <th>unrate_45_to_54</th>\n      <th>unrate_55_over</th>\n    </tr>\n  </thead>\n  <tbody>\n    <tr>\n      <th>0</th>\n      <td>1/1/1948</td>\n      <td>4.0</td>\n      <td>4.2</td>\n      <td>3.5</td>\n      <td>10.8</td>\n      <td>9.6</td>\n      <td>6.6</td>\n      <td>3.6</td>\n      <td>2.6</td>\n      <td>2.7</td>\n      <td>3.6</td>\n    </tr>\n    <tr>\n      <th>1</th>\n      <td>2/1/1948</td>\n      <td>4.7</td>\n      <td>4.7</td>\n      <td>4.8</td>\n      <td>15.0</td>\n      <td>9.5</td>\n      <td>8.0</td>\n      <td>4.0</td>\n      <td>3.2</td>\n      <td>3.4</td>\n      <td>4.0</td>\n    </tr>\n    <tr>\n      <th>2</th>\n      <td>3/1/1948</td>\n      <td>4.5</td>\n      <td>4.5</td>\n      <td>4.4</td>\n      <td>13.2</td>\n      <td>9.3</td>\n      <td>8.6</td>\n      <td>3.5</td>\n      <td>3.2</td>\n      <td>2.9</td>\n      <td>3.5</td>\n    </tr>\n    <tr>\n      <th>3</th>\n      <td>4/1/1948</td>\n      <td>4.0</td>\n      <td>4.0</td>\n      <td>4.1</td>\n      <td>9.9</td>\n      <td>8.1</td>\n      <td>6.8</td>\n      <td>3.5</td>\n      <td>3.1</td>\n      <td>2.9</td>\n      <td>3.2</td>\n    </tr>\n    <tr>\n      <th>4</th>\n      <td>5/1/1948</td>\n      <td>3.4</td>\n      <td>3.3</td>\n      <td>3.4</td>\n      <td>6.4</td>\n      <td>7.2</td>\n      <td>6.3</td>\n      <td>2.8</td>\n      <td>2.5</td>\n      <td>2.3</td>\n      <td>2.9</td>\n    </tr>\n  </tbody>\n</table>\n</div>"
     },
     "metadata": {}
    }
   ]
  },
  {
   "cell_type": "code",
   "metadata": {
    "cell_id": "2200d117379b40a0a88d0fdd0a3bebb0",
    "tags": [],
    "deepnote_to_be_reexecuted": false,
    "source_hash": "b4c51700",
    "execution_start": 1650727145222,
    "execution_millis": 95,
    "deepnote_cell_type": "code",
    "deepnote_cell_height": 136.4375,
    "deepnote_output_heights": [
     21.171875
    ]
   },
   "source": "# Look at the shape of our data\nunemp_data.shape",
   "execution_count": null,
   "outputs": [
    {
     "output_type": "execute_result",
     "execution_count": 27,
     "data": {
      "text/plain": "(887, 11)"
     },
     "metadata": {}
    }
   ]
  },
  {
   "cell_type": "code",
   "metadata": {
    "cell_id": "b7b724c1e00b4e57bc88499e80047a76",
    "tags": [],
    "deepnote_to_be_reexecuted": false,
    "source_hash": "ca9b0440",
    "execution_start": 1650727145224,
    "execution_millis": 156,
    "deepnote_cell_type": "code",
    "deepnote_cell_height": 762.25
   },
   "source": "# Clean unemployment data to keep columns Date and unemployment rate\nunemp_data_clean = pd.DataFrame(unemp_data[['date','unrate']])\nunemp_data_clean.columns = ['Date', 'Value']\n\n# Clean data to have date in %Y-%m format\nunemp_data_clean = df_dates_monthly(unemp_data_clean)\n# Clean data to have monthly and yearly percentage changes\nunemp_data_clean = df_change_percent(unemp_data_clean)\n# Show cleaned data\nunemp_data_clean",
   "execution_count": null,
   "outputs": [
    {
     "output_type": "execute_result",
     "execution_count": 28,
     "data": {
      "application/vnd.deepnote.dataframe.v3+json": {
       "column_count": 4,
       "row_count": 887,
       "columns": [
        {
         "name": "Date",
         "dtype": "object",
         "stats": {
          "unique_count": 887,
          "nan_count": 0,
          "categories": [
           {
            "name": "1948-01",
            "count": 1
           },
           {
            "name": "1948-02",
            "count": 1
           },
           {
            "name": "885 others",
            "count": 885
           }
          ]
         }
        },
        {
         "name": "Value",
         "dtype": "float64",
         "stats": {
          "unique_count": 87,
          "nan_count": 0,
          "min": "2.4",
          "max": "14.4",
          "histogram": [
           {
            "bin_start": 2.4,
            "bin_end": 3.5999999999999996,
            "count": 68
           },
           {
            "bin_start": 3.5999999999999996,
            "bin_end": 4.8,
            "count": 199
           },
           {
            "bin_start": 4.8,
            "bin_end": 6,
            "count": 278
           },
           {
            "bin_start": 6,
            "bin_end": 7.199999999999999,
            "count": 170
           },
           {
            "bin_start": 7.199999999999999,
            "bin_end": 8.4,
            "count": 94
           },
           {
            "bin_start": 8.4,
            "bin_end": 9.6,
            "count": 50
           },
           {
            "bin_start": 9.6,
            "bin_end": 10.8,
            "count": 22
           },
           {
            "bin_start": 10.8,
            "bin_end": 12,
            "count": 4
           },
           {
            "bin_start": 12,
            "bin_end": 13.2,
            "count": 1
           },
           {
            "bin_start": 13.2,
            "bin_end": 14.4,
            "count": 1
           }
          ]
         }
        },
        {
         "name": "ChangePercentMonth",
         "dtype": "float64",
         "stats": {
          "unique_count": 437,
          "nan_count": 1,
          "min": "-0.226415",
          "max": "2.2",
          "histogram": [
           {
            "bin_start": -0.226415,
            "bin_end": 0.016226500000000005,
            "count": 602
           },
           {
            "bin_start": 0.016226500000000005,
            "bin_end": 0.258868,
            "count": 266
           },
           {
            "bin_start": 0.258868,
            "bin_end": 0.5015095,
            "count": 16
           },
           {
            "bin_start": 0.5015095,
            "bin_end": 0.744151,
            "count": 1
           },
           {
            "bin_start": 0.744151,
            "bin_end": 0.9867925,
            "count": 0
           },
           {
            "bin_start": 0.9867925,
            "bin_end": 1.2294340000000001,
            "count": 0
           },
           {
            "bin_start": 1.2294340000000001,
            "bin_end": 1.4720755,
            "count": 0
           },
           {
            "bin_start": 1.4720755,
            "bin_end": 1.714717,
            "count": 0
           },
           {
            "bin_start": 1.714717,
            "bin_end": 1.9573585,
            "count": 0
           },
           {
            "bin_start": 1.9573585,
            "bin_end": 2.2,
            "count": 1
           }
          ]
         }
        },
        {
         "name": "ChangePercentYear",
         "dtype": "float64",
         "stats": {
          "unique_count": 557,
          "nan_count": 12,
          "min": "-0.604167",
          "max": "3.363636",
          "histogram": [
           {
            "bin_start": -0.604167,
            "bin_end": -0.20738670000000003,
            "count": 55
           },
           {
            "bin_start": -0.20738670000000003,
            "bin_end": 0.18939359999999994,
            "count": 664
           },
           {
            "bin_start": 0.18939359999999994,
            "bin_end": 0.5861738999999998,
            "count": 107
           },
           {
            "bin_start": 0.5861738999999998,
            "bin_end": 0.9829541999999999,
            "count": 34
           },
           {
            "bin_start": 0.9829541999999999,
            "bin_end": 1.3797345,
            "count": 11
           },
           {
            "bin_start": 1.3797345,
            "bin_end": 1.7765147999999997,
            "count": 1
           },
           {
            "bin_start": 1.7765147999999997,
            "bin_end": 2.1732951,
            "count": 1
           },
           {
            "bin_start": 2.1732951,
            "bin_end": 2.5700754,
            "count": 0
           },
           {
            "bin_start": 2.5700754,
            "bin_end": 2.9668557,
            "count": 1
           },
           {
            "bin_start": 2.9668557,
            "bin_end": 3.363636,
            "count": 1
           }
          ]
         }
        },
        {
         "name": "_deepnote_index_column",
         "dtype": "int64"
        }
       ],
       "rows": [
        {
         "Date": "1948-01",
         "Value": 4,
         "ChangePercentMonth": "nan",
         "ChangePercentYear": "nan",
         "_deepnote_index_column": 0
        },
        {
         "Date": "1948-02",
         "Value": 4.7,
         "ChangePercentMonth": 0.175,
         "ChangePercentYear": "nan",
         "_deepnote_index_column": 1
        },
        {
         "Date": "1948-03",
         "Value": 4.5,
         "ChangePercentMonth": -0.042553,
         "ChangePercentYear": "nan",
         "_deepnote_index_column": 2
        },
        {
         "Date": "1948-04",
         "Value": 4,
         "ChangePercentMonth": -0.111111,
         "ChangePercentYear": "nan",
         "_deepnote_index_column": 3
        },
        {
         "Date": "1948-05",
         "Value": 3.4,
         "ChangePercentMonth": -0.15,
         "ChangePercentYear": "nan",
         "_deepnote_index_column": 4
        },
        {
         "Date": "1948-06",
         "Value": 3.9,
         "ChangePercentMonth": 0.147059,
         "ChangePercentYear": "nan",
         "_deepnote_index_column": 5
        },
        {
         "Date": "1948-07",
         "Value": 3.9,
         "ChangePercentMonth": 0,
         "ChangePercentYear": "nan",
         "_deepnote_index_column": 6
        },
        {
         "Date": "1948-08",
         "Value": 3.6,
         "ChangePercentMonth": -0.076923,
         "ChangePercentYear": "nan",
         "_deepnote_index_column": 7
        },
        {
         "Date": "1948-09",
         "Value": 3.4,
         "ChangePercentMonth": -0.055556,
         "ChangePercentYear": "nan",
         "_deepnote_index_column": 8
        },
        {
         "Date": "1948-10",
         "Value": 2.9,
         "ChangePercentMonth": -0.147059,
         "ChangePercentYear": "nan",
         "_deepnote_index_column": 9
        }
       ]
      },
      "text/plain": "        Date  Value  ChangePercentMonth  ChangePercentYear\n0    1948-01    4.0                 NaN                NaN\n1    1948-02    4.7            0.175000                NaN\n2    1948-03    4.5           -0.042553                NaN\n3    1948-04    4.0           -0.111111                NaN\n4    1948-05    3.4           -0.150000                NaN\n..       ...    ...                 ...                ...\n882  2021-07    5.7           -0.065574          -0.457143\n883  2021-08    5.3           -0.070175          -0.376471\n884  2021-09    4.6           -0.132075          -0.402597\n885  2021-10    4.3           -0.065217          -0.348485\n886  2021-11    3.9           -0.093023          -0.390625\n\n[887 rows x 4 columns]",
      "text/html": "<div>\n<style scoped>\n    .dataframe tbody tr th:only-of-type {\n        vertical-align: middle;\n    }\n\n    .dataframe tbody tr th {\n        vertical-align: top;\n    }\n\n    .dataframe thead th {\n        text-align: right;\n    }\n</style>\n<table border=\"1\" class=\"dataframe\">\n  <thead>\n    <tr style=\"text-align: right;\">\n      <th></th>\n      <th>Date</th>\n      <th>Value</th>\n      <th>ChangePercentMonth</th>\n      <th>ChangePercentYear</th>\n    </tr>\n  </thead>\n  <tbody>\n    <tr>\n      <th>0</th>\n      <td>1948-01</td>\n      <td>4.0</td>\n      <td>NaN</td>\n      <td>NaN</td>\n    </tr>\n    <tr>\n      <th>1</th>\n      <td>1948-02</td>\n      <td>4.7</td>\n      <td>0.175000</td>\n      <td>NaN</td>\n    </tr>\n    <tr>\n      <th>2</th>\n      <td>1948-03</td>\n      <td>4.5</td>\n      <td>-0.042553</td>\n      <td>NaN</td>\n    </tr>\n    <tr>\n      <th>3</th>\n      <td>1948-04</td>\n      <td>4.0</td>\n      <td>-0.111111</td>\n      <td>NaN</td>\n    </tr>\n    <tr>\n      <th>4</th>\n      <td>1948-05</td>\n      <td>3.4</td>\n      <td>-0.150000</td>\n      <td>NaN</td>\n    </tr>\n    <tr>\n      <th>...</th>\n      <td>...</td>\n      <td>...</td>\n      <td>...</td>\n      <td>...</td>\n    </tr>\n    <tr>\n      <th>882</th>\n      <td>2021-07</td>\n      <td>5.7</td>\n      <td>-0.065574</td>\n      <td>-0.457143</td>\n    </tr>\n    <tr>\n      <th>883</th>\n      <td>2021-08</td>\n      <td>5.3</td>\n      <td>-0.070175</td>\n      <td>-0.376471</td>\n    </tr>\n    <tr>\n      <th>884</th>\n      <td>2021-09</td>\n      <td>4.6</td>\n      <td>-0.132075</td>\n      <td>-0.402597</td>\n    </tr>\n    <tr>\n      <th>885</th>\n      <td>2021-10</td>\n      <td>4.3</td>\n      <td>-0.065217</td>\n      <td>-0.348485</td>\n    </tr>\n    <tr>\n      <th>886</th>\n      <td>2021-11</td>\n      <td>3.9</td>\n      <td>-0.093023</td>\n      <td>-0.390625</td>\n    </tr>\n  </tbody>\n</table>\n<p>887 rows × 4 columns</p>\n</div>"
     },
     "metadata": {}
    }
   ]
  },
  {
   "cell_type": "code",
   "metadata": {
    "cell_id": "aadf843a3d8349f1a7f0efc1be7f3cf9",
    "tags": [],
    "deepnote_to_be_reexecuted": false,
    "source_hash": "e55dcea9",
    "execution_start": 1650727145378,
    "execution_millis": 511,
    "deepnote_cell_type": "code",
    "deepnote_cell_height": 742.65625,
    "deepnote_output_heights": [
     573.375
    ]
   },
   "source": "# Plot unemloyment rate time series graph\nplt.figure(figsize=(15,10))\nplt.xticks(np.arange(0, 2000, 120)) # show x-axis ticks at every 10 years\nplt.plot(unemp_data_clean['Date'], unemp_data_clean['Value'])\nplt.show()",
   "execution_count": null,
   "outputs": [
    {
     "data": {
      "text/plain": "<Figure size 1080x720 with 1 Axes>",
      "image/png": "[encoded data removed]"
     },
     "metadata": {
      "needs_background": "light",
      "image/png": {
       "width": 871,
       "height": 575
      }
     },
     "output_type": "display_data"
    }
   ]
  },
  {
   "cell_type": "markdown",
   "source": "### S&P 500 Monthly Data\n\nThe S&P500 is an index which tracks the prices of the top 500 stocks in the USA. It will be interesting to compare this against the CPI to study how stock performance correlates to inflation. This could perhaps help us draw conclusions as to how company performance is affected by inflation, or to how stock market investors allocate their funds differently (e.g. put into stocks or reallocate to safer assets) during times of high inflation, healthy inflation, or deflation.",
   "metadata": {
    "cell_id": "9642a73bf74948e6afe66ef470721b82",
    "tags": [],
    "deepnote_cell_type": "markdown",
    "deepnote_cell_height": 167.671875
   }
  },
  {
   "cell_type": "code",
   "metadata": {
    "cell_id": "b439863db6f6420f91f512f904cde41e",
    "tags": [],
    "deepnote_to_be_reexecuted": false,
    "source_hash": "723cb5a5",
    "execution_start": 1650727304242,
    "execution_millis": 52,
    "deepnote_cell_type": "code",
    "deepnote_cell_height": 447.96875
   },
   "source": "# Import S&P500 data and see the head\nsp_data = pd.read_csv(\"sp500_monthly_data.csv\")\nsp_data.head()",
   "execution_count": null,
   "outputs": [
    {
     "output_type": "execute_result",
     "execution_count": 44,
     "data": {
      "application/vnd.deepnote.dataframe.v3+json": {
       "column_count": 7,
       "row_count": 5,
       "columns": [
        {
         "name": "Date",
         "dtype": "object",
         "stats": {
          "unique_count": 5,
          "nan_count": 0,
          "categories": [
           {
            "name": "Apr 22",
            "count": 1
           },
           {
            "name": "Mar 22",
            "count": 1
           },
           {
            "name": "3 others",
            "count": 3
           }
          ]
         }
        },
        {
         "name": "Price",
         "dtype": "object",
         "stats": {
          "unique_count": 5,
          "nan_count": 0,
          "categories": [
           {
            "name": "4,457.30",
            "count": 1
           },
           {
            "name": "4,530.41",
            "count": 1
           },
           {
            "name": "3 others",
            "count": 3
           }
          ]
         }
        },
        {
         "name": "Open",
         "dtype": "object",
         "stats": {
          "unique_count": 5,
          "nan_count": 0,
          "categories": [
           {
            "name": "4,547.90",
            "count": 1
           },
           {
            "name": "4,358.08",
            "count": 1
           },
           {
            "name": "3 others",
            "count": 3
           }
          ]
         }
        },
        {
         "name": "High",
         "dtype": "object",
         "stats": {
          "unique_count": 5,
          "nan_count": 0,
          "categories": [
           {
            "name": "4,593.90",
            "count": 1
           },
           {
            "name": "4,637.90",
            "count": 1
           },
           {
            "name": "3 others",
            "count": 3
           }
          ]
         }
        },
        {
         "name": "Low",
         "dtype": "object",
         "stats": {
          "unique_count": 5,
          "nan_count": 0,
          "categories": [
           {
            "name": "4,369.63",
            "count": 1
           },
           {
            "name": "4,157.20",
            "count": 1
           },
           {
            "name": "3 others",
            "count": 3
           }
          ]
         }
        },
        {
         "name": "Vol.",
         "dtype": "object",
         "stats": {
          "unique_count": 1,
          "nan_count": 0,
          "categories": [
           {
            "name": "-",
            "count": 5
           }
          ]
         }
        },
        {
         "name": "Change %",
         "dtype": "object",
         "stats": {
          "unique_count": 5,
          "nan_count": 0,
          "categories": [
           {
            "name": "-1.61%",
            "count": 1
           },
           {
            "name": "3.58%",
            "count": 1
           },
           {
            "name": "3 others",
            "count": 3
           }
          ]
         }
        },
        {
         "name": "_deepnote_index_column",
         "dtype": "int64"
        }
       ],
       "rows": [
        {
         "Date": "Apr 22",
         "Price": "4,457.30",
         "Open": "4,547.90",
         "High": "4,593.90",
         "Low": "4,369.63",
         "Vol.": "-",
         "Change %": "-1.61%",
         "_deepnote_index_column": 0
        },
        {
         "Date": "Mar 22",
         "Price": "4,530.41",
         "Open": "4,358.08",
         "High": "4,637.90",
         "Low": "4,157.20",
         "Vol.": "-",
         "Change %": "3.58%",
         "_deepnote_index_column": 1
        },
        {
         "Date": "Feb 22",
         "Price": "4,373.79",
         "Open": "4,521.35",
         "High": "4,595.10",
         "Low": "4,114.50",
         "Vol.": "-",
         "Change %": "-3.14%",
         "_deepnote_index_column": 2
        },
        {
         "Date": "Jan 22",
         "Price": "4,515.55",
         "Open": "4,781.00",
         "High": "4,817.88",
         "Low": "4,221.54",
         "Vol.": "-",
         "Change %": "-5.26%",
         "_deepnote_index_column": 3
        },
        {
         "Date": "Dec 21",
         "Price": "4,766.18",
         "Open": "4,623.80",
         "High": "4,808.52",
         "Low": "4,494.20",
         "Vol.": "-",
         "Change %": "4.36%",
         "_deepnote_index_column": 4
        }
       ]
      },
      "text/plain": "     Date     Price      Open      High       Low Vol. Change %\n0  Apr 22  4,457.30  4,547.90  4,593.90  4,369.63    -   -1.61%\n1  Mar 22  4,530.41  4,358.08  4,637.90  4,157.20    -    3.58%\n2  Feb 22  4,373.79  4,521.35  4,595.10  4,114.50    -   -3.14%\n3  Jan 22  4,515.55  4,781.00  4,817.88  4,221.54    -   -5.26%\n4  Dec 21  4,766.18  4,623.80  4,808.52  4,494.20    -    4.36%",
      "text/html": "<div>\n<style scoped>\n    .dataframe tbody tr th:only-of-type {\n        vertical-align: middle;\n    }\n\n    .dataframe tbody tr th {\n        vertical-align: top;\n    }\n\n    .dataframe thead th {\n        text-align: right;\n    }\n</style>\n<table border=\"1\" class=\"dataframe\">\n  <thead>\n    <tr style=\"text-align: right;\">\n      <th></th>\n      <th>Date</th>\n      <th>Price</th>\n      <th>Open</th>\n      <th>High</th>\n      <th>Low</th>\n      <th>Vol.</th>\n      <th>Change %</th>\n    </tr>\n  </thead>\n  <tbody>\n    <tr>\n      <th>0</th>\n      <td>Apr 22</td>\n      <td>4,457.30</td>\n      <td>4,547.90</td>\n      <td>4,593.90</td>\n      <td>4,369.63</td>\n      <td>-</td>\n      <td>-1.61%</td>\n    </tr>\n    <tr>\n      <th>1</th>\n      <td>Mar 22</td>\n      <td>4,530.41</td>\n      <td>4,358.08</td>\n      <td>4,637.90</td>\n      <td>4,157.20</td>\n      <td>-</td>\n      <td>3.58%</td>\n    </tr>\n    <tr>\n      <th>2</th>\n      <td>Feb 22</td>\n      <td>4,373.79</td>\n      <td>4,521.35</td>\n      <td>4,595.10</td>\n      <td>4,114.50</td>\n      <td>-</td>\n      <td>-3.14%</td>\n    </tr>\n    <tr>\n      <th>3</th>\n      <td>Jan 22</td>\n      <td>4,515.55</td>\n      <td>4,781.00</td>\n      <td>4,817.88</td>\n      <td>4,221.54</td>\n      <td>-</td>\n      <td>-5.26%</td>\n    </tr>\n    <tr>\n      <th>4</th>\n      <td>Dec 21</td>\n      <td>4,766.18</td>\n      <td>4,623.80</td>\n      <td>4,808.52</td>\n      <td>4,494.20</td>\n      <td>-</td>\n      <td>4.36%</td>\n    </tr>\n  </tbody>\n</table>\n</div>"
     },
     "metadata": {}
    }
   ]
  },
  {
   "cell_type": "code",
   "metadata": {
    "cell_id": "30a3997162534111b18bc47501228d7d",
    "tags": [],
    "deepnote_to_be_reexecuted": false,
    "source_hash": "f753228b",
    "execution_start": 1650727304297,
    "execution_millis": 13,
    "deepnote_cell_type": "code",
    "deepnote_cell_height": 136.4375,
    "deepnote_output_heights": [
     21.171875
    ]
   },
   "source": "# Look at the shape of our data\nsp_data.shape",
   "execution_count": null,
   "outputs": [
    {
     "output_type": "execute_result",
     "execution_count": 45,
     "data": {
      "text/plain": "(627, 7)"
     },
     "metadata": {}
    }
   ]
  },
  {
   "cell_type": "code",
   "metadata": {
    "cell_id": "6894d96aecb54437b16538f22d49098a",
    "tags": [],
    "deepnote_to_be_reexecuted": false,
    "source_hash": "4e05139e",
    "execution_start": 1650727305923,
    "execution_millis": 229,
    "deepnote_cell_type": "code",
    "deepnote_cell_height": 798.234375
   },
   "source": "# Clean data to have date in %Y-%m format\nsp_data['Date'] = pd.to_datetime(sp_data['Date'], format='%b %y')\nsp_data = df_dates_monthly(sp_data)\n# Clean S&P data to keep only Date and Value columns, sorted in ascending order of date\nsp_data_clean = pd.DataFrame(sp_data[['Date','Price']])\nsp_data_clean.columns = ['Date', 'Value']\nsp_data_clean['Value'] = sp_data_clean['Value'].str.replace(',', '').astype(float)\nsp_data_clean.sort_values(by=['Date'], inplace=True)\n# Clean data to have monthly and yearly percentage changes\nsp_data_clean = df_change_percent(sp_data_clean)\n# Show cleaned data\nsp_data_clean",
   "execution_count": null,
   "outputs": [
    {
     "output_type": "execute_result",
     "execution_count": 46,
     "data": {
      "application/vnd.deepnote.dataframe.v3+json": {
       "column_count": 4,
       "row_count": 627,
       "columns": [
        {
         "name": "Date",
         "dtype": "object",
         "stats": {
          "unique_count": 627,
          "nan_count": 0,
          "categories": [
           {
            "name": "1970-02",
            "count": 1
           },
           {
            "name": "1970-03",
            "count": 1
           },
           {
            "name": "625 others",
            "count": 625
           }
          ]
         }
        },
        {
         "name": "Value",
         "dtype": "float64",
         "stats": {
          "unique_count": 620,
          "nan_count": 0,
          "min": "63.54",
          "max": "4766.18",
          "histogram": [
           {
            "bin_start": 63.54,
            "bin_end": 533.804,
            "count": 304
           },
           {
            "bin_start": 533.804,
            "bin_end": 1004.068,
            "count": 58
           },
           {
            "bin_start": 1004.068,
            "bin_end": 1474.3319999999999,
            "count": 145
           },
           {
            "bin_start": 1474.3319999999999,
            "bin_end": 1944.596,
            "count": 29
           },
           {
            "bin_start": 1944.596,
            "bin_end": 2414.86,
            "count": 32
           },
           {
            "bin_start": 2414.86,
            "bin_end": 2885.124,
            "count": 22
           },
           {
            "bin_start": 2885.124,
            "bin_end": 3355.388,
            "count": 17
           },
           {
            "bin_start": 3355.388,
            "bin_end": 3825.652,
            "count": 6
           },
           {
            "bin_start": 3825.652,
            "bin_end": 4295.916,
            "count": 3
           },
           {
            "bin_start": 4295.916,
            "bin_end": 4766.18,
            "count": 11
           }
          ]
         }
        },
        {
         "name": "ChangePercentMonth",
         "dtype": "float64",
         "stats": {
          "unique_count": 625,
          "nan_count": 1,
          "min": "-0.21763",
          "max": "0.163047",
          "histogram": [
           {
            "bin_start": -0.21763,
            "bin_end": -0.1795623,
            "count": 1
           },
           {
            "bin_start": -0.1795623,
            "bin_end": -0.1414946,
            "count": 2
           },
           {
            "bin_start": -0.1414946,
            "bin_end": -0.1034269,
            "count": 5
           },
           {
            "bin_start": -0.1034269,
            "bin_end": -0.0653592,
            "count": 26
           },
           {
            "bin_start": -0.0653592,
            "bin_end": -0.027291500000000024,
            "count": 75
           },
           {
            "bin_start": -0.027291500000000024,
            "bin_end": 0.010776199999999986,
            "count": 211
           },
           {
            "bin_start": 0.010776199999999986,
            "bin_end": 0.048843899999999996,
            "count": 218
           },
           {
            "bin_start": 0.048843899999999996,
            "bin_end": 0.08691159999999998,
            "count": 71
           },
           {
            "bin_start": 0.08691159999999998,
            "bin_end": 0.12497929999999996,
            "count": 14
           },
           {
            "bin_start": 0.12497929999999996,
            "bin_end": 0.163047,
            "count": 3
           }
          ]
         }
        },
        {
         "name": "ChangePercentYear",
         "dtype": "float64",
         "stats": {
          "unique_count": 614,
          "nan_count": 12,
          "min": "-0.447562",
          "max": "0.537145",
          "histogram": [
           {
            "bin_start": -0.447562,
            "bin_end": -0.3490913,
            "count": 8
           },
           {
            "bin_start": -0.3490913,
            "bin_end": -0.2506206,
            "count": 11
           },
           {
            "bin_start": -0.2506206,
            "bin_end": -0.15214990000000006,
            "count": 30
           },
           {
            "bin_start": -0.15214990000000006,
            "bin_end": -0.05367920000000004,
            "count": 56
           },
           {
            "bin_start": -0.05367920000000004,
            "bin_end": 0.044791499999999984,
            "count": 94
           },
           {
            "bin_start": 0.044791499999999984,
            "bin_end": 0.1432621999999999,
            "count": 188
           },
           {
            "bin_start": 0.1432621999999999,
            "bin_end": 0.24173289999999992,
            "count": 129
           },
           {
            "bin_start": 0.24173289999999992,
            "bin_end": 0.34020359999999994,
            "count": 69
           },
           {
            "bin_start": 0.34020359999999994,
            "bin_end": 0.43867429999999996,
            "count": 22
           },
           {
            "bin_start": 0.43867429999999996,
            "bin_end": 0.537145,
            "count": 8
           }
          ]
         }
        },
        {
         "name": "_deepnote_index_column",
         "dtype": "int64"
        }
       ],
       "rows": [
        {
         "Date": "1970-02",
         "Value": 89.5,
         "ChangePercentMonth": "nan",
         "ChangePercentYear": "nan",
         "_deepnote_index_column": 626
        },
        {
         "Date": "1970-03",
         "Value": 89.63,
         "ChangePercentMonth": 0.001453,
         "ChangePercentYear": "nan",
         "_deepnote_index_column": 625
        },
        {
         "Date": "1970-04",
         "Value": 81.52,
         "ChangePercentMonth": -0.090483,
         "ChangePercentYear": "nan",
         "_deepnote_index_column": 624
        },
        {
         "Date": "1970-05",
         "Value": 76.55,
         "ChangePercentMonth": -0.060967,
         "ChangePercentYear": "nan",
         "_deepnote_index_column": 623
        },
        {
         "Date": "1970-06",
         "Value": 72.72,
         "ChangePercentMonth": -0.050033,
         "ChangePercentYear": "nan",
         "_deepnote_index_column": 622
        },
        {
         "Date": "1970-07",
         "Value": 78.05,
         "ChangePercentMonth": 0.073295,
         "ChangePercentYear": "nan",
         "_deepnote_index_column": 621
        },
        {
         "Date": "1970-08",
         "Value": 81.52,
         "ChangePercentMonth": 0.044459,
         "ChangePercentYear": "nan",
         "_deepnote_index_column": 620
        },
        {
         "Date": "1970-09",
         "Value": 84.3,
         "ChangePercentMonth": 0.034102,
         "ChangePercentYear": "nan",
         "_deepnote_index_column": 619
        },
        {
         "Date": "1970-10",
         "Value": 83.25,
         "ChangePercentMonth": -0.012456,
         "ChangePercentYear": "nan",
         "_deepnote_index_column": 618
        },
        {
         "Date": "1970-11",
         "Value": 87.2,
         "ChangePercentMonth": 0.047447,
         "ChangePercentYear": "nan",
         "_deepnote_index_column": 617
        }
       ]
      },
      "text/plain": "        Date    Value  ChangePercentMonth  ChangePercentYear\n626  1970-02    89.50                 NaN                NaN\n625  1970-03    89.63            0.001453                NaN\n624  1970-04    81.52           -0.090483                NaN\n623  1970-05    76.55           -0.060967                NaN\n622  1970-06    72.72           -0.050033                NaN\n..       ...      ...                 ...                ...\n4    2021-12  4766.18            0.043613           0.268927\n3    2022-01  4515.55           -0.052585           0.215740\n2    2022-02  4373.79           -0.031394           0.147630\n1    2022-03  4530.41            0.035809           0.140331\n0    2022-04  4457.30           -0.016138           0.066041\n\n[627 rows x 4 columns]",
      "text/html": "<div>\n<style scoped>\n    .dataframe tbody tr th:only-of-type {\n        vertical-align: middle;\n    }\n\n    .dataframe tbody tr th {\n        vertical-align: top;\n    }\n\n    .dataframe thead th {\n        text-align: right;\n    }\n</style>\n<table border=\"1\" class=\"dataframe\">\n  <thead>\n    <tr style=\"text-align: right;\">\n      <th></th>\n      <th>Date</th>\n      <th>Value</th>\n      <th>ChangePercentMonth</th>\n      <th>ChangePercentYear</th>\n    </tr>\n  </thead>\n  <tbody>\n    <tr>\n      <th>626</th>\n      <td>1970-02</td>\n      <td>89.50</td>\n      <td>NaN</td>\n      <td>NaN</td>\n    </tr>\n    <tr>\n      <th>625</th>\n      <td>1970-03</td>\n      <td>89.63</td>\n      <td>0.001453</td>\n      <td>NaN</td>\n    </tr>\n    <tr>\n      <th>624</th>\n      <td>1970-04</td>\n      <td>81.52</td>\n      <td>-0.090483</td>\n      <td>NaN</td>\n    </tr>\n    <tr>\n      <th>623</th>\n      <td>1970-05</td>\n      <td>76.55</td>\n      <td>-0.060967</td>\n      <td>NaN</td>\n    </tr>\n    <tr>\n      <th>622</th>\n      <td>1970-06</td>\n      <td>72.72</td>\n      <td>-0.050033</td>\n      <td>NaN</td>\n    </tr>\n    <tr>\n      <th>...</th>\n      <td>...</td>\n      <td>...</td>\n      <td>...</td>\n      <td>...</td>\n    </tr>\n    <tr>\n      <th>4</th>\n      <td>2021-12</td>\n      <td>4766.18</td>\n      <td>0.043613</td>\n      <td>0.268927</td>\n    </tr>\n    <tr>\n      <th>3</th>\n      <td>2022-01</td>\n      <td>4515.55</td>\n      <td>-0.052585</td>\n      <td>0.215740</td>\n    </tr>\n    <tr>\n      <th>2</th>\n      <td>2022-02</td>\n      <td>4373.79</td>\n      <td>-0.031394</td>\n      <td>0.147630</td>\n    </tr>\n    <tr>\n      <th>1</th>\n      <td>2022-03</td>\n      <td>4530.41</td>\n      <td>0.035809</td>\n      <td>0.140331</td>\n    </tr>\n    <tr>\n      <th>0</th>\n      <td>2022-04</td>\n      <td>4457.30</td>\n      <td>-0.016138</td>\n      <td>0.066041</td>\n    </tr>\n  </tbody>\n</table>\n<p>627 rows × 4 columns</p>\n</div>"
     },
     "metadata": {}
    }
   ]
  },
  {
   "cell_type": "code",
   "metadata": {
    "cell_id": "9050a4bdad4d406b80a00edb0305e31d",
    "tags": [],
    "deepnote_to_be_reexecuted": false,
    "source_hash": "14e31ee6",
    "execution_start": 1650727307121,
    "execution_millis": 490,
    "deepnote_cell_type": "code",
    "deepnote_cell_height": 752.875,
    "deepnote_output_heights": [
     565.609375
    ]
   },
   "source": "# Plot S&P500 time series graph\nplt.figure(figsize=(15,10))\nplt.xticks(np.arange(0, 2000, 120)) # show x-axis ticks at every 10 years\nplt.yticks(np.arange(0, 5000, 500)) # show y-axis ticks at every $500\nplt.plot(sp_data_clean['Date'], sp_data_clean['Value'])\nplt.show()",
   "execution_count": null,
   "outputs": [
    {
     "data": {
      "text/plain": "<Figure size 1080x720 with 1 Axes>",
      "image/png": "[encoded data removed]"
     },
     "metadata": {
      "needs_background": "light",
      "image/png": {
       "width": 883,
       "height": 575
      }
     },
     "output_type": "display_data"
    }
   ]
  },
  {
   "cell_type": "markdown",
   "source": "### Bitcoin Price\n\nWhile Bitcoin has been touted as the new \"digital gold\", many in the financial community are still sceptical as to whether it is a safe store of value during times of inflation. To provide context, investors typically buy more gold during times of inflation as a hedge since traditional currencies were pegged towards the gold standard. Despite the gold standard being abolished in many countries, investors still see the value of gold during times of inflation since many banks still hold on to gold reserves. As part of our analysis, we would like to study if Bitcoin has lived up to its name as a \"digital gold\" or \"digital safe haven\" during times of inflation.",
   "metadata": {
    "cell_id": "2207840efc084e78af411355af255571",
    "tags": [],
    "deepnote_cell_type": "markdown",
    "deepnote_cell_height": 190.046875
   }
  },
  {
   "cell_type": "code",
   "metadata": {
    "cell_id": "d89b2e673ecb412999c8e11e712ee618",
    "tags": [],
    "deepnote_to_be_reexecuted": false,
    "source_hash": "39118460",
    "execution_start": 1650727146392,
    "execution_millis": 32,
    "deepnote_cell_type": "code",
    "deepnote_cell_height": 447.96875
   },
   "source": "# Import bitcoin data and see the head\nbitcoin_data = pd.read_csv(\"bitcoin_monthly_data.csv\")\nbitcoin_data.head()",
   "execution_count": null,
   "outputs": [
    {
     "output_type": "execute_result",
     "execution_count": 34,
     "data": {
      "application/vnd.deepnote.dataframe.v3+json": {
       "column_count": 7,
       "row_count": 5,
       "columns": [
        {
         "name": "Date",
         "dtype": "object",
         "stats": {
          "unique_count": 5,
          "nan_count": 0,
          "categories": [
           {
            "name": "2014-10-01",
            "count": 1
           },
           {
            "name": "2014-11-01",
            "count": 1
           },
           {
            "name": "3 others",
            "count": 3
           }
          ]
         }
        },
        {
         "name": "Open",
         "dtype": "float64",
         "stats": {
          "unique_count": 5,
          "nan_count": 0,
          "min": "216.867004",
          "max": "387.427002",
          "histogram": [
           {
            "bin_start": 216.867004,
            "bin_end": 233.9230038,
            "count": 1
           },
           {
            "bin_start": 233.9230038,
            "bin_end": 250.9790036,
            "count": 0
           },
           {
            "bin_start": 250.9790036,
            "bin_end": 268.0350034,
            "count": 0
           },
           {
            "bin_start": 268.0350034,
            "bin_end": 285.09100320000005,
            "count": 0
           },
           {
            "bin_start": 285.09100320000005,
            "bin_end": 302.14700300000004,
            "count": 0
           },
           {
            "bin_start": 302.14700300000004,
            "bin_end": 319.20300280000004,
            "count": 0
           },
           {
            "bin_start": 319.20300280000004,
            "bin_end": 336.25900260000003,
            "count": 1
           },
           {
            "bin_start": 336.25900260000003,
            "bin_end": 353.3150024,
            "count": 1
           },
           {
            "bin_start": 353.3150024,
            "bin_end": 370.3710022,
            "count": 0
           },
           {
            "bin_start": 370.3710022,
            "bin_end": 387.427002,
            "count": 2
           }
          ]
         }
        },
        {
         "name": "High",
         "dtype": "float64",
         "stats": {
          "unique_count": 5,
          "nan_count": 0,
          "min": "265.610992",
          "max": "457.092987",
          "histogram": [
           {
            "bin_start": 265.610992,
            "bin_end": 284.7591915,
            "count": 1
           },
           {
            "bin_start": 284.7591915,
            "bin_end": 303.907391,
            "count": 0
           },
           {
            "bin_start": 303.907391,
            "bin_end": 323.0555905,
            "count": 1
           },
           {
            "bin_start": 323.0555905,
            "bin_end": 342.20379,
            "count": 0
           },
           {
            "bin_start": 342.20379,
            "bin_end": 361.3519895,
            "count": 0
           },
           {
            "bin_start": 361.3519895,
            "bin_end": 380.500189,
            "count": 0
           },
           {
            "bin_start": 380.500189,
            "bin_end": 399.6483885,
            "count": 1
           },
           {
            "bin_start": 399.6483885,
            "bin_end": 418.796588,
            "count": 1
           },
           {
            "bin_start": 418.796588,
            "bin_end": 437.94478749999996,
            "count": 0
           },
           {
            "bin_start": 437.94478749999996,
            "bin_end": 457.092987,
            "count": 1
           }
          ]
         }
        },
        {
         "name": "Low",
         "dtype": "float64",
         "stats": {
          "unique_count": 5,
          "nan_count": 0,
          "min": "171.509995",
          "max": "320.626007",
          "histogram": [
           {
            "bin_start": 171.509995,
            "bin_end": 186.4215962,
            "count": 1
           },
           {
            "bin_start": 186.4215962,
            "bin_end": 201.33319740000002,
            "count": 0
           },
           {
            "bin_start": 201.33319740000002,
            "bin_end": 216.24479860000002,
            "count": 1
           },
           {
            "bin_start": 216.24479860000002,
            "bin_end": 231.1563998,
            "count": 0
           },
           {
            "bin_start": 231.1563998,
            "bin_end": 246.068001,
            "count": 0
           },
           {
            "bin_start": 246.068001,
            "bin_end": 260.97960220000004,
            "count": 0
           },
           {
            "bin_start": 260.97960220000004,
            "bin_end": 275.8912034,
            "count": 0
           },
           {
            "bin_start": 275.8912034,
            "bin_end": 290.8028046,
            "count": 1
           },
           {
            "bin_start": 290.8028046,
            "bin_end": 305.7144058,
            "count": 1
           },
           {
            "bin_start": 305.7144058,
            "bin_end": 320.626007,
            "count": 1
           }
          ]
         }
        },
        {
         "name": "Close",
         "dtype": "float64",
         "stats": {
          "unique_count": 5,
          "nan_count": 0,
          "min": "217.464005",
          "max": "378.046997",
          "histogram": [
           {
            "bin_start": 217.464005,
            "bin_end": 233.52230419999998,
            "count": 1
           },
           {
            "bin_start": 233.52230419999998,
            "bin_end": 249.58060339999997,
            "count": 0
           },
           {
            "bin_start": 249.58060339999997,
            "bin_end": 265.6389026,
            "count": 1
           },
           {
            "bin_start": 265.6389026,
            "bin_end": 281.6972018,
            "count": 0
           },
           {
            "bin_start": 281.6972018,
            "bin_end": 297.755501,
            "count": 0
           },
           {
            "bin_start": 297.755501,
            "bin_end": 313.8138002,
            "count": 0
           },
           {
            "bin_start": 313.8138002,
            "bin_end": 329.8720994,
            "count": 1
           },
           {
            "bin_start": 329.8720994,
            "bin_end": 345.9303986,
            "count": 1
           },
           {
            "bin_start": 345.9303986,
            "bin_end": 361.98869779999995,
            "count": 0
           },
           {
            "bin_start": 361.98869779999995,
            "bin_end": 378.046997,
            "count": 1
           }
          ]
         }
        },
        {
         "name": "Adj Close",
         "dtype": "float64",
         "stats": {
          "unique_count": 5,
          "nan_count": 0,
          "min": "217.464005",
          "max": "378.046997",
          "histogram": [
           {
            "bin_start": 217.464005,
            "bin_end": 233.52230419999998,
            "count": 1
           },
           {
            "bin_start": 233.52230419999998,
            "bin_end": 249.58060339999997,
            "count": 0
           },
           {
            "bin_start": 249.58060339999997,
            "bin_end": 265.6389026,
            "count": 1
           },
           {
            "bin_start": 265.6389026,
            "bin_end": 281.6972018,
            "count": 0
           },
           {
            "bin_start": 281.6972018,
            "bin_end": 297.755501,
            "count": 0
           },
           {
            "bin_start": 297.755501,
            "bin_end": 313.8138002,
            "count": 0
           },
           {
            "bin_start": 313.8138002,
            "bin_end": 329.8720994,
            "count": 1
           },
           {
            "bin_start": 329.8720994,
            "bin_end": 345.9303986,
            "count": 1
           },
           {
            "bin_start": 345.9303986,
            "bin_end": 361.98869779999995,
            "count": 0
           },
           {
            "bin_start": 361.98869779999995,
            "bin_end": 378.046997,
            "count": 1
           }
          ]
         }
        },
        {
         "name": "Volume",
         "dtype": "int64",
         "stats": {
          "unique_count": 5,
          "nan_count": 0,
          "min": "553102310",
          "max": "1098811912",
          "histogram": [
           {
            "bin_start": 553102310,
            "bin_end": 607673270.2,
            "count": 1
           },
           {
            "bin_start": 607673270.2,
            "bin_end": 662244230.4,
            "count": 1
           },
           {
            "bin_start": 662244230.4,
            "bin_end": 716815190.6,
            "count": 1
           },
           {
            "bin_start": 716815190.6,
            "bin_end": 771386150.8,
            "count": 0
           },
           {
            "bin_start": 771386150.8,
            "bin_end": 825957111,
            "count": 0
           },
           {
            "bin_start": 825957111,
            "bin_end": 880528071.2,
            "count": 0
           },
           {
            "bin_start": 880528071.2,
            "bin_end": 935099031.4000001,
            "count": 1
           },
           {
            "bin_start": 935099031.4000001,
            "bin_end": 989669991.6,
            "count": 0
           },
           {
            "bin_start": 989669991.6,
            "bin_end": 1044240951.8,
            "count": 0
           },
           {
            "bin_start": 1044240951.8,
            "bin_end": 1098811912,
            "count": 1
           }
          ]
         }
        },
        {
         "name": "_deepnote_index_column",
         "dtype": "int64"
        }
       ],
       "rows": [
        {
         "Date": "2014-10-01",
         "Open": 387.427002,
         "High": 411.697998,
         "Low": 289.29599,
         "Close": 338.321014,
         "Adj Close": 338.321014,
         "Volume": 902994450,
         "_deepnote_index_column": 0
        },
        {
         "Date": "2014-11-01",
         "Open": 338.649994,
         "High": 457.092987,
         "Low": 320.626007,
         "Close": 378.046997,
         "Adj Close": 378.046997,
         "Volume": 659733360,
         "_deepnote_index_column": 1
        },
        {
         "Date": "2014-12-01",
         "Open": 378.248993,
         "High": 384.037994,
         "Low": 304.231995,
         "Close": 320.192993,
         "Adj Close": 320.192993,
         "Volume": 553102310,
         "_deepnote_index_column": 2
        },
        {
         "Date": "2015-01-01",
         "Open": 320.434998,
         "High": 320.434998,
         "Low": 171.509995,
         "Close": 217.464005,
         "Adj Close": 217.464005,
         "Volume": 1098811912,
         "_deepnote_index_column": 3
        },
        {
         "Date": "2015-02-01",
         "Open": 216.867004,
         "High": 265.610992,
         "Low": 212.014999,
         "Close": 254.263,
         "Adj Close": 254.263,
         "Volume": 711518700,
         "_deepnote_index_column": 4
        }
       ]
      },
      "text/plain": "         Date        Open        High         Low       Close   Adj Close  \\\n0  2014-10-01  387.427002  411.697998  289.295990  338.321014  338.321014   \n1  2014-11-01  338.649994  457.092987  320.626007  378.046997  378.046997   \n2  2014-12-01  378.248993  384.037994  304.231995  320.192993  320.192993   \n3  2015-01-01  320.434998  320.434998  171.509995  217.464005  217.464005   \n4  2015-02-01  216.867004  265.610992  212.014999  254.263000  254.263000   \n\n       Volume  \n0   902994450  \n1   659733360  \n2   553102310  \n3  1098811912  \n4   711518700  ",
      "text/html": "<div>\n<style scoped>\n    .dataframe tbody tr th:only-of-type {\n        vertical-align: middle;\n    }\n\n    .dataframe tbody tr th {\n        vertical-align: top;\n    }\n\n    .dataframe thead th {\n        text-align: right;\n    }\n</style>\n<table border=\"1\" class=\"dataframe\">\n  <thead>\n    <tr style=\"text-align: right;\">\n      <th></th>\n      <th>Date</th>\n      <th>Open</th>\n      <th>High</th>\n      <th>Low</th>\n      <th>Close</th>\n      <th>Adj Close</th>\n      <th>Volume</th>\n    </tr>\n  </thead>\n  <tbody>\n    <tr>\n      <th>0</th>\n      <td>2014-10-01</td>\n      <td>387.427002</td>\n      <td>411.697998</td>\n      <td>289.295990</td>\n      <td>338.321014</td>\n      <td>338.321014</td>\n      <td>902994450</td>\n    </tr>\n    <tr>\n      <th>1</th>\n      <td>2014-11-01</td>\n      <td>338.649994</td>\n      <td>457.092987</td>\n      <td>320.626007</td>\n      <td>378.046997</td>\n      <td>378.046997</td>\n      <td>659733360</td>\n    </tr>\n    <tr>\n      <th>2</th>\n      <td>2014-12-01</td>\n      <td>378.248993</td>\n      <td>384.037994</td>\n      <td>304.231995</td>\n      <td>320.192993</td>\n      <td>320.192993</td>\n      <td>553102310</td>\n    </tr>\n    <tr>\n      <th>3</th>\n      <td>2015-01-01</td>\n      <td>320.434998</td>\n      <td>320.434998</td>\n      <td>171.509995</td>\n      <td>217.464005</td>\n      <td>217.464005</td>\n      <td>1098811912</td>\n    </tr>\n    <tr>\n      <th>4</th>\n      <td>2015-02-01</td>\n      <td>216.867004</td>\n      <td>265.610992</td>\n      <td>212.014999</td>\n      <td>254.263000</td>\n      <td>254.263000</td>\n      <td>711518700</td>\n    </tr>\n  </tbody>\n</table>\n</div>"
     },
     "metadata": {}
    }
   ]
  },
  {
   "cell_type": "code",
   "metadata": {
    "cell_id": "8e11ed6febd44b76a5e032b4d9f94ba7",
    "tags": [],
    "deepnote_to_be_reexecuted": false,
    "source_hash": "e3d3574",
    "execution_start": 1650727146431,
    "execution_millis": 37447681,
    "deepnote_cell_type": "code",
    "deepnote_cell_height": 136.4375,
    "deepnote_output_heights": [
     21.171875
    ]
   },
   "source": "# Look at the shape of our data\nbitcoin_data.shape",
   "execution_count": null,
   "outputs": [
    {
     "output_type": "execute_result",
     "execution_count": 35,
     "data": {
      "text/plain": "(92, 7)"
     },
     "metadata": {}
    }
   ]
  },
  {
   "cell_type": "code",
   "metadata": {
    "cell_id": "96a8b41cc2ee48ec8880bbdce42ae894",
    "tags": [],
    "deepnote_to_be_reexecuted": false,
    "source_hash": "9009f6c2",
    "execution_start": 1650727146466,
    "execution_millis": 8,
    "deepnote_table_state": {
     "pageSize": 10,
     "pageIndex": 0,
     "filters": [],
     "sortBy": []
    },
    "deepnote_table_loading": false,
    "deepnote_cell_type": "code",
    "deepnote_cell_height": 744.25
   },
   "source": "# Clean bitcoin data to where price is now the average between the high and low prices for the month\nbitcoin_data['Value'] = (bitcoin_data['High'] + bitcoin_data['Low']) / 2\nbitcoin_data_clean = pd.DataFrame(bitcoin_data[['Date','Value']])\n# Clean bitcoin data to have date in %Y-%m format\nbitcoin_data_clean = df_dates_monthly(bitcoin_data_clean)\n# Clean data to have monthly and yearly percentage changes\nbitcoin_data_clean = df_change_percent(bitcoin_data_clean)\n# Show cleaned data\nbitcoin_data_clean",
   "execution_count": null,
   "outputs": [
    {
     "output_type": "execute_result",
     "execution_count": 36,
     "data": {
      "application/vnd.deepnote.dataframe.v3+json": {
       "column_count": 4,
       "row_count": 92,
       "columns": [
        {
         "name": "Date",
         "dtype": "object",
         "stats": {
          "unique_count": 91,
          "nan_count": 0,
          "categories": [
           {
            "name": "2022-04",
            "count": 2
           },
           {
            "name": "2014-10",
            "count": 1
           },
           {
            "name": "89 others",
            "count": 89
           }
          ]
         }
        },
        {
         "name": "Value",
         "dtype": "float64",
         "stats": {
          "unique_count": 92,
          "nan_count": 0,
          "min": "238.1884995",
          "max": "61179.6953125",
          "histogram": [
           {
            "bin_start": 238.1884995,
            "bin_end": 6332.3391808,
            "count": 43
           },
           {
            "bin_start": 6332.3391808,
            "bin_end": 12426.4898621,
            "count": 28
           },
           {
            "bin_start": 12426.4898621,
            "bin_end": 18520.640543399997,
            "count": 3
           },
           {
            "bin_start": 18520.640543399997,
            "bin_end": 24614.7912247,
            "count": 1
           },
           {
            "bin_start": 24614.7912247,
            "bin_end": 30708.941906,
            "count": 0
           },
           {
            "bin_start": 30708.941906,
            "bin_end": 36803.092587299994,
            "count": 3
           },
           {
            "bin_start": 36803.092587299994,
            "bin_end": 42897.243268599996,
            "count": 4
           },
           {
            "bin_start": 42897.243268599996,
            "bin_end": 48991.3939499,
            "count": 5
           },
           {
            "bin_start": 48991.3939499,
            "bin_end": 55085.5446312,
            "count": 2
           },
           {
            "bin_start": 55085.5446312,
            "bin_end": 61179.6953125,
            "count": 3
           }
          ]
         }
        },
        {
         "name": "ChangePercentMonth",
         "dtype": "float64",
         "stats": {
          "unique_count": 91,
          "nan_count": 1,
          "min": "-0.335904",
          "max": "0.748235",
          "histogram": [
           {
            "bin_start": -0.335904,
            "bin_end": -0.22749009999999997,
            "count": 5
           },
           {
            "bin_start": -0.22749009999999997,
            "bin_end": -0.1190762,
            "count": 8
           },
           {
            "bin_start": -0.1190762,
            "bin_end": -0.010662300000000013,
            "count": 16
           },
           {
            "bin_start": -0.010662300000000013,
            "bin_end": 0.0977516,
            "count": 27
           },
           {
            "bin_start": 0.0977516,
            "bin_end": 0.2061655,
            "count": 19
           },
           {
            "bin_start": 0.2061655,
            "bin_end": 0.31457939999999995,
            "count": 4
           },
           {
            "bin_start": 0.31457939999999995,
            "bin_end": 0.4229933,
            "count": 5
           },
           {
            "bin_start": 0.4229933,
            "bin_end": 0.5314072,
            "count": 3
           },
           {
            "bin_start": 0.5314072,
            "bin_end": 0.6398210999999999,
            "count": 2
           },
           {
            "bin_start": 0.6398210999999999,
            "bin_end": 0.748235,
            "count": 2
           }
          ]
         }
        },
        {
         "name": "ChangePercentYear",
         "dtype": "float64",
         "stats": {
          "unique_count": 80,
          "nan_count": 12,
          "min": "-0.748161",
          "max": "16.261451",
          "histogram": [
           {
            "bin_start": -0.748161,
            "bin_end": 0.9528002000000001,
            "count": 38
           },
           {
            "bin_start": 0.9528002000000001,
            "bin_end": 2.6537614,
            "count": 20
           },
           {
            "bin_start": 2.6537614,
            "bin_end": 4.3547226000000006,
            "count": 11
           },
           {
            "bin_start": 4.3547226000000006,
            "bin_end": 6.055683800000001,
            "count": 3
           },
           {
            "bin_start": 6.055683800000001,
            "bin_end": 7.756645000000001,
            "count": 5
           },
           {
            "bin_start": 7.756645000000001,
            "bin_end": 9.4576062,
            "count": 0
           },
           {
            "bin_start": 9.4576062,
            "bin_end": 11.1585674,
            "count": 1
           },
           {
            "bin_start": 11.1585674,
            "bin_end": 12.8595286,
            "count": 0
           },
           {
            "bin_start": 12.8595286,
            "bin_end": 14.560489800000001,
            "count": 1
           },
           {
            "bin_start": 14.560489800000001,
            "bin_end": 16.261451,
            "count": 1
           }
          ]
         }
        },
        {
         "name": "_deepnote_index_column",
         "dtype": "int64"
        }
       ],
       "rows": [
        {
         "Date": "2014-10",
         "Value": 350.496994,
         "ChangePercentMonth": "nan",
         "ChangePercentYear": "nan",
         "_deepnote_index_column": 0
        },
        {
         "Date": "2014-11",
         "Value": 388.85949700000003,
         "ChangePercentMonth": 0.109452,
         "ChangePercentYear": "nan",
         "_deepnote_index_column": 1
        },
        {
         "Date": "2014-12",
         "Value": 344.1349945,
         "ChangePercentMonth": -0.115015,
         "ChangePercentYear": "nan",
         "_deepnote_index_column": 2
        },
        {
         "Date": "2015-01",
         "Value": 245.9724965,
         "ChangePercentMonth": -0.285244,
         "ChangePercentYear": "nan",
         "_deepnote_index_column": 3
        },
        {
         "Date": "2015-02",
         "Value": 238.8129955,
         "ChangePercentMonth": -0.029107,
         "ChangePercentYear": "nan",
         "_deepnote_index_column": 4
        },
        {
         "Date": "2015-03",
         "Value": 268.27950250000004,
         "ChangePercentMonth": 0.123387,
         "ChangePercentYear": "nan",
         "_deepnote_index_column": 5
        },
        {
         "Date": "2015-04",
         "Value": 238.33599850000002,
         "ChangePercentMonth": -0.111613,
         "ChangePercentYear": "nan",
         "_deepnote_index_column": 6
        },
        {
         "Date": "2015-05",
         "Value": 238.1884995,
         "ChangePercentMonth": -0.000619,
         "ChangePercentYear": "nan",
         "_deepnote_index_column": 7
        },
        {
         "Date": "2015-06",
         "Value": 244.5815045,
         "ChangePercentMonth": 0.02684,
         "ChangePercentYear": "nan",
         "_deepnote_index_column": 8
        },
        {
         "Date": "2015-07",
         "Value": 283.9495085,
         "ChangePercentMonth": 0.160961,
         "ChangePercentYear": "nan",
         "_deepnote_index_column": 9
        }
       ]
      },
      "text/plain": "       Date         Value  ChangePercentMonth  ChangePercentYear\n0   2014-10    350.496994                 NaN                NaN\n1   2014-11    388.859497            0.109452                NaN\n2   2014-12    344.134995           -0.115015                NaN\n3   2015-01    245.972497           -0.285244                NaN\n4   2015-02    238.812995           -0.029107                NaN\n..      ...           ...                 ...                ...\n87  2022-01  40532.732422           -0.204588           0.147107\n88  2022-02  40060.195312           -0.011658          -0.116788\n89  2022-03  42673.519532            0.065235          -0.200863\n90  2022-04  43004.833985            0.007764          -0.232211\n91  2022-04  40506.048829           -0.058105          -0.101870\n\n[92 rows x 4 columns]",
      "text/html": "<div>\n<style scoped>\n    .dataframe tbody tr th:only-of-type {\n        vertical-align: middle;\n    }\n\n    .dataframe tbody tr th {\n        vertical-align: top;\n    }\n\n    .dataframe thead th {\n        text-align: right;\n    }\n</style>\n<table border=\"1\" class=\"dataframe\">\n  <thead>\n    <tr style=\"text-align: right;\">\n      <th></th>\n      <th>Date</th>\n      <th>Value</th>\n      <th>ChangePercentMonth</th>\n      <th>ChangePercentYear</th>\n    </tr>\n  </thead>\n  <tbody>\n    <tr>\n      <th>0</th>\n      <td>2014-10</td>\n      <td>350.496994</td>\n      <td>NaN</td>\n      <td>NaN</td>\n    </tr>\n    <tr>\n      <th>1</th>\n      <td>2014-11</td>\n      <td>388.859497</td>\n      <td>0.109452</td>\n      <td>NaN</td>\n    </tr>\n    <tr>\n      <th>2</th>\n      <td>2014-12</td>\n      <td>344.134995</td>\n      <td>-0.115015</td>\n      <td>NaN</td>\n    </tr>\n    <tr>\n      <th>3</th>\n      <td>2015-01</td>\n      <td>245.972497</td>\n      <td>-0.285244</td>\n      <td>NaN</td>\n    </tr>\n    <tr>\n      <th>4</th>\n      <td>2015-02</td>\n      <td>238.812995</td>\n      <td>-0.029107</td>\n      <td>NaN</td>\n    </tr>\n    <tr>\n      <th>...</th>\n      <td>...</td>\n      <td>...</td>\n      <td>...</td>\n      <td>...</td>\n    </tr>\n    <tr>\n      <th>87</th>\n      <td>2022-01</td>\n      <td>40532.732422</td>\n      <td>-0.204588</td>\n      <td>0.147107</td>\n    </tr>\n    <tr>\n      <th>88</th>\n      <td>2022-02</td>\n      <td>40060.195312</td>\n      <td>-0.011658</td>\n      <td>-0.116788</td>\n    </tr>\n    <tr>\n      <th>89</th>\n      <td>2022-03</td>\n      <td>42673.519532</td>\n      <td>0.065235</td>\n      <td>-0.200863</td>\n    </tr>\n    <tr>\n      <th>90</th>\n      <td>2022-04</td>\n      <td>43004.833985</td>\n      <td>0.007764</td>\n      <td>-0.232211</td>\n    </tr>\n    <tr>\n      <th>91</th>\n      <td>2022-04</td>\n      <td>40506.048829</td>\n      <td>-0.058105</td>\n      <td>-0.101870</td>\n    </tr>\n  </tbody>\n</table>\n<p>92 rows × 4 columns</p>\n</div>"
     },
     "metadata": {}
    }
   ]
  },
  {
   "cell_type": "code",
   "metadata": {
    "cell_id": "3f3113f95f1f473ab42412f55ad4eb22",
    "tags": [],
    "deepnote_to_be_reexecuted": false,
    "source_hash": "596237a6",
    "execution_start": 1650727146523,
    "execution_millis": 817,
    "deepnote_cell_type": "code",
    "deepnote_cell_height": 731.09375,
    "deepnote_output_heights": [
     561.8125
    ]
   },
   "source": "# Plot the bitcoin time series graph (of bitcoin price over time)\nplt.figure(figsize=(15,10))\nplt.xticks(np.arange(0, 100, 12)) # show x-axis ticks at every one year\nplt.plot(bitcoin_data_clean['Date'], bitcoin_data_clean['Value'])\nplt.show()",
   "execution_count": null,
   "outputs": [
    {
     "data": {
      "text/plain": "<Figure size 1080x720 with 1 Axes>",
      "image/png": "[encoded data removed]"
     },
     "metadata": {
      "needs_background": "light",
      "image/png": {
       "width": 889,
       "height": 575
      }
     },
     "output_type": "display_data"
    }
   ]
  },
  {
   "cell_type": "markdown",
   "source": "### CO2 Levels in Atmosphere\n\nAs part of another one of our \"cool factors\", we wanted to analyse if changes in CO2 levels are correlated to inflation. It will be interesting to see if changes in CO2 levels could indicate changes in levels of manufacturing, transportation, or other factors around the world. As these factors affecting CO2 change, it could perhaps give us some insight on how inflation numbers will be affected in the future.",
   "metadata": {
    "cell_id": "10bdccfefe324eaaa77a54a8e48065b3",
    "tags": [],
    "deepnote_cell_type": "markdown",
    "deepnote_cell_height": 167.671875
   }
  },
  {
   "cell_type": "code",
   "metadata": {
    "cell_id": "e68ad147c087442cb1ece24b0933fbfd",
    "tags": [],
    "deepnote_to_be_reexecuted": false,
    "source_hash": "57857476",
    "execution_start": 1650727146750,
    "execution_millis": 597,
    "deepnote_cell_type": "code",
    "deepnote_cell_height": 431.296875
   },
   "source": "# Import CO2 data and see the head\nco2_data = pd.read_csv(\"co2_monthly_data.csv\")\nco2_data.head()",
   "execution_count": null,
   "outputs": [
    {
     "output_type": "execute_result",
     "execution_count": 38,
     "data": {
      "application/vnd.deepnote.dataframe.v3+json": {
       "column_count": 3,
       "row_count": 5,
       "columns": [
        {
         "name": "Date",
         "dtype": "object",
         "stats": {
          "unique_count": 5,
          "nan_count": 0,
          "categories": [
           {
            "name": "1958-03-01",
            "count": 1
           },
           {
            "name": "1958-04-01",
            "count": 1
           },
           {
            "name": "3 others",
            "count": 3
           }
          ]
         }
        },
        {
         "name": "CO2",
         "dtype": "float64",
         "stats": {
          "unique_count": 5,
          "nan_count": 0,
          "min": "315.7",
          "max": "317.51",
          "histogram": [
           {
            "bin_start": 315.7,
            "bin_end": 315.881,
            "count": 2
           },
           {
            "bin_start": 315.881,
            "bin_end": 316.062,
            "count": 0
           },
           {
            "bin_start": 316.062,
            "bin_end": 316.243,
            "count": 0
           },
           {
            "bin_start": 316.243,
            "bin_end": 316.424,
            "count": 0
           },
           {
            "bin_start": 316.424,
            "bin_end": 316.605,
            "count": 0
           },
           {
            "bin_start": 316.605,
            "bin_end": 316.786,
            "count": 0
           },
           {
            "bin_start": 316.786,
            "bin_end": 316.967,
            "count": 0
           },
           {
            "bin_start": 316.967,
            "bin_end": 317.14799999999997,
            "count": 0
           },
           {
            "bin_start": 317.14799999999997,
            "bin_end": 317.329,
            "count": 1
           },
           {
            "bin_start": 317.329,
            "bin_end": 317.51,
            "count": 2
           }
          ]
         }
        },
        {
         "name": "Deseasonalised CO2",
         "dtype": "float64",
         "stats": {
          "unique_count": 5,
          "nan_count": 0,
          "min": "314.43",
          "max": "315.18",
          "histogram": [
           {
            "bin_start": 314.43,
            "bin_end": 314.505,
            "count": 1
           },
           {
            "bin_start": 314.505,
            "bin_end": 314.58,
            "count": 0
           },
           {
            "bin_start": 314.58,
            "bin_end": 314.65500000000003,
            "count": 0
           },
           {
            "bin_start": 314.65500000000003,
            "bin_end": 314.73,
            "count": 1
           },
           {
            "bin_start": 314.73,
            "bin_end": 314.805,
            "count": 0
           },
           {
            "bin_start": 314.805,
            "bin_end": 314.88,
            "count": 0
           },
           {
            "bin_start": 314.88,
            "bin_end": 314.955,
            "count": 0
           },
           {
            "bin_start": 314.955,
            "bin_end": 315.03000000000003,
            "count": 0
           },
           {
            "bin_start": 315.03000000000003,
            "bin_end": 315.105,
            "count": 0
           },
           {
            "bin_start": 315.105,
            "bin_end": 315.18,
            "count": 3
           }
          ]
         }
        },
        {
         "name": "_deepnote_index_column",
         "dtype": "int64"
        }
       ],
       "rows": [
        {
         "Date": "1958-03-01",
         "CO2": 315.7,
         "Deseasonalised CO2": 314.43,
         "_deepnote_index_column": 0
        },
        {
         "Date": "1958-04-01",
         "CO2": 317.45,
         "Deseasonalised CO2": 315.16,
         "_deepnote_index_column": 1
        },
        {
         "Date": "1958-05-01",
         "CO2": 317.51,
         "Deseasonalised CO2": 314.71,
         "_deepnote_index_column": 2
        },
        {
         "Date": "1958-06-01",
         "CO2": 317.24,
         "Deseasonalised CO2": 315.14,
         "_deepnote_index_column": 3
        },
        {
         "Date": "1958-07-01",
         "CO2": 315.86,
         "Deseasonalised CO2": 315.18,
         "_deepnote_index_column": 4
        }
       ]
      },
      "text/plain": "         Date     CO2  Deseasonalised CO2\n0  1958-03-01  315.70              314.43\n1  1958-04-01  317.45              315.16\n2  1958-05-01  317.51              314.71\n3  1958-06-01  317.24              315.14\n4  1958-07-01  315.86              315.18",
      "text/html": "<div>\n<style scoped>\n    .dataframe tbody tr th:only-of-type {\n        vertical-align: middle;\n    }\n\n    .dataframe tbody tr th {\n        vertical-align: top;\n    }\n\n    .dataframe thead th {\n        text-align: right;\n    }\n</style>\n<table border=\"1\" class=\"dataframe\">\n  <thead>\n    <tr style=\"text-align: right;\">\n      <th></th>\n      <th>Date</th>\n      <th>CO2</th>\n      <th>Deseasonalised CO2</th>\n    </tr>\n  </thead>\n  <tbody>\n    <tr>\n      <th>0</th>\n      <td>1958-03-01</td>\n      <td>315.70</td>\n      <td>314.43</td>\n    </tr>\n    <tr>\n      <th>1</th>\n      <td>1958-04-01</td>\n      <td>317.45</td>\n      <td>315.16</td>\n    </tr>\n    <tr>\n      <th>2</th>\n      <td>1958-05-01</td>\n      <td>317.51</td>\n      <td>314.71</td>\n    </tr>\n    <tr>\n      <th>3</th>\n      <td>1958-06-01</td>\n      <td>317.24</td>\n      <td>315.14</td>\n    </tr>\n    <tr>\n      <th>4</th>\n      <td>1958-07-01</td>\n      <td>315.86</td>\n      <td>315.18</td>\n    </tr>\n  </tbody>\n</table>\n</div>"
     },
     "metadata": {}
    }
   ]
  },
  {
   "cell_type": "code",
   "metadata": {
    "cell_id": "5c953e0237ba4f8fb6dd6ee30404d76d",
    "tags": [],
    "deepnote_to_be_reexecuted": false,
    "source_hash": "45f071d1",
    "execution_start": 1650727146796,
    "execution_millis": 37447598,
    "deepnote_cell_type": "code",
    "deepnote_cell_height": 136.4375,
    "deepnote_output_heights": [
     21.171875
    ]
   },
   "source": "# Look at the shape of our data\nco2_data.shape",
   "execution_count": null,
   "outputs": [
    {
     "output_type": "execute_result",
     "execution_count": 39,
     "data": {
      "text/plain": "(769, 3)"
     },
     "metadata": {}
    }
   ]
  },
  {
   "cell_type": "code",
   "metadata": {
    "cell_id": "b615a505e11f485ba8fc6c756be4bbc8",
    "tags": [],
    "deepnote_to_be_reexecuted": false,
    "source_hash": "4d4377b5",
    "execution_start": 1650727146797,
    "execution_millis": 555,
    "deepnote_cell_type": "code",
    "deepnote_cell_height": 99.15625
   },
   "source": "# Clean CO2 data to have date in %Y-%m format\nco2_data_clean = df_dates_monthly(co2_data)",
   "execution_count": null,
   "outputs": []
  },
  {
   "cell_type": "code",
   "metadata": {
    "cell_id": "cd31fa23b56e4e13ab28f20aba57b8e5",
    "tags": [],
    "deepnote_to_be_reexecuted": false,
    "source_hash": "1342033c",
    "execution_start": 1650727146798,
    "execution_millis": 629,
    "owner_user_id": "62d920bd-8e66-4b5e-9422-43d711ef71cb",
    "deepnote_cell_type": "code",
    "deepnote_cell_height": 774.734375,
    "deepnote_output_heights": [
     569.46875
    ]
   },
   "source": "# Plot 2 lines of CO2 measurements (accurate measurement in blue, and deseasonalised measurements in orange)\nplt.figure(figsize=(15,10))\nplt.xticks(np.arange(0, 1000, 120)) # show x-axis ticks at every ten years\nplt.plot(co2_data_clean['Date'], co2_data_clean['CO2'], label='CO2')\nplt.plot(co2_data_clean['Date'], co2_data_clean['Deseasonalised CO2'], label='Deseasonalised CO2')\nplt.legend()\nplt.show()",
   "execution_count": null,
   "outputs": [
    {
     "data": {
      "text/plain": "<Figure size 1080x720 with 1 Axes>",
      "image/png": "[encoded data removed]"
     },
     "metadata": {
      "needs_background": "light",
      "image/png": {
       "width": 877,
       "height": 575
      }
     },
     "output_type": "display_data"
    }
   ]
  },
  {
   "cell_type": "code",
   "metadata": {
    "cell_id": "ec00dee46cc6448385e5c5f5bf921615",
    "tags": [],
    "deepnote_to_be_reexecuted": false,
    "source_hash": "919f7bc6",
    "execution_start": 1650727147266,
    "execution_millis": 161,
    "deepnote_cell_type": "code",
    "deepnote_cell_height": 708.234375
   },
   "source": "# For the purpose of our data cleaning, we will only look at the deseasonlised values.\nco2_data_clean = pd.DataFrame(co2_data_clean[['Date', 'Deseasonalised CO2']])\nco2_data_clean.columns = ['Date', 'Value']\n# Clean data to have monthly and yearly percentage changes\nco2_data_clean = df_change_percent(co2_data_clean)\n# Show cleaned data\nco2_data_clean",
   "execution_count": null,
   "outputs": [
    {
     "output_type": "execute_result",
     "execution_count": 42,
     "data": {
      "application/vnd.deepnote.dataframe.v3+json": {
       "column_count": 4,
       "row_count": 769,
       "columns": [
        {
         "name": "Date",
         "dtype": "object",
         "stats": {
          "unique_count": 769,
          "nan_count": 0,
          "categories": [
           {
            "name": "1958-03",
            "count": 1
           },
           {
            "name": "1958-04",
            "count": 1
           },
           {
            "name": "767 others",
            "count": 767
           }
          ]
         }
        },
        {
         "name": "Value",
         "dtype": "float64",
         "stats": {
          "unique_count": 741,
          "nan_count": 0,
          "min": "314.43",
          "max": "418.36",
          "histogram": [
           {
            "bin_start": 314.43,
            "bin_end": 324.823,
            "count": 137
           },
           {
            "bin_start": 324.823,
            "bin_end": 335.216,
            "count": 106
           },
           {
            "bin_start": 335.216,
            "bin_end": 345.60900000000004,
            "count": 79
           },
           {
            "bin_start": 345.60900000000004,
            "bin_end": 356.002,
            "count": 81
           },
           {
            "bin_start": 356.002,
            "bin_end": 366.395,
            "count": 79
           },
           {
            "bin_start": 366.395,
            "bin_end": 376.788,
            "count": 66
           },
           {
            "bin_start": 376.788,
            "bin_end": 387.18100000000004,
            "count": 65
           },
           {
            "bin_start": 387.18100000000004,
            "bin_end": 397.574,
            "count": 57
           },
           {
            "bin_start": 397.574,
            "bin_end": 407.967,
            "count": 51
           },
           {
            "bin_start": 407.967,
            "bin_end": 418.36,
            "count": 48
           }
          ]
         }
        },
        {
         "name": "ChangePercentMonth",
         "dtype": "float64",
         "stats": {
          "unique_count": 644,
          "nan_count": 1,
          "min": "-0.00251",
          "max": "0.003173",
          "histogram": [
           {
            "bin_start": -0.00251,
            "bin_end": -0.0019417,
            "count": 4
           },
           {
            "bin_start": -0.0019417,
            "bin_end": -0.0013733999999999999,
            "count": 15
           },
           {
            "bin_start": -0.0013733999999999999,
            "bin_end": -0.0008050999999999998,
            "count": 53
           },
           {
            "bin_start": -0.0008050999999999998,
            "bin_end": -0.00023679999999999968,
            "count": 116
           },
           {
            "bin_start": -0.00023679999999999968,
            "bin_end": 0.0003315000000000002,
            "count": 177
           },
           {
            "bin_start": 0.0003315000000000002,
            "bin_end": 0.0008998000000000005,
            "count": 192
           },
           {
            "bin_start": 0.0008998000000000005,
            "bin_end": 0.0014681000000000008,
            "count": 140
           },
           {
            "bin_start": 0.0014681000000000008,
            "bin_end": 0.0020364000000000007,
            "count": 50
           },
           {
            "bin_start": 0.0020364000000000007,
            "bin_end": 0.0026047000000000006,
            "count": 16
           },
           {
            "bin_start": 0.0026047000000000006,
            "bin_end": 0.003173,
            "count": 5
           }
          ]
         }
        },
        {
         "name": "ChangePercentYear",
         "dtype": "float64",
         "stats": {
          "unique_count": 707,
          "nan_count": 12,
          "min": "-0.001105",
          "max": "0.010762",
          "histogram": [
           {
            "bin_start": -0.001105,
            "bin_end": 0.00008170000000000009,
            "count": 10
           },
           {
            "bin_start": 0.00008170000000000009,
            "bin_end": 0.0012684000000000003,
            "count": 35
           },
           {
            "bin_start": 0.0012684000000000003,
            "bin_end": 0.0024551000000000004,
            "count": 84
           },
           {
            "bin_start": 0.0024551000000000004,
            "bin_end": 0.0036418000000000006,
            "count": 128
           },
           {
            "bin_start": 0.0036418000000000006,
            "bin_end": 0.004828500000000001,
            "count": 180
           },
           {
            "bin_start": 0.004828500000000001,
            "bin_end": 0.006015200000000001,
            "count": 158
           },
           {
            "bin_start": 0.006015200000000001,
            "bin_end": 0.007201900000000001,
            "count": 104
           },
           {
            "bin_start": 0.007201900000000001,
            "bin_end": 0.008388600000000001,
            "count": 39
           },
           {
            "bin_start": 0.008388600000000001,
            "bin_end": 0.009575300000000002,
            "count": 13
           },
           {
            "bin_start": 0.009575300000000002,
            "bin_end": 0.010762,
            "count": 6
           }
          ]
         }
        },
        {
         "name": "_deepnote_index_column",
         "dtype": "int64"
        }
       ],
       "rows": [
        {
         "Date": "1958-03",
         "Value": 314.43,
         "ChangePercentMonth": "nan",
         "ChangePercentYear": "nan",
         "_deepnote_index_column": 0
        },
        {
         "Date": "1958-04",
         "Value": 315.16,
         "ChangePercentMonth": 0.002322,
         "ChangePercentYear": "nan",
         "_deepnote_index_column": 1
        },
        {
         "Date": "1958-05",
         "Value": 314.71,
         "ChangePercentMonth": -0.001428,
         "ChangePercentYear": "nan",
         "_deepnote_index_column": 2
        },
        {
         "Date": "1958-06",
         "Value": 315.14,
         "ChangePercentMonth": 0.001366,
         "ChangePercentYear": "nan",
         "_deepnote_index_column": 3
        },
        {
         "Date": "1958-07",
         "Value": 315.18,
         "ChangePercentMonth": 0.000127,
         "ChangePercentYear": "nan",
         "_deepnote_index_column": 4
        },
        {
         "Date": "1958-08",
         "Value": 316.18,
         "ChangePercentMonth": 0.003173,
         "ChangePercentYear": "nan",
         "_deepnote_index_column": 5
        },
        {
         "Date": "1958-09",
         "Value": 316.08,
         "ChangePercentMonth": -0.000316,
         "ChangePercentYear": "nan",
         "_deepnote_index_column": 6
        },
        {
         "Date": "1958-10",
         "Value": 315.41,
         "ChangePercentMonth": -0.00212,
         "ChangePercentYear": "nan",
         "_deepnote_index_column": 7
        },
        {
         "Date": "1958-11",
         "Value": 315.2,
         "ChangePercentMonth": -0.000666,
         "ChangePercentYear": "nan",
         "_deepnote_index_column": 8
        },
        {
         "Date": "1958-12",
         "Value": 315.43,
         "ChangePercentMonth": 0.00073,
         "ChangePercentYear": "nan",
         "_deepnote_index_column": 9
        }
       ]
      },
      "text/plain": "        Date   Value  ChangePercentMonth  ChangePercentYear\n0    1958-03  314.43                 NaN                NaN\n1    1958-04  315.16            0.002322                NaN\n2    1958-05  314.71           -0.001428                NaN\n3    1958-06  315.14            0.001366                NaN\n4    1958-07  315.18            0.000127                NaN\n..       ...     ...                 ...                ...\n764  2021-11  417.05           -0.000575           0.004528\n765  2021-12  417.46            0.000983           0.005903\n766  2022-01  417.84            0.000910           0.006407\n767  2022-02  418.36            0.001244           0.006060\n768  2022-03  417.31           -0.002510           0.002787\n\n[769 rows x 4 columns]",
      "text/html": "<div>\n<style scoped>\n    .dataframe tbody tr th:only-of-type {\n        vertical-align: middle;\n    }\n\n    .dataframe tbody tr th {\n        vertical-align: top;\n    }\n\n    .dataframe thead th {\n        text-align: right;\n    }\n</style>\n<table border=\"1\" class=\"dataframe\">\n  <thead>\n    <tr style=\"text-align: right;\">\n      <th></th>\n      <th>Date</th>\n      <th>Value</th>\n      <th>ChangePercentMonth</th>\n      <th>ChangePercentYear</th>\n    </tr>\n  </thead>\n  <tbody>\n    <tr>\n      <th>0</th>\n      <td>1958-03</td>\n      <td>314.43</td>\n      <td>NaN</td>\n      <td>NaN</td>\n    </tr>\n    <tr>\n      <th>1</th>\n      <td>1958-04</td>\n      <td>315.16</td>\n      <td>0.002322</td>\n      <td>NaN</td>\n    </tr>\n    <tr>\n      <th>2</th>\n      <td>1958-05</td>\n      <td>314.71</td>\n      <td>-0.001428</td>\n      <td>NaN</td>\n    </tr>\n    <tr>\n      <th>3</th>\n      <td>1958-06</td>\n      <td>315.14</td>\n      <td>0.001366</td>\n      <td>NaN</td>\n    </tr>\n    <tr>\n      <th>4</th>\n      <td>1958-07</td>\n      <td>315.18</td>\n      <td>0.000127</td>\n      <td>NaN</td>\n    </tr>\n    <tr>\n      <th>...</th>\n      <td>...</td>\n      <td>...</td>\n      <td>...</td>\n      <td>...</td>\n    </tr>\n    <tr>\n      <th>764</th>\n      <td>2021-11</td>\n      <td>417.05</td>\n      <td>-0.000575</td>\n      <td>0.004528</td>\n    </tr>\n    <tr>\n      <th>765</th>\n      <td>2021-12</td>\n      <td>417.46</td>\n      <td>0.000983</td>\n      <td>0.005903</td>\n    </tr>\n    <tr>\n      <th>766</th>\n      <td>2022-01</td>\n      <td>417.84</td>\n      <td>0.000910</td>\n      <td>0.006407</td>\n    </tr>\n    <tr>\n      <th>767</th>\n      <td>2022-02</td>\n      <td>418.36</td>\n      <td>0.001244</td>\n      <td>0.006060</td>\n    </tr>\n    <tr>\n      <th>768</th>\n      <td>2022-03</td>\n      <td>417.31</td>\n      <td>-0.002510</td>\n      <td>0.002787</td>\n    </tr>\n  </tbody>\n</table>\n<p>769 rows × 4 columns</p>\n</div>"
     },
     "metadata": {}
    }
   ]
  },
  {
   "cell_type": "markdown",
   "source": "### Export to CSV\n\nLastly, let's export all the cleaned data to CSV so that we can conveniently import them as dataframes into the next parts of our project.",
   "metadata": {
    "cell_id": "bcddf14c36894d03b6f6660c33468604",
    "tags": [],
    "deepnote_cell_type": "markdown",
    "deepnote_cell_height": 122.90625
   }
  },
  {
   "cell_type": "code",
   "metadata": {
    "cell_id": "89e8ff0b0c8b4365b1d51ec412aad8c7",
    "tags": [],
    "deepnote_to_be_reexecuted": false,
    "source_hash": "68b52d60",
    "execution_start": 1650727147296,
    "execution_millis": 88,
    "owner_user_id": "8e732588-5d01-4915-906d-8bc412c76e3b",
    "deepnote_cell_type": "code",
    "deepnote_cell_height": 261.15625
   },
   "source": "# Export to CSV\ncpi_data_clean.to_csv('cleaned_cpi.csv', index=False)\nbie_clean.to_csv('cleaned_bie.csv', index=False)\noil_clean.to_csv('cleaned_oil.csv', index=False)\nppi_data_clean.to_csv('cleaned_ppi.csv', index=False)\nunemp_data_clean.to_csv('cleaned_unemp.csv', index=False)\nbitcoin_data_clean.to_csv('cleaned_bitcoin.csv', index=False)\nco2_data_clean.to_csv('cleaned_co2.csv', index=False)\nneer_data_clean.to_csv('cleaned_neer.csv', index=False)\nlagged_cpi_data_clean.to_csv('cleaned_lagged_cpi.csv', index=False)\nsp_data_clean.to_csv('cleaned_sp.csv', index=False)",
   "execution_count": null,
   "outputs": []
  },
  {
   "cell_type": "markdown",
   "source": "<a style='text-decoration:none;line-height:16px;display:flex;color:#5B5B62;padding:10px;justify-content:end;' href='https://deepnote.com?utm_source=created-in-deepnote-cell&projectId=3a5c6fda-a4e1-48de-b064-2ed8d6843cc5' target=\"_blank\">\n<img alt='Created in deepnote.com' style='display:inline;max-height:16px;margin:0px;margin-right:7.5px;' src='data:image/svg+xml;base64,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' > </img>\nCreated in <span style='font-weight:600;margin-left:4px;'>Deepnote</span></a>",
   "metadata": {
    "tags": [],
    "created_in_deepnote_cell": true,
    "deepnote_cell_type": "markdown"
   }
  }
 ],
 "nbformat": 4,
 "nbformat_minor": 2,
 "metadata": {
  "orig_nbformat": 2,
  "deepnote": {},
  "deepnote_notebook_id": "3a809ddf-5d61-4f36-97c7-c350d530666e",
  "deepnote_execution_queue": []
 }
}